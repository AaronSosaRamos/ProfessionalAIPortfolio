{
  "cells": [
    {
      "cell_type": "markdown",
      "metadata": {
        "id": "hD5iRr5jdeWw"
      },
      "source": [
        "# Project 3 - Hotel KPIs and Critical Dimensions Models - Wilfredo Aaron Sosa Ramos"
      ]
    },
    {
      "cell_type": "markdown",
      "metadata": {
        "id": "uWvf72XRdwuO"
      },
      "source": [
        "# Connect the Project to Google Drive"
      ]
    },
    {
      "cell_type": "code",
      "execution_count": 86,
      "metadata": {
        "colab": {
          "base_uri": "https://localhost:8080/"
        },
        "id": "QkrWmgiaczlW",
        "outputId": "51d4620f-36a1-4395-870a-7fb1c30cc2a1"
      },
      "outputs": [
        {
          "output_type": "stream",
          "name": "stdout",
          "text": [
            "Mounted at /content/drive\n"
          ]
        }
      ],
      "source": [
        "#Mount the google drive connection to our dataset\n",
        "from google.colab import drive\n",
        "drive.mount('/content/drive', force_remount=True)"
      ]
    },
    {
      "cell_type": "markdown",
      "metadata": {
        "id": "piInj5uad9X1"
      },
      "source": [
        "# Phase 1: Extract"
      ]
    },
    {
      "cell_type": "markdown",
      "metadata": {
        "id": "Z2DvSZ6FeHIo"
      },
      "source": [
        "# Load our Dataset"
      ]
    },
    {
      "cell_type": "code",
      "execution_count": 87,
      "metadata": {
        "id": "ugRxfsVaeKyt"
      },
      "outputs": [],
      "source": [
        "import pandas as pd\n",
        "df = pd.read_csv('/content/drive/My Drive/AI/Project 3/dataset/hotel_booking_data_cleaned.csv')"
      ]
    },
    {
      "cell_type": "markdown",
      "metadata": {
        "id": "3X2mtJq2eOfp"
      },
      "source": [
        "# Check out Dataset"
      ]
    },
    {
      "cell_type": "code",
      "execution_count": 88,
      "metadata": {
        "colab": {
          "base_uri": "https://localhost:8080/",
          "height": 617
        },
        "id": "sqdb5HguePs4",
        "outputId": "61574efc-e5d4-44a3-c9cf-9346ffe1bb81"
      },
      "outputs": [
        {
          "output_type": "execute_result",
          "data": {
            "text/plain": [
              "               hotel  is_canceled  lead_time  arrival_date_year  \\\n",
              "0       Resort Hotel            0        342               2015   \n",
              "1       Resort Hotel            0        737               2015   \n",
              "2       Resort Hotel            0          7               2015   \n",
              "3       Resort Hotel            0         13               2015   \n",
              "4       Resort Hotel            0         14               2015   \n",
              "...              ...          ...        ...                ...   \n",
              "119385    City Hotel            0         23               2017   \n",
              "119386    City Hotel            0        102               2017   \n",
              "119387    City Hotel            0         34               2017   \n",
              "119388    City Hotel            0        109               2017   \n",
              "119389    City Hotel            0        205               2017   \n",
              "\n",
              "       arrival_date_month  arrival_date_week_number  \\\n",
              "0                    July                        27   \n",
              "1                    July                        27   \n",
              "2                    July                        27   \n",
              "3                    July                        27   \n",
              "4                    July                        27   \n",
              "...                   ...                       ...   \n",
              "119385             August                        35   \n",
              "119386             August                        35   \n",
              "119387             August                        35   \n",
              "119388             August                        35   \n",
              "119389             August                        35   \n",
              "\n",
              "        arrival_date_day_of_month  stays_in_weekend_nights  \\\n",
              "0                               1                        0   \n",
              "1                               1                        0   \n",
              "2                               1                        0   \n",
              "3                               1                        0   \n",
              "4                               1                        0   \n",
              "...                           ...                      ...   \n",
              "119385                         30                        2   \n",
              "119386                         31                        2   \n",
              "119387                         31                        2   \n",
              "119388                         31                        2   \n",
              "119389                         29                        2   \n",
              "\n",
              "        stays_in_week_nights  adults  ...  deposit_type  agent company  \\\n",
              "0                          0       2  ...    No Deposit    NaN     NaN   \n",
              "1                          0       2  ...    No Deposit    NaN     NaN   \n",
              "2                          1       1  ...    No Deposit    NaN     NaN   \n",
              "3                          1       1  ...    No Deposit  304.0     NaN   \n",
              "4                          2       2  ...    No Deposit  240.0     NaN   \n",
              "...                      ...     ...  ...           ...    ...     ...   \n",
              "119385                     5       2  ...    No Deposit  394.0     NaN   \n",
              "119386                     5       3  ...    No Deposit    9.0     NaN   \n",
              "119387                     5       2  ...    No Deposit    9.0     NaN   \n",
              "119388                     5       2  ...    No Deposit   89.0     NaN   \n",
              "119389                     7       2  ...    No Deposit    9.0     NaN   \n",
              "\n",
              "       days_in_waiting_list customer_type     adr  \\\n",
              "0                         0     Transient    0.00   \n",
              "1                         0     Transient    0.00   \n",
              "2                         0     Transient   75.00   \n",
              "3                         0     Transient   75.00   \n",
              "4                         0     Transient   98.00   \n",
              "...                     ...           ...     ...   \n",
              "119385                    0     Transient   96.14   \n",
              "119386                    0     Transient  225.43   \n",
              "119387                    0     Transient  157.71   \n",
              "119388                    0     Transient  104.40   \n",
              "119389                    0     Transient  151.20   \n",
              "\n",
              "        required_car_parking_spaces  total_of_special_requests  \\\n",
              "0                                 0                          0   \n",
              "1                                 0                          0   \n",
              "2                                 0                          0   \n",
              "3                                 0                          0   \n",
              "4                                 0                          1   \n",
              "...                             ...                        ...   \n",
              "119385                            0                          0   \n",
              "119386                            0                          2   \n",
              "119387                            0                          4   \n",
              "119388                            0                          0   \n",
              "119389                            0                          2   \n",
              "\n",
              "        reservation_status reservation_status_date  \n",
              "0                Check-Out              01/07/2015  \n",
              "1                Check-Out              01/07/2015  \n",
              "2                Check-Out              02/07/2015  \n",
              "3                Check-Out              02/07/2015  \n",
              "4                Check-Out              03/07/2015  \n",
              "...                    ...                     ...  \n",
              "119385           Check-Out              06/09/2017  \n",
              "119386           Check-Out              07/09/2017  \n",
              "119387           Check-Out              07/09/2017  \n",
              "119388           Check-Out              07/09/2017  \n",
              "119389           Check-Out              07/09/2017  \n",
              "\n",
              "[119390 rows x 32 columns]"
            ],
            "text/html": [
              "\n",
              "  <div id=\"df-12c85a2e-aa74-4089-9bc1-01fa08a03246\" class=\"colab-df-container\">\n",
              "    <div>\n",
              "<style scoped>\n",
              "    .dataframe tbody tr th:only-of-type {\n",
              "        vertical-align: middle;\n",
              "    }\n",
              "\n",
              "    .dataframe tbody tr th {\n",
              "        vertical-align: top;\n",
              "    }\n",
              "\n",
              "    .dataframe thead th {\n",
              "        text-align: right;\n",
              "    }\n",
              "</style>\n",
              "<table border=\"1\" class=\"dataframe\">\n",
              "  <thead>\n",
              "    <tr style=\"text-align: right;\">\n",
              "      <th></th>\n",
              "      <th>hotel</th>\n",
              "      <th>is_canceled</th>\n",
              "      <th>lead_time</th>\n",
              "      <th>arrival_date_year</th>\n",
              "      <th>arrival_date_month</th>\n",
              "      <th>arrival_date_week_number</th>\n",
              "      <th>arrival_date_day_of_month</th>\n",
              "      <th>stays_in_weekend_nights</th>\n",
              "      <th>stays_in_week_nights</th>\n",
              "      <th>adults</th>\n",
              "      <th>...</th>\n",
              "      <th>deposit_type</th>\n",
              "      <th>agent</th>\n",
              "      <th>company</th>\n",
              "      <th>days_in_waiting_list</th>\n",
              "      <th>customer_type</th>\n",
              "      <th>adr</th>\n",
              "      <th>required_car_parking_spaces</th>\n",
              "      <th>total_of_special_requests</th>\n",
              "      <th>reservation_status</th>\n",
              "      <th>reservation_status_date</th>\n",
              "    </tr>\n",
              "  </thead>\n",
              "  <tbody>\n",
              "    <tr>\n",
              "      <th>0</th>\n",
              "      <td>Resort Hotel</td>\n",
              "      <td>0</td>\n",
              "      <td>342</td>\n",
              "      <td>2015</td>\n",
              "      <td>July</td>\n",
              "      <td>27</td>\n",
              "      <td>1</td>\n",
              "      <td>0</td>\n",
              "      <td>0</td>\n",
              "      <td>2</td>\n",
              "      <td>...</td>\n",
              "      <td>No Deposit</td>\n",
              "      <td>NaN</td>\n",
              "      <td>NaN</td>\n",
              "      <td>0</td>\n",
              "      <td>Transient</td>\n",
              "      <td>0.00</td>\n",
              "      <td>0</td>\n",
              "      <td>0</td>\n",
              "      <td>Check-Out</td>\n",
              "      <td>01/07/2015</td>\n",
              "    </tr>\n",
              "    <tr>\n",
              "      <th>1</th>\n",
              "      <td>Resort Hotel</td>\n",
              "      <td>0</td>\n",
              "      <td>737</td>\n",
              "      <td>2015</td>\n",
              "      <td>July</td>\n",
              "      <td>27</td>\n",
              "      <td>1</td>\n",
              "      <td>0</td>\n",
              "      <td>0</td>\n",
              "      <td>2</td>\n",
              "      <td>...</td>\n",
              "      <td>No Deposit</td>\n",
              "      <td>NaN</td>\n",
              "      <td>NaN</td>\n",
              "      <td>0</td>\n",
              "      <td>Transient</td>\n",
              "      <td>0.00</td>\n",
              "      <td>0</td>\n",
              "      <td>0</td>\n",
              "      <td>Check-Out</td>\n",
              "      <td>01/07/2015</td>\n",
              "    </tr>\n",
              "    <tr>\n",
              "      <th>2</th>\n",
              "      <td>Resort Hotel</td>\n",
              "      <td>0</td>\n",
              "      <td>7</td>\n",
              "      <td>2015</td>\n",
              "      <td>July</td>\n",
              "      <td>27</td>\n",
              "      <td>1</td>\n",
              "      <td>0</td>\n",
              "      <td>1</td>\n",
              "      <td>1</td>\n",
              "      <td>...</td>\n",
              "      <td>No Deposit</td>\n",
              "      <td>NaN</td>\n",
              "      <td>NaN</td>\n",
              "      <td>0</td>\n",
              "      <td>Transient</td>\n",
              "      <td>75.00</td>\n",
              "      <td>0</td>\n",
              "      <td>0</td>\n",
              "      <td>Check-Out</td>\n",
              "      <td>02/07/2015</td>\n",
              "    </tr>\n",
              "    <tr>\n",
              "      <th>3</th>\n",
              "      <td>Resort Hotel</td>\n",
              "      <td>0</td>\n",
              "      <td>13</td>\n",
              "      <td>2015</td>\n",
              "      <td>July</td>\n",
              "      <td>27</td>\n",
              "      <td>1</td>\n",
              "      <td>0</td>\n",
              "      <td>1</td>\n",
              "      <td>1</td>\n",
              "      <td>...</td>\n",
              "      <td>No Deposit</td>\n",
              "      <td>304.0</td>\n",
              "      <td>NaN</td>\n",
              "      <td>0</td>\n",
              "      <td>Transient</td>\n",
              "      <td>75.00</td>\n",
              "      <td>0</td>\n",
              "      <td>0</td>\n",
              "      <td>Check-Out</td>\n",
              "      <td>02/07/2015</td>\n",
              "    </tr>\n",
              "    <tr>\n",
              "      <th>4</th>\n",
              "      <td>Resort Hotel</td>\n",
              "      <td>0</td>\n",
              "      <td>14</td>\n",
              "      <td>2015</td>\n",
              "      <td>July</td>\n",
              "      <td>27</td>\n",
              "      <td>1</td>\n",
              "      <td>0</td>\n",
              "      <td>2</td>\n",
              "      <td>2</td>\n",
              "      <td>...</td>\n",
              "      <td>No Deposit</td>\n",
              "      <td>240.0</td>\n",
              "      <td>NaN</td>\n",
              "      <td>0</td>\n",
              "      <td>Transient</td>\n",
              "      <td>98.00</td>\n",
              "      <td>0</td>\n",
              "      <td>1</td>\n",
              "      <td>Check-Out</td>\n",
              "      <td>03/07/2015</td>\n",
              "    </tr>\n",
              "    <tr>\n",
              "      <th>...</th>\n",
              "      <td>...</td>\n",
              "      <td>...</td>\n",
              "      <td>...</td>\n",
              "      <td>...</td>\n",
              "      <td>...</td>\n",
              "      <td>...</td>\n",
              "      <td>...</td>\n",
              "      <td>...</td>\n",
              "      <td>...</td>\n",
              "      <td>...</td>\n",
              "      <td>...</td>\n",
              "      <td>...</td>\n",
              "      <td>...</td>\n",
              "      <td>...</td>\n",
              "      <td>...</td>\n",
              "      <td>...</td>\n",
              "      <td>...</td>\n",
              "      <td>...</td>\n",
              "      <td>...</td>\n",
              "      <td>...</td>\n",
              "      <td>...</td>\n",
              "    </tr>\n",
              "    <tr>\n",
              "      <th>119385</th>\n",
              "      <td>City Hotel</td>\n",
              "      <td>0</td>\n",
              "      <td>23</td>\n",
              "      <td>2017</td>\n",
              "      <td>August</td>\n",
              "      <td>35</td>\n",
              "      <td>30</td>\n",
              "      <td>2</td>\n",
              "      <td>5</td>\n",
              "      <td>2</td>\n",
              "      <td>...</td>\n",
              "      <td>No Deposit</td>\n",
              "      <td>394.0</td>\n",
              "      <td>NaN</td>\n",
              "      <td>0</td>\n",
              "      <td>Transient</td>\n",
              "      <td>96.14</td>\n",
              "      <td>0</td>\n",
              "      <td>0</td>\n",
              "      <td>Check-Out</td>\n",
              "      <td>06/09/2017</td>\n",
              "    </tr>\n",
              "    <tr>\n",
              "      <th>119386</th>\n",
              "      <td>City Hotel</td>\n",
              "      <td>0</td>\n",
              "      <td>102</td>\n",
              "      <td>2017</td>\n",
              "      <td>August</td>\n",
              "      <td>35</td>\n",
              "      <td>31</td>\n",
              "      <td>2</td>\n",
              "      <td>5</td>\n",
              "      <td>3</td>\n",
              "      <td>...</td>\n",
              "      <td>No Deposit</td>\n",
              "      <td>9.0</td>\n",
              "      <td>NaN</td>\n",
              "      <td>0</td>\n",
              "      <td>Transient</td>\n",
              "      <td>225.43</td>\n",
              "      <td>0</td>\n",
              "      <td>2</td>\n",
              "      <td>Check-Out</td>\n",
              "      <td>07/09/2017</td>\n",
              "    </tr>\n",
              "    <tr>\n",
              "      <th>119387</th>\n",
              "      <td>City Hotel</td>\n",
              "      <td>0</td>\n",
              "      <td>34</td>\n",
              "      <td>2017</td>\n",
              "      <td>August</td>\n",
              "      <td>35</td>\n",
              "      <td>31</td>\n",
              "      <td>2</td>\n",
              "      <td>5</td>\n",
              "      <td>2</td>\n",
              "      <td>...</td>\n",
              "      <td>No Deposit</td>\n",
              "      <td>9.0</td>\n",
              "      <td>NaN</td>\n",
              "      <td>0</td>\n",
              "      <td>Transient</td>\n",
              "      <td>157.71</td>\n",
              "      <td>0</td>\n",
              "      <td>4</td>\n",
              "      <td>Check-Out</td>\n",
              "      <td>07/09/2017</td>\n",
              "    </tr>\n",
              "    <tr>\n",
              "      <th>119388</th>\n",
              "      <td>City Hotel</td>\n",
              "      <td>0</td>\n",
              "      <td>109</td>\n",
              "      <td>2017</td>\n",
              "      <td>August</td>\n",
              "      <td>35</td>\n",
              "      <td>31</td>\n",
              "      <td>2</td>\n",
              "      <td>5</td>\n",
              "      <td>2</td>\n",
              "      <td>...</td>\n",
              "      <td>No Deposit</td>\n",
              "      <td>89.0</td>\n",
              "      <td>NaN</td>\n",
              "      <td>0</td>\n",
              "      <td>Transient</td>\n",
              "      <td>104.40</td>\n",
              "      <td>0</td>\n",
              "      <td>0</td>\n",
              "      <td>Check-Out</td>\n",
              "      <td>07/09/2017</td>\n",
              "    </tr>\n",
              "    <tr>\n",
              "      <th>119389</th>\n",
              "      <td>City Hotel</td>\n",
              "      <td>0</td>\n",
              "      <td>205</td>\n",
              "      <td>2017</td>\n",
              "      <td>August</td>\n",
              "      <td>35</td>\n",
              "      <td>29</td>\n",
              "      <td>2</td>\n",
              "      <td>7</td>\n",
              "      <td>2</td>\n",
              "      <td>...</td>\n",
              "      <td>No Deposit</td>\n",
              "      <td>9.0</td>\n",
              "      <td>NaN</td>\n",
              "      <td>0</td>\n",
              "      <td>Transient</td>\n",
              "      <td>151.20</td>\n",
              "      <td>0</td>\n",
              "      <td>2</td>\n",
              "      <td>Check-Out</td>\n",
              "      <td>07/09/2017</td>\n",
              "    </tr>\n",
              "  </tbody>\n",
              "</table>\n",
              "<p>119390 rows × 32 columns</p>\n",
              "</div>\n",
              "    <div class=\"colab-df-buttons\">\n",
              "\n",
              "  <div class=\"colab-df-container\">\n",
              "    <button class=\"colab-df-convert\" onclick=\"convertToInteractive('df-12c85a2e-aa74-4089-9bc1-01fa08a03246')\"\n",
              "            title=\"Convert this dataframe to an interactive table.\"\n",
              "            style=\"display:none;\">\n",
              "\n",
              "  <svg xmlns=\"http://www.w3.org/2000/svg\" height=\"24px\" viewBox=\"0 -960 960 960\">\n",
              "    <path d=\"M120-120v-720h720v720H120Zm60-500h600v-160H180v160Zm220 220h160v-160H400v160Zm0 220h160v-160H400v160ZM180-400h160v-160H180v160Zm440 0h160v-160H620v160ZM180-180h160v-160H180v160Zm440 0h160v-160H620v160Z\"/>\n",
              "  </svg>\n",
              "    </button>\n",
              "\n",
              "  <style>\n",
              "    .colab-df-container {\n",
              "      display:flex;\n",
              "      gap: 12px;\n",
              "    }\n",
              "\n",
              "    .colab-df-convert {\n",
              "      background-color: #E8F0FE;\n",
              "      border: none;\n",
              "      border-radius: 50%;\n",
              "      cursor: pointer;\n",
              "      display: none;\n",
              "      fill: #1967D2;\n",
              "      height: 32px;\n",
              "      padding: 0 0 0 0;\n",
              "      width: 32px;\n",
              "    }\n",
              "\n",
              "    .colab-df-convert:hover {\n",
              "      background-color: #E2EBFA;\n",
              "      box-shadow: 0px 1px 2px rgba(60, 64, 67, 0.3), 0px 1px 3px 1px rgba(60, 64, 67, 0.15);\n",
              "      fill: #174EA6;\n",
              "    }\n",
              "\n",
              "    .colab-df-buttons div {\n",
              "      margin-bottom: 4px;\n",
              "    }\n",
              "\n",
              "    [theme=dark] .colab-df-convert {\n",
              "      background-color: #3B4455;\n",
              "      fill: #D2E3FC;\n",
              "    }\n",
              "\n",
              "    [theme=dark] .colab-df-convert:hover {\n",
              "      background-color: #434B5C;\n",
              "      box-shadow: 0px 1px 3px 1px rgba(0, 0, 0, 0.15);\n",
              "      filter: drop-shadow(0px 1px 2px rgba(0, 0, 0, 0.3));\n",
              "      fill: #FFFFFF;\n",
              "    }\n",
              "  </style>\n",
              "\n",
              "    <script>\n",
              "      const buttonEl =\n",
              "        document.querySelector('#df-12c85a2e-aa74-4089-9bc1-01fa08a03246 button.colab-df-convert');\n",
              "      buttonEl.style.display =\n",
              "        google.colab.kernel.accessAllowed ? 'block' : 'none';\n",
              "\n",
              "      async function convertToInteractive(key) {\n",
              "        const element = document.querySelector('#df-12c85a2e-aa74-4089-9bc1-01fa08a03246');\n",
              "        const dataTable =\n",
              "          await google.colab.kernel.invokeFunction('convertToInteractive',\n",
              "                                                    [key], {});\n",
              "        if (!dataTable) return;\n",
              "\n",
              "        const docLinkHtml = 'Like what you see? Visit the ' +\n",
              "          '<a target=\"_blank\" href=https://colab.research.google.com/notebooks/data_table.ipynb>data table notebook</a>'\n",
              "          + ' to learn more about interactive tables.';\n",
              "        element.innerHTML = '';\n",
              "        dataTable['output_type'] = 'display_data';\n",
              "        await google.colab.output.renderOutput(dataTable, element);\n",
              "        const docLink = document.createElement('div');\n",
              "        docLink.innerHTML = docLinkHtml;\n",
              "        element.appendChild(docLink);\n",
              "      }\n",
              "    </script>\n",
              "  </div>\n",
              "\n",
              "\n",
              "<div id=\"df-269a2d04-cb55-4f0c-9b44-9636f53c046a\">\n",
              "  <button class=\"colab-df-quickchart\" onclick=\"quickchart('df-269a2d04-cb55-4f0c-9b44-9636f53c046a')\"\n",
              "            title=\"Suggest charts\"\n",
              "            style=\"display:none;\">\n",
              "\n",
              "<svg xmlns=\"http://www.w3.org/2000/svg\" height=\"24px\"viewBox=\"0 0 24 24\"\n",
              "     width=\"24px\">\n",
              "    <g>\n",
              "        <path d=\"M19 3H5c-1.1 0-2 .9-2 2v14c0 1.1.9 2 2 2h14c1.1 0 2-.9 2-2V5c0-1.1-.9-2-2-2zM9 17H7v-7h2v7zm4 0h-2V7h2v10zm4 0h-2v-4h2v4z\"/>\n",
              "    </g>\n",
              "</svg>\n",
              "  </button>\n",
              "\n",
              "<style>\n",
              "  .colab-df-quickchart {\n",
              "      --bg-color: #E8F0FE;\n",
              "      --fill-color: #1967D2;\n",
              "      --hover-bg-color: #E2EBFA;\n",
              "      --hover-fill-color: #174EA6;\n",
              "      --disabled-fill-color: #AAA;\n",
              "      --disabled-bg-color: #DDD;\n",
              "  }\n",
              "\n",
              "  [theme=dark] .colab-df-quickchart {\n",
              "      --bg-color: #3B4455;\n",
              "      --fill-color: #D2E3FC;\n",
              "      --hover-bg-color: #434B5C;\n",
              "      --hover-fill-color: #FFFFFF;\n",
              "      --disabled-bg-color: #3B4455;\n",
              "      --disabled-fill-color: #666;\n",
              "  }\n",
              "\n",
              "  .colab-df-quickchart {\n",
              "    background-color: var(--bg-color);\n",
              "    border: none;\n",
              "    border-radius: 50%;\n",
              "    cursor: pointer;\n",
              "    display: none;\n",
              "    fill: var(--fill-color);\n",
              "    height: 32px;\n",
              "    padding: 0;\n",
              "    width: 32px;\n",
              "  }\n",
              "\n",
              "  .colab-df-quickchart:hover {\n",
              "    background-color: var(--hover-bg-color);\n",
              "    box-shadow: 0 1px 2px rgba(60, 64, 67, 0.3), 0 1px 3px 1px rgba(60, 64, 67, 0.15);\n",
              "    fill: var(--button-hover-fill-color);\n",
              "  }\n",
              "\n",
              "  .colab-df-quickchart-complete:disabled,\n",
              "  .colab-df-quickchart-complete:disabled:hover {\n",
              "    background-color: var(--disabled-bg-color);\n",
              "    fill: var(--disabled-fill-color);\n",
              "    box-shadow: none;\n",
              "  }\n",
              "\n",
              "  .colab-df-spinner {\n",
              "    border: 2px solid var(--fill-color);\n",
              "    border-color: transparent;\n",
              "    border-bottom-color: var(--fill-color);\n",
              "    animation:\n",
              "      spin 1s steps(1) infinite;\n",
              "  }\n",
              "\n",
              "  @keyframes spin {\n",
              "    0% {\n",
              "      border-color: transparent;\n",
              "      border-bottom-color: var(--fill-color);\n",
              "      border-left-color: var(--fill-color);\n",
              "    }\n",
              "    20% {\n",
              "      border-color: transparent;\n",
              "      border-left-color: var(--fill-color);\n",
              "      border-top-color: var(--fill-color);\n",
              "    }\n",
              "    30% {\n",
              "      border-color: transparent;\n",
              "      border-left-color: var(--fill-color);\n",
              "      border-top-color: var(--fill-color);\n",
              "      border-right-color: var(--fill-color);\n",
              "    }\n",
              "    40% {\n",
              "      border-color: transparent;\n",
              "      border-right-color: var(--fill-color);\n",
              "      border-top-color: var(--fill-color);\n",
              "    }\n",
              "    60% {\n",
              "      border-color: transparent;\n",
              "      border-right-color: var(--fill-color);\n",
              "    }\n",
              "    80% {\n",
              "      border-color: transparent;\n",
              "      border-right-color: var(--fill-color);\n",
              "      border-bottom-color: var(--fill-color);\n",
              "    }\n",
              "    90% {\n",
              "      border-color: transparent;\n",
              "      border-bottom-color: var(--fill-color);\n",
              "    }\n",
              "  }\n",
              "</style>\n",
              "\n",
              "  <script>\n",
              "    async function quickchart(key) {\n",
              "      const quickchartButtonEl =\n",
              "        document.querySelector('#' + key + ' button');\n",
              "      quickchartButtonEl.disabled = true;  // To prevent multiple clicks.\n",
              "      quickchartButtonEl.classList.add('colab-df-spinner');\n",
              "      try {\n",
              "        const charts = await google.colab.kernel.invokeFunction(\n",
              "            'suggestCharts', [key], {});\n",
              "      } catch (error) {\n",
              "        console.error('Error during call to suggestCharts:', error);\n",
              "      }\n",
              "      quickchartButtonEl.classList.remove('colab-df-spinner');\n",
              "      quickchartButtonEl.classList.add('colab-df-quickchart-complete');\n",
              "    }\n",
              "    (() => {\n",
              "      let quickchartButtonEl =\n",
              "        document.querySelector('#df-269a2d04-cb55-4f0c-9b44-9636f53c046a button');\n",
              "      quickchartButtonEl.style.display =\n",
              "        google.colab.kernel.accessAllowed ? 'block' : 'none';\n",
              "    })();\n",
              "  </script>\n",
              "</div>\n",
              "\n",
              "  <div id=\"id_5e279097-2777-4357-b6d5-5b4f991bbe50\">\n",
              "    <style>\n",
              "      .colab-df-generate {\n",
              "        background-color: #E8F0FE;\n",
              "        border: none;\n",
              "        border-radius: 50%;\n",
              "        cursor: pointer;\n",
              "        display: none;\n",
              "        fill: #1967D2;\n",
              "        height: 32px;\n",
              "        padding: 0 0 0 0;\n",
              "        width: 32px;\n",
              "      }\n",
              "\n",
              "      .colab-df-generate:hover {\n",
              "        background-color: #E2EBFA;\n",
              "        box-shadow: 0px 1px 2px rgba(60, 64, 67, 0.3), 0px 1px 3px 1px rgba(60, 64, 67, 0.15);\n",
              "        fill: #174EA6;\n",
              "      }\n",
              "\n",
              "      [theme=dark] .colab-df-generate {\n",
              "        background-color: #3B4455;\n",
              "        fill: #D2E3FC;\n",
              "      }\n",
              "\n",
              "      [theme=dark] .colab-df-generate:hover {\n",
              "        background-color: #434B5C;\n",
              "        box-shadow: 0px 1px 3px 1px rgba(0, 0, 0, 0.15);\n",
              "        filter: drop-shadow(0px 1px 2px rgba(0, 0, 0, 0.3));\n",
              "        fill: #FFFFFF;\n",
              "      }\n",
              "    </style>\n",
              "    <button class=\"colab-df-generate\" onclick=\"generateWithVariable('df')\"\n",
              "            title=\"Generate code using this dataframe.\"\n",
              "            style=\"display:none;\">\n",
              "\n",
              "  <svg xmlns=\"http://www.w3.org/2000/svg\" height=\"24px\"viewBox=\"0 0 24 24\"\n",
              "       width=\"24px\">\n",
              "    <path d=\"M7,19H8.4L18.45,9,17,7.55,7,17.6ZM5,21V16.75L18.45,3.32a2,2,0,0,1,2.83,0l1.4,1.43a1.91,1.91,0,0,1,.58,1.4,1.91,1.91,0,0,1-.58,1.4L9.25,21ZM18.45,9,17,7.55Zm-12,3A5.31,5.31,0,0,0,4.9,8.1,5.31,5.31,0,0,0,1,6.5,5.31,5.31,0,0,0,4.9,4.9,5.31,5.31,0,0,0,6.5,1,5.31,5.31,0,0,0,8.1,4.9,5.31,5.31,0,0,0,12,6.5,5.46,5.46,0,0,0,6.5,12Z\"/>\n",
              "  </svg>\n",
              "    </button>\n",
              "    <script>\n",
              "      (() => {\n",
              "      const buttonEl =\n",
              "        document.querySelector('#id_5e279097-2777-4357-b6d5-5b4f991bbe50 button.colab-df-generate');\n",
              "      buttonEl.style.display =\n",
              "        google.colab.kernel.accessAllowed ? 'block' : 'none';\n",
              "\n",
              "      buttonEl.onclick = () => {\n",
              "        google.colab.notebook.generateWithVariable('df');\n",
              "      }\n",
              "      })();\n",
              "    </script>\n",
              "  </div>\n",
              "\n",
              "    </div>\n",
              "  </div>\n"
            ]
          },
          "metadata": {},
          "execution_count": 88
        }
      ],
      "source": [
        "df"
      ]
    },
    {
      "cell_type": "markdown",
      "metadata": {
        "id": "G7jh2MsYe2ow"
      },
      "source": [
        "# DataFrame metadata"
      ]
    },
    {
      "cell_type": "code",
      "execution_count": 89,
      "metadata": {
        "colab": {
          "base_uri": "https://localhost:8080/"
        },
        "id": "Qn7MRDfzeXFg",
        "outputId": "8bafc13e-2fef-4344-ef53-73602f1a0b47"
      },
      "outputs": [
        {
          "output_type": "stream",
          "name": "stdout",
          "text": [
            "<class 'pandas.core.frame.DataFrame'>\n",
            "RangeIndex: 119390 entries, 0 to 119389\n",
            "Data columns (total 32 columns):\n",
            " #   Column                          Non-Null Count   Dtype  \n",
            "---  ------                          --------------   -----  \n",
            " 0   hotel                           119390 non-null  object \n",
            " 1   is_canceled                     119390 non-null  int64  \n",
            " 2   lead_time                       119390 non-null  int64  \n",
            " 3   arrival_date_year               119390 non-null  int64  \n",
            " 4   arrival_date_month              119390 non-null  object \n",
            " 5   arrival_date_week_number        119390 non-null  int64  \n",
            " 6   arrival_date_day_of_month       119390 non-null  int64  \n",
            " 7   stays_in_weekend_nights         119390 non-null  int64  \n",
            " 8   stays_in_week_nights            119390 non-null  int64  \n",
            " 9   adults                          119390 non-null  int64  \n",
            " 10  children                        119386 non-null  float64\n",
            " 11  babies                          119390 non-null  int64  \n",
            " 12  meal                            119390 non-null  object \n",
            " 13  country                         118902 non-null  object \n",
            " 14  market_segment                  119390 non-null  object \n",
            " 15  distribution_channel            119390 non-null  object \n",
            " 16  is_repeated_guest               119390 non-null  int64  \n",
            " 17  previous_cancellations          119390 non-null  int64  \n",
            " 18  previous_bookings_not_canceled  119390 non-null  int64  \n",
            " 19  reserved_room_type              119390 non-null  object \n",
            " 20  assigned_room_type              119390 non-null  object \n",
            " 21  booking_changes                 119390 non-null  int64  \n",
            " 22  deposit_type                    119390 non-null  object \n",
            " 23  agent                           103050 non-null  float64\n",
            " 24  company                         6797 non-null    float64\n",
            " 25  days_in_waiting_list            119390 non-null  int64  \n",
            " 26  customer_type                   119390 non-null  object \n",
            " 27  adr                             119390 non-null  float64\n",
            " 28  required_car_parking_spaces     119390 non-null  int64  \n",
            " 29  total_of_special_requests       119390 non-null  int64  \n",
            " 30  reservation_status              119390 non-null  object \n",
            " 31  reservation_status_date         119390 non-null  object \n",
            "dtypes: float64(4), int64(16), object(12)\n",
            "memory usage: 29.1+ MB\n"
          ]
        }
      ],
      "source": [
        "df.info()"
      ]
    },
    {
      "cell_type": "markdown",
      "metadata": {
        "id": "jxi8nBj3e58a"
      },
      "source": [
        "# Select a random row form out Dataset"
      ]
    },
    {
      "cell_type": "code",
      "execution_count": 90,
      "metadata": {
        "colab": {
          "base_uri": "https://localhost:8080/"
        },
        "id": "zur2R-CQeloO",
        "outputId": "1ff5375b-747b-4d62-b1f8-54b982cceaeb"
      },
      "outputs": [
        {
          "output_type": "execute_result",
          "data": {
            "text/plain": [
              "hotel                             Resort Hotel\n",
              "is_canceled                                  1\n",
              "lead_time                                  101\n",
              "arrival_date_year                         2015\n",
              "arrival_date_month                        July\n",
              "arrival_date_week_number                    28\n",
              "arrival_date_day_of_month                    5\n",
              "stays_in_weekend_nights                      2\n",
              "stays_in_week_nights                         5\n",
              "adults                                       2\n",
              "children                                   0.0\n",
              "babies                                       0\n",
              "meal                                        HB\n",
              "country                                    PRT\n",
              "market_segment                       Online TA\n",
              "distribution_channel                     TA/TO\n",
              "is_repeated_guest                            0\n",
              "previous_cancellations                       0\n",
              "previous_bookings_not_canceled               0\n",
              "reserved_room_type                           A\n",
              "assigned_room_type                           A\n",
              "booking_changes                              0\n",
              "deposit_type                        No Deposit\n",
              "agent                                    240.0\n",
              "company                                    NaN\n",
              "days_in_waiting_list                         0\n",
              "customer_type                        Transient\n",
              "adr                                      114.0\n",
              "required_car_parking_spaces                  0\n",
              "total_of_special_requests                    1\n",
              "reservation_status                    Canceled\n",
              "reservation_status_date             30/03/2015\n",
              "Name: 152, dtype: object"
            ]
          },
          "metadata": {},
          "execution_count": 90
        }
      ],
      "source": [
        "df.iloc[152]"
      ]
    },
    {
      "cell_type": "markdown",
      "metadata": {
        "id": "OHn5zE2CfDNk"
      },
      "source": [
        "# Dataset statistical info."
      ]
    },
    {
      "cell_type": "code",
      "execution_count": 91,
      "metadata": {
        "colab": {
          "base_uri": "https://localhost:8080/",
          "height": 320
        },
        "id": "xx8tdcnYfAIe",
        "outputId": "8cdeb2be-382f-4f25-edb0-3d7f218de161"
      },
      "outputs": [
        {
          "output_type": "execute_result",
          "data": {
            "text/plain": [
              "         is_canceled      lead_time  arrival_date_year  \\\n",
              "count  119390.000000  119390.000000      119390.000000   \n",
              "mean        0.370416     104.011416        2016.156554   \n",
              "std         0.482918     106.863097           0.707476   \n",
              "min         0.000000       0.000000        2015.000000   \n",
              "25%         0.000000      18.000000        2016.000000   \n",
              "50%         0.000000      69.000000        2016.000000   \n",
              "75%         1.000000     160.000000        2017.000000   \n",
              "max         1.000000     737.000000        2017.000000   \n",
              "\n",
              "       arrival_date_week_number  arrival_date_day_of_month  \\\n",
              "count             119390.000000              119390.000000   \n",
              "mean                  27.165173                  15.798241   \n",
              "std                   13.605138                   8.780829   \n",
              "min                    1.000000                   1.000000   \n",
              "25%                   16.000000                   8.000000   \n",
              "50%                   28.000000                  16.000000   \n",
              "75%                   38.000000                  23.000000   \n",
              "max                   53.000000                  31.000000   \n",
              "\n",
              "       stays_in_weekend_nights  stays_in_week_nights         adults  \\\n",
              "count            119390.000000         119390.000000  119390.000000   \n",
              "mean                  0.927599              2.500302       1.856403   \n",
              "std                   0.998613              1.908286       0.579261   \n",
              "min                   0.000000              0.000000       0.000000   \n",
              "25%                   0.000000              1.000000       2.000000   \n",
              "50%                   1.000000              2.000000       2.000000   \n",
              "75%                   2.000000              3.000000       2.000000   \n",
              "max                  19.000000             50.000000      55.000000   \n",
              "\n",
              "            children         babies  is_repeated_guest  \\\n",
              "count  119386.000000  119390.000000      119390.000000   \n",
              "mean        0.103890       0.007949           0.031912   \n",
              "std         0.398561       0.097436           0.175767   \n",
              "min         0.000000       0.000000           0.000000   \n",
              "25%         0.000000       0.000000           0.000000   \n",
              "50%         0.000000       0.000000           0.000000   \n",
              "75%         0.000000       0.000000           0.000000   \n",
              "max        10.000000      10.000000           1.000000   \n",
              "\n",
              "       previous_cancellations  previous_bookings_not_canceled  \\\n",
              "count           119390.000000                   119390.000000   \n",
              "mean                 0.087118                        0.137097   \n",
              "std                  0.844336                        1.497437   \n",
              "min                  0.000000                        0.000000   \n",
              "25%                  0.000000                        0.000000   \n",
              "50%                  0.000000                        0.000000   \n",
              "75%                  0.000000                        0.000000   \n",
              "max                 26.000000                       72.000000   \n",
              "\n",
              "       booking_changes          agent      company  days_in_waiting_list  \\\n",
              "count    119390.000000  103050.000000  6797.000000         119390.000000   \n",
              "mean          0.221124      86.693382   189.266735              2.321149   \n",
              "std           0.652306     110.774548   131.655015             17.594721   \n",
              "min           0.000000       1.000000     6.000000              0.000000   \n",
              "25%           0.000000       9.000000    62.000000              0.000000   \n",
              "50%           0.000000      14.000000   179.000000              0.000000   \n",
              "75%           0.000000     229.000000   270.000000              0.000000   \n",
              "max          21.000000     535.000000   543.000000            391.000000   \n",
              "\n",
              "                 adr  required_car_parking_spaces  total_of_special_requests  \n",
              "count  119390.000000                119390.000000              119390.000000  \n",
              "mean      101.831122                     0.062518                   0.571363  \n",
              "std        50.535790                     0.245291                   0.792798  \n",
              "min        -6.380000                     0.000000                   0.000000  \n",
              "25%        69.290000                     0.000000                   0.000000  \n",
              "50%        94.575000                     0.000000                   0.000000  \n",
              "75%       126.000000                     0.000000                   1.000000  \n",
              "max      5400.000000                     8.000000                   5.000000  "
            ],
            "text/html": [
              "\n",
              "  <div id=\"df-b4cd7fe3-5727-48eb-b18a-a82e49e9c605\" class=\"colab-df-container\">\n",
              "    <div>\n",
              "<style scoped>\n",
              "    .dataframe tbody tr th:only-of-type {\n",
              "        vertical-align: middle;\n",
              "    }\n",
              "\n",
              "    .dataframe tbody tr th {\n",
              "        vertical-align: top;\n",
              "    }\n",
              "\n",
              "    .dataframe thead th {\n",
              "        text-align: right;\n",
              "    }\n",
              "</style>\n",
              "<table border=\"1\" class=\"dataframe\">\n",
              "  <thead>\n",
              "    <tr style=\"text-align: right;\">\n",
              "      <th></th>\n",
              "      <th>is_canceled</th>\n",
              "      <th>lead_time</th>\n",
              "      <th>arrival_date_year</th>\n",
              "      <th>arrival_date_week_number</th>\n",
              "      <th>arrival_date_day_of_month</th>\n",
              "      <th>stays_in_weekend_nights</th>\n",
              "      <th>stays_in_week_nights</th>\n",
              "      <th>adults</th>\n",
              "      <th>children</th>\n",
              "      <th>babies</th>\n",
              "      <th>is_repeated_guest</th>\n",
              "      <th>previous_cancellations</th>\n",
              "      <th>previous_bookings_not_canceled</th>\n",
              "      <th>booking_changes</th>\n",
              "      <th>agent</th>\n",
              "      <th>company</th>\n",
              "      <th>days_in_waiting_list</th>\n",
              "      <th>adr</th>\n",
              "      <th>required_car_parking_spaces</th>\n",
              "      <th>total_of_special_requests</th>\n",
              "    </tr>\n",
              "  </thead>\n",
              "  <tbody>\n",
              "    <tr>\n",
              "      <th>count</th>\n",
              "      <td>119390.000000</td>\n",
              "      <td>119390.000000</td>\n",
              "      <td>119390.000000</td>\n",
              "      <td>119390.000000</td>\n",
              "      <td>119390.000000</td>\n",
              "      <td>119390.000000</td>\n",
              "      <td>119390.000000</td>\n",
              "      <td>119390.000000</td>\n",
              "      <td>119386.000000</td>\n",
              "      <td>119390.000000</td>\n",
              "      <td>119390.000000</td>\n",
              "      <td>119390.000000</td>\n",
              "      <td>119390.000000</td>\n",
              "      <td>119390.000000</td>\n",
              "      <td>103050.000000</td>\n",
              "      <td>6797.000000</td>\n",
              "      <td>119390.000000</td>\n",
              "      <td>119390.000000</td>\n",
              "      <td>119390.000000</td>\n",
              "      <td>119390.000000</td>\n",
              "    </tr>\n",
              "    <tr>\n",
              "      <th>mean</th>\n",
              "      <td>0.370416</td>\n",
              "      <td>104.011416</td>\n",
              "      <td>2016.156554</td>\n",
              "      <td>27.165173</td>\n",
              "      <td>15.798241</td>\n",
              "      <td>0.927599</td>\n",
              "      <td>2.500302</td>\n",
              "      <td>1.856403</td>\n",
              "      <td>0.103890</td>\n",
              "      <td>0.007949</td>\n",
              "      <td>0.031912</td>\n",
              "      <td>0.087118</td>\n",
              "      <td>0.137097</td>\n",
              "      <td>0.221124</td>\n",
              "      <td>86.693382</td>\n",
              "      <td>189.266735</td>\n",
              "      <td>2.321149</td>\n",
              "      <td>101.831122</td>\n",
              "      <td>0.062518</td>\n",
              "      <td>0.571363</td>\n",
              "    </tr>\n",
              "    <tr>\n",
              "      <th>std</th>\n",
              "      <td>0.482918</td>\n",
              "      <td>106.863097</td>\n",
              "      <td>0.707476</td>\n",
              "      <td>13.605138</td>\n",
              "      <td>8.780829</td>\n",
              "      <td>0.998613</td>\n",
              "      <td>1.908286</td>\n",
              "      <td>0.579261</td>\n",
              "      <td>0.398561</td>\n",
              "      <td>0.097436</td>\n",
              "      <td>0.175767</td>\n",
              "      <td>0.844336</td>\n",
              "      <td>1.497437</td>\n",
              "      <td>0.652306</td>\n",
              "      <td>110.774548</td>\n",
              "      <td>131.655015</td>\n",
              "      <td>17.594721</td>\n",
              "      <td>50.535790</td>\n",
              "      <td>0.245291</td>\n",
              "      <td>0.792798</td>\n",
              "    </tr>\n",
              "    <tr>\n",
              "      <th>min</th>\n",
              "      <td>0.000000</td>\n",
              "      <td>0.000000</td>\n",
              "      <td>2015.000000</td>\n",
              "      <td>1.000000</td>\n",
              "      <td>1.000000</td>\n",
              "      <td>0.000000</td>\n",
              "      <td>0.000000</td>\n",
              "      <td>0.000000</td>\n",
              "      <td>0.000000</td>\n",
              "      <td>0.000000</td>\n",
              "      <td>0.000000</td>\n",
              "      <td>0.000000</td>\n",
              "      <td>0.000000</td>\n",
              "      <td>0.000000</td>\n",
              "      <td>1.000000</td>\n",
              "      <td>6.000000</td>\n",
              "      <td>0.000000</td>\n",
              "      <td>-6.380000</td>\n",
              "      <td>0.000000</td>\n",
              "      <td>0.000000</td>\n",
              "    </tr>\n",
              "    <tr>\n",
              "      <th>25%</th>\n",
              "      <td>0.000000</td>\n",
              "      <td>18.000000</td>\n",
              "      <td>2016.000000</td>\n",
              "      <td>16.000000</td>\n",
              "      <td>8.000000</td>\n",
              "      <td>0.000000</td>\n",
              "      <td>1.000000</td>\n",
              "      <td>2.000000</td>\n",
              "      <td>0.000000</td>\n",
              "      <td>0.000000</td>\n",
              "      <td>0.000000</td>\n",
              "      <td>0.000000</td>\n",
              "      <td>0.000000</td>\n",
              "      <td>0.000000</td>\n",
              "      <td>9.000000</td>\n",
              "      <td>62.000000</td>\n",
              "      <td>0.000000</td>\n",
              "      <td>69.290000</td>\n",
              "      <td>0.000000</td>\n",
              "      <td>0.000000</td>\n",
              "    </tr>\n",
              "    <tr>\n",
              "      <th>50%</th>\n",
              "      <td>0.000000</td>\n",
              "      <td>69.000000</td>\n",
              "      <td>2016.000000</td>\n",
              "      <td>28.000000</td>\n",
              "      <td>16.000000</td>\n",
              "      <td>1.000000</td>\n",
              "      <td>2.000000</td>\n",
              "      <td>2.000000</td>\n",
              "      <td>0.000000</td>\n",
              "      <td>0.000000</td>\n",
              "      <td>0.000000</td>\n",
              "      <td>0.000000</td>\n",
              "      <td>0.000000</td>\n",
              "      <td>0.000000</td>\n",
              "      <td>14.000000</td>\n",
              "      <td>179.000000</td>\n",
              "      <td>0.000000</td>\n",
              "      <td>94.575000</td>\n",
              "      <td>0.000000</td>\n",
              "      <td>0.000000</td>\n",
              "    </tr>\n",
              "    <tr>\n",
              "      <th>75%</th>\n",
              "      <td>1.000000</td>\n",
              "      <td>160.000000</td>\n",
              "      <td>2017.000000</td>\n",
              "      <td>38.000000</td>\n",
              "      <td>23.000000</td>\n",
              "      <td>2.000000</td>\n",
              "      <td>3.000000</td>\n",
              "      <td>2.000000</td>\n",
              "      <td>0.000000</td>\n",
              "      <td>0.000000</td>\n",
              "      <td>0.000000</td>\n",
              "      <td>0.000000</td>\n",
              "      <td>0.000000</td>\n",
              "      <td>0.000000</td>\n",
              "      <td>229.000000</td>\n",
              "      <td>270.000000</td>\n",
              "      <td>0.000000</td>\n",
              "      <td>126.000000</td>\n",
              "      <td>0.000000</td>\n",
              "      <td>1.000000</td>\n",
              "    </tr>\n",
              "    <tr>\n",
              "      <th>max</th>\n",
              "      <td>1.000000</td>\n",
              "      <td>737.000000</td>\n",
              "      <td>2017.000000</td>\n",
              "      <td>53.000000</td>\n",
              "      <td>31.000000</td>\n",
              "      <td>19.000000</td>\n",
              "      <td>50.000000</td>\n",
              "      <td>55.000000</td>\n",
              "      <td>10.000000</td>\n",
              "      <td>10.000000</td>\n",
              "      <td>1.000000</td>\n",
              "      <td>26.000000</td>\n",
              "      <td>72.000000</td>\n",
              "      <td>21.000000</td>\n",
              "      <td>535.000000</td>\n",
              "      <td>543.000000</td>\n",
              "      <td>391.000000</td>\n",
              "      <td>5400.000000</td>\n",
              "      <td>8.000000</td>\n",
              "      <td>5.000000</td>\n",
              "    </tr>\n",
              "  </tbody>\n",
              "</table>\n",
              "</div>\n",
              "    <div class=\"colab-df-buttons\">\n",
              "\n",
              "  <div class=\"colab-df-container\">\n",
              "    <button class=\"colab-df-convert\" onclick=\"convertToInteractive('df-b4cd7fe3-5727-48eb-b18a-a82e49e9c605')\"\n",
              "            title=\"Convert this dataframe to an interactive table.\"\n",
              "            style=\"display:none;\">\n",
              "\n",
              "  <svg xmlns=\"http://www.w3.org/2000/svg\" height=\"24px\" viewBox=\"0 -960 960 960\">\n",
              "    <path d=\"M120-120v-720h720v720H120Zm60-500h600v-160H180v160Zm220 220h160v-160H400v160Zm0 220h160v-160H400v160ZM180-400h160v-160H180v160Zm440 0h160v-160H620v160ZM180-180h160v-160H180v160Zm440 0h160v-160H620v160Z\"/>\n",
              "  </svg>\n",
              "    </button>\n",
              "\n",
              "  <style>\n",
              "    .colab-df-container {\n",
              "      display:flex;\n",
              "      gap: 12px;\n",
              "    }\n",
              "\n",
              "    .colab-df-convert {\n",
              "      background-color: #E8F0FE;\n",
              "      border: none;\n",
              "      border-radius: 50%;\n",
              "      cursor: pointer;\n",
              "      display: none;\n",
              "      fill: #1967D2;\n",
              "      height: 32px;\n",
              "      padding: 0 0 0 0;\n",
              "      width: 32px;\n",
              "    }\n",
              "\n",
              "    .colab-df-convert:hover {\n",
              "      background-color: #E2EBFA;\n",
              "      box-shadow: 0px 1px 2px rgba(60, 64, 67, 0.3), 0px 1px 3px 1px rgba(60, 64, 67, 0.15);\n",
              "      fill: #174EA6;\n",
              "    }\n",
              "\n",
              "    .colab-df-buttons div {\n",
              "      margin-bottom: 4px;\n",
              "    }\n",
              "\n",
              "    [theme=dark] .colab-df-convert {\n",
              "      background-color: #3B4455;\n",
              "      fill: #D2E3FC;\n",
              "    }\n",
              "\n",
              "    [theme=dark] .colab-df-convert:hover {\n",
              "      background-color: #434B5C;\n",
              "      box-shadow: 0px 1px 3px 1px rgba(0, 0, 0, 0.15);\n",
              "      filter: drop-shadow(0px 1px 2px rgba(0, 0, 0, 0.3));\n",
              "      fill: #FFFFFF;\n",
              "    }\n",
              "  </style>\n",
              "\n",
              "    <script>\n",
              "      const buttonEl =\n",
              "        document.querySelector('#df-b4cd7fe3-5727-48eb-b18a-a82e49e9c605 button.colab-df-convert');\n",
              "      buttonEl.style.display =\n",
              "        google.colab.kernel.accessAllowed ? 'block' : 'none';\n",
              "\n",
              "      async function convertToInteractive(key) {\n",
              "        const element = document.querySelector('#df-b4cd7fe3-5727-48eb-b18a-a82e49e9c605');\n",
              "        const dataTable =\n",
              "          await google.colab.kernel.invokeFunction('convertToInteractive',\n",
              "                                                    [key], {});\n",
              "        if (!dataTable) return;\n",
              "\n",
              "        const docLinkHtml = 'Like what you see? Visit the ' +\n",
              "          '<a target=\"_blank\" href=https://colab.research.google.com/notebooks/data_table.ipynb>data table notebook</a>'\n",
              "          + ' to learn more about interactive tables.';\n",
              "        element.innerHTML = '';\n",
              "        dataTable['output_type'] = 'display_data';\n",
              "        await google.colab.output.renderOutput(dataTable, element);\n",
              "        const docLink = document.createElement('div');\n",
              "        docLink.innerHTML = docLinkHtml;\n",
              "        element.appendChild(docLink);\n",
              "      }\n",
              "    </script>\n",
              "  </div>\n",
              "\n",
              "\n",
              "<div id=\"df-3b96740e-bf04-4cd7-83bb-d65285c06af9\">\n",
              "  <button class=\"colab-df-quickchart\" onclick=\"quickchart('df-3b96740e-bf04-4cd7-83bb-d65285c06af9')\"\n",
              "            title=\"Suggest charts\"\n",
              "            style=\"display:none;\">\n",
              "\n",
              "<svg xmlns=\"http://www.w3.org/2000/svg\" height=\"24px\"viewBox=\"0 0 24 24\"\n",
              "     width=\"24px\">\n",
              "    <g>\n",
              "        <path d=\"M19 3H5c-1.1 0-2 .9-2 2v14c0 1.1.9 2 2 2h14c1.1 0 2-.9 2-2V5c0-1.1-.9-2-2-2zM9 17H7v-7h2v7zm4 0h-2V7h2v10zm4 0h-2v-4h2v4z\"/>\n",
              "    </g>\n",
              "</svg>\n",
              "  </button>\n",
              "\n",
              "<style>\n",
              "  .colab-df-quickchart {\n",
              "      --bg-color: #E8F0FE;\n",
              "      --fill-color: #1967D2;\n",
              "      --hover-bg-color: #E2EBFA;\n",
              "      --hover-fill-color: #174EA6;\n",
              "      --disabled-fill-color: #AAA;\n",
              "      --disabled-bg-color: #DDD;\n",
              "  }\n",
              "\n",
              "  [theme=dark] .colab-df-quickchart {\n",
              "      --bg-color: #3B4455;\n",
              "      --fill-color: #D2E3FC;\n",
              "      --hover-bg-color: #434B5C;\n",
              "      --hover-fill-color: #FFFFFF;\n",
              "      --disabled-bg-color: #3B4455;\n",
              "      --disabled-fill-color: #666;\n",
              "  }\n",
              "\n",
              "  .colab-df-quickchart {\n",
              "    background-color: var(--bg-color);\n",
              "    border: none;\n",
              "    border-radius: 50%;\n",
              "    cursor: pointer;\n",
              "    display: none;\n",
              "    fill: var(--fill-color);\n",
              "    height: 32px;\n",
              "    padding: 0;\n",
              "    width: 32px;\n",
              "  }\n",
              "\n",
              "  .colab-df-quickchart:hover {\n",
              "    background-color: var(--hover-bg-color);\n",
              "    box-shadow: 0 1px 2px rgba(60, 64, 67, 0.3), 0 1px 3px 1px rgba(60, 64, 67, 0.15);\n",
              "    fill: var(--button-hover-fill-color);\n",
              "  }\n",
              "\n",
              "  .colab-df-quickchart-complete:disabled,\n",
              "  .colab-df-quickchart-complete:disabled:hover {\n",
              "    background-color: var(--disabled-bg-color);\n",
              "    fill: var(--disabled-fill-color);\n",
              "    box-shadow: none;\n",
              "  }\n",
              "\n",
              "  .colab-df-spinner {\n",
              "    border: 2px solid var(--fill-color);\n",
              "    border-color: transparent;\n",
              "    border-bottom-color: var(--fill-color);\n",
              "    animation:\n",
              "      spin 1s steps(1) infinite;\n",
              "  }\n",
              "\n",
              "  @keyframes spin {\n",
              "    0% {\n",
              "      border-color: transparent;\n",
              "      border-bottom-color: var(--fill-color);\n",
              "      border-left-color: var(--fill-color);\n",
              "    }\n",
              "    20% {\n",
              "      border-color: transparent;\n",
              "      border-left-color: var(--fill-color);\n",
              "      border-top-color: var(--fill-color);\n",
              "    }\n",
              "    30% {\n",
              "      border-color: transparent;\n",
              "      border-left-color: var(--fill-color);\n",
              "      border-top-color: var(--fill-color);\n",
              "      border-right-color: var(--fill-color);\n",
              "    }\n",
              "    40% {\n",
              "      border-color: transparent;\n",
              "      border-right-color: var(--fill-color);\n",
              "      border-top-color: var(--fill-color);\n",
              "    }\n",
              "    60% {\n",
              "      border-color: transparent;\n",
              "      border-right-color: var(--fill-color);\n",
              "    }\n",
              "    80% {\n",
              "      border-color: transparent;\n",
              "      border-right-color: var(--fill-color);\n",
              "      border-bottom-color: var(--fill-color);\n",
              "    }\n",
              "    90% {\n",
              "      border-color: transparent;\n",
              "      border-bottom-color: var(--fill-color);\n",
              "    }\n",
              "  }\n",
              "</style>\n",
              "\n",
              "  <script>\n",
              "    async function quickchart(key) {\n",
              "      const quickchartButtonEl =\n",
              "        document.querySelector('#' + key + ' button');\n",
              "      quickchartButtonEl.disabled = true;  // To prevent multiple clicks.\n",
              "      quickchartButtonEl.classList.add('colab-df-spinner');\n",
              "      try {\n",
              "        const charts = await google.colab.kernel.invokeFunction(\n",
              "            'suggestCharts', [key], {});\n",
              "      } catch (error) {\n",
              "        console.error('Error during call to suggestCharts:', error);\n",
              "      }\n",
              "      quickchartButtonEl.classList.remove('colab-df-spinner');\n",
              "      quickchartButtonEl.classList.add('colab-df-quickchart-complete');\n",
              "    }\n",
              "    (() => {\n",
              "      let quickchartButtonEl =\n",
              "        document.querySelector('#df-3b96740e-bf04-4cd7-83bb-d65285c06af9 button');\n",
              "      quickchartButtonEl.style.display =\n",
              "        google.colab.kernel.accessAllowed ? 'block' : 'none';\n",
              "    })();\n",
              "  </script>\n",
              "</div>\n",
              "\n",
              "    </div>\n",
              "  </div>\n"
            ]
          },
          "metadata": {},
          "execution_count": 91
        }
      ],
      "source": [
        "df.describe()"
      ]
    },
    {
      "cell_type": "markdown",
      "metadata": {
        "id": "4E8e9QPjh0Ih"
      },
      "source": [
        "# Null values"
      ]
    },
    {
      "cell_type": "code",
      "execution_count": 92,
      "metadata": {
        "colab": {
          "base_uri": "https://localhost:8080/"
        },
        "id": "ipT3D3cHhyEV",
        "outputId": "e4109ed4-58de-4767-9cc9-e3796055e4ec"
      },
      "outputs": [
        {
          "output_type": "execute_result",
          "data": {
            "text/plain": [
              "hotel                                  0\n",
              "is_canceled                            0\n",
              "lead_time                              0\n",
              "arrival_date_year                      0\n",
              "arrival_date_month                     0\n",
              "arrival_date_week_number               0\n",
              "arrival_date_day_of_month              0\n",
              "stays_in_weekend_nights                0\n",
              "stays_in_week_nights                   0\n",
              "adults                                 0\n",
              "children                               4\n",
              "babies                                 0\n",
              "meal                                   0\n",
              "country                              488\n",
              "market_segment                         0\n",
              "distribution_channel                   0\n",
              "is_repeated_guest                      0\n",
              "previous_cancellations                 0\n",
              "previous_bookings_not_canceled         0\n",
              "reserved_room_type                     0\n",
              "assigned_room_type                     0\n",
              "booking_changes                        0\n",
              "deposit_type                           0\n",
              "agent                              16340\n",
              "company                           112593\n",
              "days_in_waiting_list                   0\n",
              "customer_type                          0\n",
              "adr                                    0\n",
              "required_car_parking_spaces            0\n",
              "total_of_special_requests              0\n",
              "reservation_status                     0\n",
              "reservation_status_date                0\n",
              "dtype: int64"
            ]
          },
          "metadata": {},
          "execution_count": 92
        }
      ],
      "source": [
        "df.isnull().sum()"
      ]
    },
    {
      "cell_type": "code",
      "execution_count": 93,
      "metadata": {
        "colab": {
          "base_uri": "https://localhost:8080/"
        },
        "id": "YjbUnob8iCBi",
        "outputId": "f36e138a-3a0f-4e84-bef7-642c8b9cc74b"
      },
      "outputs": [
        {
          "output_type": "execute_result",
          "data": {
            "text/plain": [
              "(119390, 32)"
            ]
          },
          "metadata": {},
          "execution_count": 93
        }
      ],
      "source": [
        "df.shape"
      ]
    },
    {
      "cell_type": "markdown",
      "metadata": {
        "id": "g8ekw_nZflcs"
      },
      "source": [
        "# Phase 2: Transform"
      ]
    },
    {
      "cell_type": "markdown",
      "metadata": {
        "id": "ldzqP4CYh6pC"
      },
      "source": [
        "# Duplicated data"
      ]
    },
    {
      "cell_type": "code",
      "execution_count": 94,
      "metadata": {
        "colab": {
          "base_uri": "https://localhost:8080/"
        },
        "id": "HvrHzJi4h8Up",
        "outputId": "033e9ac8-5531-4654-e3b2-4ab21bd4016a"
      },
      "outputs": [
        {
          "output_type": "execute_result",
          "data": {
            "text/plain": [
              "0         False\n",
              "1         False\n",
              "2         False\n",
              "3         False\n",
              "4         False\n",
              "          ...  \n",
              "119385    False\n",
              "119386    False\n",
              "119387    False\n",
              "119388    False\n",
              "119389    False\n",
              "Length: 119390, dtype: bool"
            ]
          },
          "metadata": {},
          "execution_count": 94
        }
      ],
      "source": [
        "df.duplicated()"
      ]
    },
    {
      "cell_type": "code",
      "execution_count": 95,
      "metadata": {
        "colab": {
          "base_uri": "https://localhost:8080/"
        },
        "id": "nPJactsUh_My",
        "outputId": "b8ccdc17-cb19-43a0-aec6-89bb151684a8"
      },
      "outputs": [
        {
          "output_type": "execute_result",
          "data": {
            "text/plain": [
              "(87396, 32)"
            ]
          },
          "metadata": {},
          "execution_count": 95
        }
      ],
      "source": [
        "df_no_duplicated = df.drop_duplicates()\n",
        "df_no_duplicated.shape"
      ]
    },
    {
      "cell_type": "markdown",
      "metadata": {
        "id": "TBEV5DKFiHPK"
      },
      "source": [
        "# Empty data"
      ]
    },
    {
      "cell_type": "markdown",
      "metadata": {
        "id": "c7qDNackjPFp"
      },
      "source": [
        "Feature Engineering => Remove unnecessary dimensions"
      ]
    },
    {
      "cell_type": "code",
      "execution_count": 96,
      "metadata": {
        "colab": {
          "base_uri": "https://localhost:8080/"
        },
        "id": "aWnzFYdiirT5",
        "outputId": "ca7a4411-f6bd-4a1f-8608-61e1830b2626"
      },
      "outputs": [
        {
          "output_type": "execute_result",
          "data": {
            "text/plain": [
              "hotel                             Resort Hotel\n",
              "is_canceled                                  0\n",
              "lead_time                                  111\n",
              "arrival_date_year                         2015\n",
              "arrival_date_month                        July\n",
              "arrival_date_week_number                    28\n",
              "arrival_date_day_of_month                    6\n",
              "stays_in_weekend_nights                      1\n",
              "stays_in_week_nights                         3\n",
              "adults                                       2\n",
              "children                                   0.0\n",
              "babies                                       0\n",
              "meal                                        BB\n",
              "country                                    PRT\n",
              "market_segment                       Online TA\n",
              "distribution_channel                     TA/TO\n",
              "is_repeated_guest                            0\n",
              "previous_cancellations                       0\n",
              "previous_bookings_not_canceled               0\n",
              "reserved_room_type                           A\n",
              "assigned_room_type                           C\n",
              "booking_changes                              0\n",
              "deposit_type                        No Deposit\n",
              "days_in_waiting_list                         0\n",
              "customer_type                        Transient\n",
              "adr                                      123.0\n",
              "required_car_parking_spaces                  0\n",
              "total_of_special_requests                    2\n",
              "reservation_status                   Check-Out\n",
              "reservation_status_date             10/07/2015\n",
              "Name: 161, dtype: object"
            ]
          },
          "metadata": {},
          "execution_count": 96
        }
      ],
      "source": [
        "df_empty_data_management = df_no_duplicated.drop([\"agent\",\"company\"], axis=1)\n",
        "df_empty_data_management.iloc[157]"
      ]
    },
    {
      "cell_type": "code",
      "execution_count": 97,
      "metadata": {
        "colab": {
          "base_uri": "https://localhost:8080/"
        },
        "id": "ylu3gMARjj-2",
        "outputId": "41dacef5-0a83-4492-81ba-677fadc9b287"
      },
      "outputs": [
        {
          "output_type": "stream",
          "name": "stdout",
          "text": [
            "hotel                               0\n",
            "is_canceled                         0\n",
            "lead_time                           0\n",
            "arrival_date_year                   0\n",
            "arrival_date_month                  0\n",
            "arrival_date_week_number            0\n",
            "arrival_date_day_of_month           0\n",
            "stays_in_weekend_nights             0\n",
            "stays_in_week_nights                0\n",
            "adults                              0\n",
            "children                            4\n",
            "babies                              0\n",
            "meal                                0\n",
            "country                           452\n",
            "market_segment                      0\n",
            "distribution_channel                0\n",
            "is_repeated_guest                   0\n",
            "previous_cancellations              0\n",
            "previous_bookings_not_canceled      0\n",
            "reserved_room_type                  0\n",
            "assigned_room_type                  0\n",
            "booking_changes                     0\n",
            "deposit_type                        0\n",
            "days_in_waiting_list                0\n",
            "customer_type                       0\n",
            "adr                                 0\n",
            "required_car_parking_spaces         0\n",
            "total_of_special_requests           0\n",
            "reservation_status                  0\n",
            "reservation_status_date             0\n",
            "dtype: int64\n",
            "Actual DF shape:  (87396, 30)\n"
          ]
        }
      ],
      "source": [
        "print(df_empty_data_management.isnull().sum())\n",
        "print(\"Actual DF shape: \",df_empty_data_management.shape)"
      ]
    },
    {
      "cell_type": "markdown",
      "metadata": {
        "id": "lT7qi2EWfkQ9"
      },
      "source": [
        "KPIs:\n",
        "\n",
        "\n",
        "*   Lead Time\n",
        "*   Cancellation Ratio\n",
        "*   Required Parking Spaces Utilization vs. Total Special Requests\n",
        "*   Booking Changes to Waiting Time Ratio\n",
        "*   Ratio of Adults vs. Children vs. Babies\n",
        "*   Special Requests per Guest\n",
        "*   Lead Time vs. Previous Cancellations Ratio\n",
        "*   Booking Changes per Arrival Date Week Number\n",
        "\n",
        "\n",
        "\n",
        "\n",
        "\n",
        "\n",
        "\n",
        "\n",
        "\n",
        "\n",
        "\n",
        "\n"
      ]
    },
    {
      "cell_type": "markdown",
      "metadata": {
        "id": "sTJ16lx8gvj9"
      },
      "source": [
        "Critical Dimensions:\n",
        "\n",
        "\n",
        "*   Market Segment\n",
        "*   Distribution Channel\n",
        "\n"
      ]
    },
    {
      "cell_type": "markdown",
      "metadata": {
        "id": "_fHuOO0AfqGi"
      },
      "source": [
        "# Feature Engineering (For KPIs)"
      ]
    },
    {
      "cell_type": "markdown",
      "metadata": {
        "id": "K72jmBrZfxXS"
      },
      "source": [
        "Cancellation Ratio"
      ]
    },
    {
      "cell_type": "code",
      "execution_count": 98,
      "metadata": {
        "id": "smZ2F7Oekkcl"
      },
      "outputs": [],
      "source": [
        "df_empty_data_management['cancelation_ratio'] = df_empty_data_management['previous_cancellations'] / (df_empty_data_management['previous_cancellations'] + df_empty_data_management['previous_bookings_not_canceled'])"
      ]
    },
    {
      "cell_type": "markdown",
      "metadata": {
        "id": "-iDpz2J_k4t8"
      },
      "source": [
        "Required Parking Spaces Utilization vs. Total Special Requests"
      ]
    },
    {
      "cell_type": "code",
      "execution_count": 99,
      "metadata": {
        "id": "zTXuru50lA6w"
      },
      "outputs": [],
      "source": [
        "df_empty_data_management['parking_special_ratio'] = df_empty_data_management['required_car_parking_spaces'] / df_empty_data_management['total_of_special_requests']"
      ]
    },
    {
      "cell_type": "markdown",
      "metadata": {
        "id": "X3mdpsRBlFJx"
      },
      "source": [
        "Booking Changes to Waiting Time Ratio"
      ]
    },
    {
      "cell_type": "code",
      "execution_count": 100,
      "metadata": {
        "id": "TeR9th_vlMIb"
      },
      "outputs": [],
      "source": [
        "df_empty_data_management['booking_changes_waiting_time_ratio'] = df_empty_data_management['booking_changes'] / df_empty_data_management['days_in_waiting_list']"
      ]
    },
    {
      "cell_type": "markdown",
      "metadata": {
        "id": "SeRsVnpclUNn"
      },
      "source": [
        "Ratio of Adults vs. Children vs. Babies"
      ]
    },
    {
      "cell_type": "code",
      "execution_count": 101,
      "metadata": {
        "id": "4iFiaEbXlZKA"
      },
      "outputs": [],
      "source": [
        "df_empty_data_management['adults_ratio'] = df_empty_data_management['adults'] / (df_empty_data_management['adults'] + df_empty_data_management['children'] + df_empty_data_management['babies'])\n",
        "df_empty_data_management['children_ratio'] = df_empty_data_management['children'] / (df_empty_data_management['adults'] + df_empty_data_management['children'] + df_empty_data_management['babies'])\n",
        "df_empty_data_management['babies_ratio'] = df_empty_data_management['babies'] / (df_empty_data_management['adults'] + df_empty_data_management['children'] + df_empty_data_management['babies'])"
      ]
    },
    {
      "cell_type": "markdown",
      "metadata": {
        "id": "R_4JGx5plhx9"
      },
      "source": [
        "Special Requests per Guest"
      ]
    },
    {
      "cell_type": "code",
      "execution_count": 102,
      "metadata": {
        "id": "s6Qxec4RliL2"
      },
      "outputs": [],
      "source": [
        "df_empty_data_management['special_requests_per_guest'] = df_empty_data_management['total_of_special_requests'] / (df_empty_data_management['adults'] + df_empty_data_management['children'] + df_empty_data_management['babies'])"
      ]
    },
    {
      "cell_type": "markdown",
      "metadata": {
        "id": "2zZCztxBlolH"
      },
      "source": [
        "Lead Time vs. Previous Cancellations Ratio"
      ]
    },
    {
      "cell_type": "code",
      "execution_count": 103,
      "metadata": {
        "id": "JnSVKoeTlpIm"
      },
      "outputs": [],
      "source": [
        "df_empty_data_management['lead_time_previous_cancel_ratio'] = df_empty_data_management['lead_time'] / df_empty_data_management['previous_cancellations']"
      ]
    },
    {
      "cell_type": "markdown",
      "metadata": {
        "id": "_RtF9RyKlwfd"
      },
      "source": [
        "Booking Changes per Arrival Date Week Number"
      ]
    },
    {
      "cell_type": "code",
      "execution_count": 104,
      "metadata": {
        "id": "V9T8LSYalw4Z"
      },
      "outputs": [],
      "source": [
        "df_empty_data_management['booking_changes_per_week'] = df_empty_data_management['booking_changes'] / df_empty_data_management['arrival_date_week_number']"
      ]
    },
    {
      "cell_type": "code",
      "execution_count": 105,
      "metadata": {
        "colab": {
          "base_uri": "https://localhost:8080/"
        },
        "id": "YZx-lqA0l-_X",
        "outputId": "217aab5c-074f-43d2-a61f-d9cc60ad8042"
      },
      "outputs": [
        {
          "output_type": "stream",
          "name": "stdout",
          "text": [
            "<class 'pandas.core.frame.DataFrame'>\n",
            "RangeIndex: 119390 entries, 0 to 119389\n",
            "Data columns (total 32 columns):\n",
            " #   Column                          Non-Null Count   Dtype  \n",
            "---  ------                          --------------   -----  \n",
            " 0   hotel                           119390 non-null  object \n",
            " 1   is_canceled                     119390 non-null  int64  \n",
            " 2   lead_time                       119390 non-null  int64  \n",
            " 3   arrival_date_year               119390 non-null  int64  \n",
            " 4   arrival_date_month              119390 non-null  object \n",
            " 5   arrival_date_week_number        119390 non-null  int64  \n",
            " 6   arrival_date_day_of_month       119390 non-null  int64  \n",
            " 7   stays_in_weekend_nights         119390 non-null  int64  \n",
            " 8   stays_in_week_nights            119390 non-null  int64  \n",
            " 9   adults                          119390 non-null  int64  \n",
            " 10  children                        119386 non-null  float64\n",
            " 11  babies                          119390 non-null  int64  \n",
            " 12  meal                            119390 non-null  object \n",
            " 13  country                         118902 non-null  object \n",
            " 14  market_segment                  119390 non-null  object \n",
            " 15  distribution_channel            119390 non-null  object \n",
            " 16  is_repeated_guest               119390 non-null  int64  \n",
            " 17  previous_cancellations          119390 non-null  int64  \n",
            " 18  previous_bookings_not_canceled  119390 non-null  int64  \n",
            " 19  reserved_room_type              119390 non-null  object \n",
            " 20  assigned_room_type              119390 non-null  object \n",
            " 21  booking_changes                 119390 non-null  int64  \n",
            " 22  deposit_type                    119390 non-null  object \n",
            " 23  agent                           103050 non-null  float64\n",
            " 24  company                         6797 non-null    float64\n",
            " 25  days_in_waiting_list            119390 non-null  int64  \n",
            " 26  customer_type                   119390 non-null  object \n",
            " 27  adr                             119390 non-null  float64\n",
            " 28  required_car_parking_spaces     119390 non-null  int64  \n",
            " 29  total_of_special_requests       119390 non-null  int64  \n",
            " 30  reservation_status              119390 non-null  object \n",
            " 31  reservation_status_date         119390 non-null  object \n",
            "dtypes: float64(4), int64(16), object(12)\n",
            "memory usage: 29.1+ MB\n"
          ]
        }
      ],
      "source": [
        "df.info()"
      ]
    },
    {
      "cell_type": "markdown",
      "metadata": {
        "id": "irT2M3VMmOlW"
      },
      "source": [
        "# Statistic Graphics for KPIs"
      ]
    },
    {
      "cell_type": "markdown",
      "metadata": {
        "id": "VZu8WFf3fFwF"
      },
      "source": [
        "# 1. Lead Time"
      ]
    },
    {
      "cell_type": "code",
      "execution_count": 106,
      "metadata": {
        "colab": {
          "base_uri": "https://localhost:8080/",
          "height": 564
        },
        "id": "p5b5NBz3fFgO",
        "outputId": "2adeb487-30fe-4c82-a39e-2fdff3a25f9a"
      },
      "outputs": [
        {
          "output_type": "display_data",
          "data": {
            "text/plain": [
              "<Figure size 800x600 with 1 Axes>"
            ],
            "image/png": "[encoded data removed]"
          },
          "metadata": {}
        }
      ],
      "source": [
        "import matplotlib.pyplot as plt\n",
        "import seaborn as sns\n",
        "\n",
        "plt.figure(figsize=(8, 6))\n",
        "sns.histplot(df_empty_data_management['lead_time'], bins=30, kde=True)\n",
        "plt.title('Lead Time Distribution')\n",
        "plt.xlabel('Lead Time')\n",
        "plt.ylabel('Frequency')\n",
        "plt.show()"
      ]
    },
    {
      "cell_type": "markdown",
      "metadata": {
        "id": "VAbU62V7fP0F"
      },
      "source": [
        "# 2. Cancellation Ratio\n"
      ]
    },
    {
      "cell_type": "code",
      "execution_count": 107,
      "metadata": {
        "colab": {
          "base_uri": "https://localhost:8080/",
          "height": 564
        },
        "id": "o4P59_dNmT8o",
        "outputId": "f8abf725-6f82-4208-91ce-eb6303b1e85b"
      },
      "outputs": [
        {
          "output_type": "display_data",
          "data": {
            "text/plain": [
              "<Figure size 800x600 with 1 Axes>"
            ],
            "image/png": "[encoded data removed]"
          },
          "metadata": {}
        }
      ],
      "source": [
        "plt.figure(figsize=(8, 6))\n",
        "sns.barplot(x=df_empty_data_management['is_canceled'], y=df_empty_data_management['cancelation_ratio'])\n",
        "plt.title('Cancellation Ratio')\n",
        "plt.xlabel('Canceled')\n",
        "plt.ylabel('Cancellation Ratio')\n",
        "plt.show()"
      ]
    },
    {
      "cell_type": "markdown",
      "metadata": {
        "id": "GPSKqhDlnSX4"
      },
      "source": [
        "# 3. Required Parking Spaces Utilization vs. Total Special Requests"
      ]
    },
    {
      "cell_type": "code",
      "execution_count": 108,
      "metadata": {
        "colab": {
          "base_uri": "https://localhost:8080/",
          "height": 564
        },
        "id": "UtOWFJn1nS1X",
        "outputId": "a5620f3e-fb53-4532-df41-01c82a086662"
      },
      "outputs": [
        {
          "output_type": "display_data",
          "data": {
            "text/plain": [
              "<Figure size 800x600 with 1 Axes>"
            ],
            "image/png": "[encoded data removed]"
          },
          "metadata": {}
        }
      ],
      "source": [
        "plt.figure(figsize=(8, 6))\n",
        "sns.scatterplot(x=df_empty_data_management['required_car_parking_spaces'], y=df_empty_data_management['total_of_special_requests'])\n",
        "plt.title('Required Parking Spaces Utilization vs. Total Special Requests')\n",
        "plt.xlabel('Required Parking Spaces')\n",
        "plt.ylabel('Total Special Requests')\n",
        "plt.show()"
      ]
    },
    {
      "cell_type": "markdown",
      "metadata": {
        "id": "cqFz7tc2nmoL"
      },
      "source": [
        "# 4. Booking Changes to Waiting Time Ratio"
      ]
    },
    {
      "cell_type": "code",
      "execution_count": 109,
      "metadata": {
        "colab": {
          "base_uri": "https://localhost:8080/",
          "height": 564
        },
        "id": "2HeMFPR7nmCL",
        "outputId": "94065ca2-a0c2-48ca-ea73-e4346c00e9d0"
      },
      "outputs": [
        {
          "output_type": "display_data",
          "data": {
            "text/plain": [
              "<Figure size 800x600 with 1 Axes>"
            ],
            "image/png": "[encoded data removed]"
          },
          "metadata": {}
        }
      ],
      "source": [
        "plt.figure(figsize=(8, 6))\n",
        "sns.scatterplot(x=df_empty_data_management['booking_changes'], y=df_empty_data_management['days_in_waiting_list'])\n",
        "plt.title('Booking Changes to Waiting Time Ratio')\n",
        "plt.xlabel('Booking Changes')\n",
        "plt.ylabel('Days in Waiting List')\n",
        "plt.show()"
      ]
    },
    {
      "cell_type": "markdown",
      "metadata": {
        "id": "xEaJOIOeoqyZ"
      },
      "source": [
        "# 5. Ratio of Adults vs. Children vs. Babies\n"
      ]
    },
    {
      "cell_type": "code",
      "execution_count": 110,
      "metadata": {
        "colab": {
          "base_uri": "https://localhost:8080/",
          "height": 606
        },
        "id": "qXpFnIqhordd",
        "outputId": "d917457b-2e02-480f-8b44-4df080c41efd"
      },
      "outputs": [
        {
          "output_type": "display_data",
          "data": {
            "text/plain": [
              "<Figure size 800x600 with 1 Axes>"
            ],
            "image/png": "[encoded data removed]"
          },
          "metadata": {}
        }
      ],
      "source": [
        "adults_children_babies = df_empty_data_management[['adults', 'children', 'babies']].sum()\n",
        "plt.figure(figsize=(8, 6))\n",
        "adults_children_babies.plot(kind='bar', stacked=True)\n",
        "plt.title('Ratio of Adults vs. Children vs. Babies')\n",
        "plt.xlabel('Category')\n",
        "plt.ylabel('Count')\n",
        "plt.show()"
      ]
    },
    {
      "cell_type": "markdown",
      "metadata": {
        "id": "XnFBYEmVpLXQ"
      },
      "source": [
        "# 6. Special Requests per Guest\n"
      ]
    },
    {
      "cell_type": "code",
      "execution_count": 111,
      "metadata": {
        "colab": {
          "base_uri": "https://localhost:8080/",
          "height": 564
        },
        "id": "WBC4ke4sovm2",
        "outputId": "2a42d078-8b90-4e1a-be47-4370972bf5ac"
      },
      "outputs": [
        {
          "output_type": "display_data",
          "data": {
            "text/plain": [
              "<Figure size 800x600 with 1 Axes>"
            ],
            "image/png": "[encoded data removed]"
          },
          "metadata": {}
        }
      ],
      "source": [
        "plt.figure(figsize=(8, 6))\n",
        "sns.histplot(df_empty_data_management['special_requests_per_guest'], bins=20, kde=True)\n",
        "plt.title('Special Requests per Guest Distribution')\n",
        "plt.xlabel('Special Requests per Guest')\n",
        "plt.ylabel('Frequency')\n",
        "plt.show()"
      ]
    },
    {
      "cell_type": "markdown",
      "metadata": {
        "id": "cN5aD0RRpZyV"
      },
      "source": [
        "# 7. Lead Time vs. Previous Cancellations Ratio\n"
      ]
    },
    {
      "cell_type": "code",
      "execution_count": 112,
      "metadata": {
        "colab": {
          "base_uri": "https://localhost:8080/",
          "height": 564
        },
        "id": "Z7H5BTo3pZJV",
        "outputId": "ff03195e-d834-4e7f-88e8-a0dead7d90cf"
      },
      "outputs": [
        {
          "output_type": "display_data",
          "data": {
            "text/plain": [
              "<Figure size 800x600 with 1 Axes>"
            ],
            "image/png": "[encoded data removed]"
          },
          "metadata": {}
        }
      ],
      "source": [
        "plt.figure(figsize=(8, 6))\n",
        "sns.scatterplot(x=df_empty_data_management['lead_time'], y=df_empty_data_management['previous_cancellations'])\n",
        "plt.title('Lead Time vs. Previous Cancellations Ratio')\n",
        "plt.xlabel('Lead Time')\n",
        "plt.ylabel('Previous Cancellations')\n",
        "plt.show()"
      ]
    },
    {
      "cell_type": "markdown",
      "metadata": {
        "id": "zWrs0txiplZd"
      },
      "source": [
        "# 8. Booking Changes per Arrival Date Week Number\n"
      ]
    },
    {
      "cell_type": "code",
      "execution_count": 113,
      "metadata": {
        "colab": {
          "base_uri": "https://localhost:8080/",
          "height": 573
        },
        "id": "CiZ_C2WoqCOt",
        "outputId": "c044e783-d937-4a01-d4bc-ccff150b5119"
      },
      "outputs": [
        {
          "output_type": "display_data",
          "data": {
            "text/plain": [
              "<Figure size 1000x600 with 1 Axes>"
            ],
            "image/png": "[encoded data removed]"
          },
          "metadata": {}
        }
      ],
      "source": [
        "plt.figure(figsize=(10, 6))\n",
        "sns.barplot(x=df_empty_data_management['arrival_date_week_number'], y=df_empty_data_management['booking_changes'])\n",
        "plt.title('Booking Changes per Arrival Date Week Number')\n",
        "plt.xlabel('Arrival Date Week Number')\n",
        "plt.ylabel('Booking Changes')\n",
        "plt.xticks(rotation=45)\n",
        "plt.show()"
      ]
    },
    {
      "cell_type": "markdown",
      "metadata": {
        "id": "QWde_F8tqQif"
      },
      "source": [
        "# Removing unnecessary dimensions"
      ]
    },
    {
      "cell_type": "code",
      "execution_count": 114,
      "metadata": {
        "colab": {
          "base_uri": "https://localhost:8080/"
        },
        "id": "VXh9P176rGOd",
        "outputId": "f07afc56-e2db-457e-bb1f-a283ae49f78d"
      },
      "outputs": [
        {
          "output_type": "stream",
          "name": "stdout",
          "text": [
            "<class 'pandas.core.frame.DataFrame'>\n",
            "Int64Index: 87396 entries, 0 to 119389\n",
            "Data columns (total 39 columns):\n",
            " #   Column                              Non-Null Count  Dtype  \n",
            "---  ------                              --------------  -----  \n",
            " 0   hotel                               87396 non-null  object \n",
            " 1   is_canceled                         87396 non-null  int64  \n",
            " 2   lead_time                           87396 non-null  int64  \n",
            " 3   arrival_date_year                   87396 non-null  int64  \n",
            " 4   arrival_date_month                  87396 non-null  object \n",
            " 5   arrival_date_week_number            87396 non-null  int64  \n",
            " 6   arrival_date_day_of_month           87396 non-null  int64  \n",
            " 7   stays_in_weekend_nights             87396 non-null  int64  \n",
            " 8   stays_in_week_nights                87396 non-null  int64  \n",
            " 9   adults                              87396 non-null  int64  \n",
            " 10  children                            87392 non-null  float64\n",
            " 11  babies                              87396 non-null  int64  \n",
            " 12  meal                                87396 non-null  object \n",
            " 13  country                             86944 non-null  object \n",
            " 14  market_segment                      87396 non-null  object \n",
            " 15  distribution_channel                87396 non-null  object \n",
            " 16  is_repeated_guest                   87396 non-null  int64  \n",
            " 17  previous_cancellations              87396 non-null  int64  \n",
            " 18  previous_bookings_not_canceled      87396 non-null  int64  \n",
            " 19  reserved_room_type                  87396 non-null  object \n",
            " 20  assigned_room_type                  87396 non-null  object \n",
            " 21  booking_changes                     87396 non-null  int64  \n",
            " 22  deposit_type                        87396 non-null  object \n",
            " 23  days_in_waiting_list                87396 non-null  int64  \n",
            " 24  customer_type                       87396 non-null  object \n",
            " 25  adr                                 87396 non-null  float64\n",
            " 26  required_car_parking_spaces         87396 non-null  int64  \n",
            " 27  total_of_special_requests           87396 non-null  int64  \n",
            " 28  reservation_status                  87396 non-null  object \n",
            " 29  reservation_status_date             87396 non-null  object \n",
            " 30  cancelation_ratio                   4602 non-null   float64\n",
            " 31  parking_special_ratio               46584 non-null  float64\n",
            " 32  booking_changes_waiting_time_ratio  16461 non-null  float64\n",
            " 33  adults_ratio                        87226 non-null  float64\n",
            " 34  children_ratio                      87226 non-null  float64\n",
            " 35  babies_ratio                        87226 non-null  float64\n",
            " 36  special_requests_per_guest          87287 non-null  float64\n",
            " 37  lead_time_previous_cancel_ratio     81538 non-null  float64\n",
            " 38  booking_changes_per_week            87396 non-null  float64\n",
            "dtypes: float64(11), int64(16), object(12)\n",
            "memory usage: 26.7+ MB\n"
          ]
        }
      ],
      "source": [
        "df_empty_data_management.info()"
      ]
    },
    {
      "cell_type": "markdown",
      "metadata": {
        "id": "3b98Vv24sgI4"
      },
      "source": [
        "Drop unnecessary dimensions"
      ]
    },
    {
      "cell_type": "code",
      "execution_count": 115,
      "metadata": {
        "colab": {
          "base_uri": "https://localhost:8080/"
        },
        "id": "7vtdh0evr82x",
        "outputId": "e031b77b-04ad-4888-8d56-7046b80d3ae1"
      },
      "outputs": [
        {
          "output_type": "stream",
          "name": "stdout",
          "text": [
            "<class 'pandas.core.frame.DataFrame'>\n",
            "Int64Index: 87396 entries, 0 to 119389\n",
            "Data columns (total 29 columns):\n",
            " #   Column                              Non-Null Count  Dtype  \n",
            "---  ------                              --------------  -----  \n",
            " 0   is_canceled                         87396 non-null  int64  \n",
            " 1   lead_time                           87396 non-null  int64  \n",
            " 2   arrival_date_year                   87396 non-null  int64  \n",
            " 3   arrival_date_week_number            87396 non-null  int64  \n",
            " 4   arrival_date_day_of_month           87396 non-null  int64  \n",
            " 5   stays_in_weekend_nights             87396 non-null  int64  \n",
            " 6   stays_in_week_nights                87396 non-null  int64  \n",
            " 7   adults                              87396 non-null  int64  \n",
            " 8   children                            87392 non-null  float64\n",
            " 9   babies                              87396 non-null  int64  \n",
            " 10  market_segment                      87396 non-null  object \n",
            " 11  distribution_channel                87396 non-null  object \n",
            " 12  is_repeated_guest                   87396 non-null  int64  \n",
            " 13  previous_cancellations              87396 non-null  int64  \n",
            " 14  previous_bookings_not_canceled      87396 non-null  int64  \n",
            " 15  booking_changes                     87396 non-null  int64  \n",
            " 16  days_in_waiting_list                87396 non-null  int64  \n",
            " 17  adr                                 87396 non-null  float64\n",
            " 18  required_car_parking_spaces         87396 non-null  int64  \n",
            " 19  total_of_special_requests           87396 non-null  int64  \n",
            " 20  cancelation_ratio                   4602 non-null   float64\n",
            " 21  parking_special_ratio               46584 non-null  float64\n",
            " 22  booking_changes_waiting_time_ratio  16461 non-null  float64\n",
            " 23  adults_ratio                        87226 non-null  float64\n",
            " 24  children_ratio                      87226 non-null  float64\n",
            " 25  babies_ratio                        87226 non-null  float64\n",
            " 26  special_requests_per_guest          87287 non-null  float64\n",
            " 27  lead_time_previous_cancel_ratio     81538 non-null  float64\n",
            " 28  booking_changes_per_week            87396 non-null  float64\n",
            "dtypes: float64(11), int64(16), object(2)\n",
            "memory usage: 20.0+ MB\n"
          ]
        }
      ],
      "source": [
        "columns_to_drop = ['hotel', 'arrival_date_month', 'meal', 'country',\n",
        "                   'reserved_room_type', 'assigned_room_type', 'deposit_type', 'customer_type',\n",
        "                   'reservation_status', 'reservation_status_date']\n",
        "\n",
        "df_cleaned = df_empty_data_management.drop(columns=columns_to_drop)\n",
        "\n",
        "df_cleaned.info()"
      ]
    },
    {
      "cell_type": "markdown",
      "metadata": {
        "id": "KN1qONX7t3zB"
      },
      "source": [
        "# Encoding categorical values"
      ]
    },
    {
      "cell_type": "code",
      "execution_count": 116,
      "metadata": {
        "colab": {
          "base_uri": "https://localhost:8080/"
        },
        "id": "glkt_ybbtnbj",
        "outputId": "bc8cfccb-3c0a-41c6-84d3-b8905289083a"
      },
      "outputs": [
        {
          "output_type": "execute_result",
          "data": {
            "text/plain": [
              "Online TA        51618\n",
              "Offline TA/TO    13889\n",
              "Direct           11804\n",
              "Groups            4942\n",
              "Corporate         4212\n",
              "Complementary      702\n",
              "Aviation           227\n",
              "Undefined            2\n",
              "Name: market_segment, dtype: int64"
            ]
          },
          "metadata": {},
          "execution_count": 116
        }
      ],
      "source": [
        "df_cleaned[\"market_segment\"].value_counts()"
      ]
    },
    {
      "cell_type": "code",
      "execution_count": 117,
      "metadata": {
        "colab": {
          "base_uri": "https://localhost:8080/"
        },
        "id": "0808dLcutxw7",
        "outputId": "57b68e0c-abc7-4043-e517-c23114981e83"
      },
      "outputs": [
        {
          "output_type": "execute_result",
          "data": {
            "text/plain": [
              "TA/TO        69141\n",
              "Direct       12988\n",
              "Corporate     5081\n",
              "GDS            181\n",
              "Undefined        5\n",
              "Name: distribution_channel, dtype: int64"
            ]
          },
          "metadata": {},
          "execution_count": 117
        }
      ],
      "source": [
        "df_cleaned[\"distribution_channel\"].value_counts()"
      ]
    },
    {
      "cell_type": "code",
      "execution_count": 118,
      "metadata": {
        "colab": {
          "base_uri": "https://localhost:8080/"
        },
        "id": "mlaC42pjuMA0",
        "outputId": "44e2ff45-ea74-4d2e-b625-d534e0ae341e"
      },
      "outputs": [
        {
          "output_type": "execute_result",
          "data": {
            "text/plain": [
              "Index(['market_segment', 'distribution_channel'], dtype='object')"
            ]
          },
          "metadata": {},
          "execution_count": 118
        }
      ],
      "source": [
        "categorical_features = df_cleaned.select_dtypes(include=['object']).columns\n",
        "categorical_features"
      ]
    },
    {
      "cell_type": "markdown",
      "metadata": {
        "id": "pYEPRCGkumKb"
      },
      "source": [
        "Creating pipelines"
      ]
    },
    {
      "cell_type": "code",
      "execution_count": 119,
      "metadata": {
        "id": "AYa7bxdMuW9z"
      },
      "outputs": [],
      "source": [
        "from sklearn.preprocessing import StandardScaler,OneHotEncoder\n",
        "from sklearn.impute import SimpleImputer\n",
        "from sklearn.pipeline import Pipeline\n",
        "\n",
        "numeric_pipeline = Pipeline([\n",
        "    ('imputer', SimpleImputer(strategy='mean')),\n",
        "    ('scaler', StandardScaler()),\n",
        "])\n",
        "\n",
        "onehot_transformer = OneHotEncoder(sparse_output=False, handle_unknown='ignore')"
      ]
    },
    {
      "cell_type": "code",
      "execution_count": 120,
      "metadata": {
        "colab": {
          "base_uri": "https://localhost:8080/"
        },
        "id": "opyoYdsWuw_K",
        "outputId": "2132d635-20d2-4113-8db0-293b4f0b6206"
      },
      "outputs": [
        {
          "output_type": "execute_result",
          "data": {
            "text/plain": [
              "Index(['is_canceled', 'lead_time', 'arrival_date_year',\n",
              "       'arrival_date_week_number', 'arrival_date_day_of_month',\n",
              "       'stays_in_weekend_nights', 'stays_in_week_nights', 'adults', 'children',\n",
              "       'babies', 'is_repeated_guest', 'previous_cancellations',\n",
              "       'previous_bookings_not_canceled', 'booking_changes',\n",
              "       'days_in_waiting_list', 'adr', 'required_car_parking_spaces',\n",
              "       'total_of_special_requests', 'cancelation_ratio',\n",
              "       'parking_special_ratio', 'booking_changes_waiting_time_ratio',\n",
              "       'adults_ratio', 'children_ratio', 'babies_ratio',\n",
              "       'special_requests_per_guest', 'lead_time_previous_cancel_ratio',\n",
              "       'booking_changes_per_week'],\n",
              "      dtype='object')"
            ]
          },
          "metadata": {},
          "execution_count": 120
        }
      ],
      "source": [
        "numeric_features = df_cleaned.select_dtypes(include=['int64', 'float64']).columns\n",
        "numeric_features"
      ]
    },
    {
      "cell_type": "markdown",
      "metadata": {
        "id": "EqLLK_-FuoZy"
      },
      "source": [
        "Creating a pre-processor"
      ]
    },
    {
      "cell_type": "code",
      "execution_count": 121,
      "metadata": {
        "id": "8gRNcJJRurbC"
      },
      "outputs": [],
      "source": [
        "from sklearn.pipeline import Pipeline\n",
        "from sklearn.compose import ColumnTransformer\n",
        "\n",
        "preprocessor = ColumnTransformer(\n",
        "    transformers=[\n",
        "        ('num', numeric_pipeline, numeric_features),\n",
        "        ('cat', onehot_transformer, categorical_features)\n",
        "    ])"
      ]
    },
    {
      "cell_type": "markdown",
      "metadata": {
        "id": "z8z6W2Rtzwdm"
      },
      "source": [
        "Clean data from inf. and nan values"
      ]
    },
    {
      "cell_type": "code",
      "execution_count": 122,
      "metadata": {
        "colab": {
          "base_uri": "https://localhost:8080/"
        },
        "id": "TU8Tz0lDzYx8",
        "outputId": "902020b8-ff87-461b-93ef-203f54bc94fa"
      },
      "outputs": [
        {
          "output_type": "execute_result",
          "data": {
            "text/plain": [
              "(87396, 29)"
            ]
          },
          "metadata": {},
          "execution_count": 122
        }
      ],
      "source": [
        "import numpy as np\n",
        "\n",
        "df_cleaned.replace([np.inf, -np.inf], np.nan, inplace=True)\n",
        "df_cleaned.dropna()\n",
        "df_cleaned.shape"
      ]
    },
    {
      "cell_type": "markdown",
      "metadata": {
        "id": "To7YvcXYz0BR"
      },
      "source": [
        "Develop and use the Pipeline (StandardScaler and OneHot Encoder)"
      ]
    },
    {
      "cell_type": "code",
      "execution_count": 123,
      "metadata": {
        "colab": {
          "base_uri": "https://localhost:8080/"
        },
        "id": "wcR78IBnwufY",
        "outputId": "6ff24560-8c98-469e-be36-38db51ea0427"
      },
      "outputs": [
        {
          "output_type": "stream",
          "name": "stdout",
          "text": [
            "<class 'pandas.core.frame.DataFrame'>\n",
            "RangeIndex: 87396 entries, 0 to 87395\n",
            "Data columns (total 40 columns):\n",
            " #   Column                                   Non-Null Count  Dtype  \n",
            "---  ------                                   --------------  -----  \n",
            " 0   num__is_canceled                         87396 non-null  float64\n",
            " 1   num__lead_time                           87396 non-null  float64\n",
            " 2   num__arrival_date_year                   87396 non-null  float64\n",
            " 3   num__arrival_date_week_number            87396 non-null  float64\n",
            " 4   num__arrival_date_day_of_month           87396 non-null  float64\n",
            " 5   num__stays_in_weekend_nights             87396 non-null  float64\n",
            " 6   num__stays_in_week_nights                87396 non-null  float64\n",
            " 7   num__adults                              87396 non-null  float64\n",
            " 8   num__children                            87396 non-null  float64\n",
            " 9   num__babies                              87396 non-null  float64\n",
            " 10  num__is_repeated_guest                   87396 non-null  float64\n",
            " 11  num__previous_cancellations              87396 non-null  float64\n",
            " 12  num__previous_bookings_not_canceled      87396 non-null  float64\n",
            " 13  num__booking_changes                     87396 non-null  float64\n",
            " 14  num__days_in_waiting_list                87396 non-null  float64\n",
            " 15  num__adr                                 87396 non-null  float64\n",
            " 16  num__required_car_parking_spaces         87396 non-null  float64\n",
            " 17  num__total_of_special_requests           87396 non-null  float64\n",
            " 18  num__cancelation_ratio                   87396 non-null  float64\n",
            " 19  num__parking_special_ratio               87396 non-null  float64\n",
            " 20  num__booking_changes_waiting_time_ratio  87396 non-null  float64\n",
            " 21  num__adults_ratio                        87396 non-null  float64\n",
            " 22  num__children_ratio                      87396 non-null  float64\n",
            " 23  num__babies_ratio                        87396 non-null  float64\n",
            " 24  num__special_requests_per_guest          87396 non-null  float64\n",
            " 25  num__lead_time_previous_cancel_ratio     87396 non-null  float64\n",
            " 26  num__booking_changes_per_week            87396 non-null  float64\n",
            " 27  cat__market_segment_Aviation             87396 non-null  float64\n",
            " 28  cat__market_segment_Complementary        87396 non-null  float64\n",
            " 29  cat__market_segment_Corporate            87396 non-null  float64\n",
            " 30  cat__market_segment_Direct               87396 non-null  float64\n",
            " 31  cat__market_segment_Groups               87396 non-null  float64\n",
            " 32  cat__market_segment_Offline TA/TO        87396 non-null  float64\n",
            " 33  cat__market_segment_Online TA            87396 non-null  float64\n",
            " 34  cat__market_segment_Undefined            87396 non-null  float64\n",
            " 35  cat__distribution_channel_Corporate      87396 non-null  float64\n",
            " 36  cat__distribution_channel_Direct         87396 non-null  float64\n",
            " 37  cat__distribution_channel_GDS            87396 non-null  float64\n",
            " 38  cat__distribution_channel_TA/TO          87396 non-null  float64\n",
            " 39  cat__distribution_channel_Undefined      87396 non-null  float64\n",
            "dtypes: float64(40)\n",
            "memory usage: 26.7 MB\n"
          ]
        }
      ],
      "source": [
        "pipeline = Pipeline(steps=[('preprocessor', preprocessor)])\n",
        "\n",
        "df_encoded = pipeline.fit_transform(df_cleaned)\n",
        "df_encoded = pd.DataFrame(df_encoded, columns=pipeline.named_steps['preprocessor'].get_feature_names_out())\n",
        "df_encoded.info()"
      ]
    },
    {
      "cell_type": "markdown",
      "metadata": {
        "id": "DS8ln1EfzurR"
      },
      "source": [
        "# Phase 3: Load"
      ]
    },
    {
      "cell_type": "markdown",
      "source": [
        "# KPIs"
      ],
      "metadata": {
        "id": "tJOb9Fx9CwwO"
      }
    },
    {
      "cell_type": "markdown",
      "metadata": {
        "id": "O2fU5f3vzxMZ"
      },
      "source": [
        "Alternative 1: MultiOutputRegressor with RandomForestRegressor"
      ]
    },
    {
      "cell_type": "code",
      "execution_count": 124,
      "metadata": {
        "id": "2GhmOkXSzwyI"
      },
      "outputs": [],
      "source": [
        "from sklearn.model_selection import train_test_split, cross_val_score\n",
        "from sklearn.multioutput import MultiOutputRegressor\n",
        "from sklearn.ensemble import RandomForestRegressor\n",
        "from sklearn.metrics import mean_squared_error"
      ]
    },
    {
      "cell_type": "code",
      "execution_count": 183,
      "metadata": {
        "id": "QilPgkT011j-"
      },
      "outputs": [],
      "source": [
        "X = df_encoded.drop(['num__cancelation_ratio', 'num__parking_special_ratio', 'num__booking_changes_waiting_time_ratio',\n",
        "               'num__adults_ratio', 'num__children_ratio', 'num__babies_ratio', 'num__special_requests_per_guest',\n",
        "               'num__lead_time_previous_cancel_ratio', 'num__booking_changes_per_week', 'num__lead_time'], axis=1)\n",
        "y = df_encoded[['num__cancelation_ratio', 'num__parking_special_ratio', 'num__booking_changes_waiting_time_ratio',\n",
        "          'num__adults_ratio', 'num__children_ratio', 'num__babies_ratio', 'num__special_requests_per_guest',\n",
        "          'num__lead_time_previous_cancel_ratio', 'num__booking_changes_per_week', 'num__lead_time']]"
      ]
    },
    {
      "cell_type": "code",
      "execution_count": 184,
      "metadata": {
        "id": "NDfqHLhbWeSc"
      },
      "outputs": [],
      "source": [
        "X_train, X_temp, y_train, y_temp = train_test_split(X, y, test_size=0.4, random_state=42)\n",
        "X_val, X_test, y_val, y_test = train_test_split(X_temp, y_temp, test_size=0.5, random_state=42)"
      ]
    },
    {
      "cell_type": "code",
      "execution_count": 185,
      "metadata": {
        "id": "jGtp0XrMW0GY"
      },
      "outputs": [],
      "source": [
        "multi_output_regressor = MultiOutputRegressor(RandomForestRegressor(random_state=42))"
      ]
    },
    {
      "cell_type": "code",
      "execution_count": 186,
      "metadata": {
        "colab": {
          "base_uri": "https://localhost:8080/",
          "height": 119
        },
        "id": "AfqhjRhbW2dg",
        "outputId": "3ecbb7ce-b714-4d38-e9b3-fb278f1eaee0"
      },
      "outputs": [
        {
          "output_type": "execute_result",
          "data": {
            "text/plain": [
              "MultiOutputRegressor(estimator=RandomForestRegressor(random_state=42))"
            ],
            "text/html": [
              "<style>#sk-container-id-7 {color: black;background-color: white;}#sk-container-id-7 pre{padding: 0;}#sk-container-id-7 div.sk-toggleable {background-color: white;}#sk-container-id-7 label.sk-toggleable__label {cursor: pointer;display: block;width: 100%;margin-bottom: 0;padding: 0.3em;box-sizing: border-box;text-align: center;}#sk-container-id-7 label.sk-toggleable__label-arrow:before {content: \"▸\";float: left;margin-right: 0.25em;color: #696969;}#sk-container-id-7 label.sk-toggleable__label-arrow:hover:before {color: black;}#sk-container-id-7 div.sk-estimator:hover label.sk-toggleable__label-arrow:before {color: black;}#sk-container-id-7 div.sk-toggleable__content {max-height: 0;max-width: 0;overflow: hidden;text-align: left;background-color: #f0f8ff;}#sk-container-id-7 div.sk-toggleable__content pre {margin: 0.2em;color: black;border-radius: 0.25em;background-color: #f0f8ff;}#sk-container-id-7 input.sk-toggleable__control:checked~div.sk-toggleable__content {max-height: 200px;max-width: 100%;overflow: auto;}#sk-container-id-7 input.sk-toggleable__control:checked~label.sk-toggleable__label-arrow:before {content: \"▾\";}#sk-container-id-7 div.sk-estimator input.sk-toggleable__control:checked~label.sk-toggleable__label {background-color: #d4ebff;}#sk-container-id-7 div.sk-label input.sk-toggleable__control:checked~label.sk-toggleable__label {background-color: #d4ebff;}#sk-container-id-7 input.sk-hidden--visually {border: 0;clip: rect(1px 1px 1px 1px);clip: rect(1px, 1px, 1px, 1px);height: 1px;margin: -1px;overflow: hidden;padding: 0;position: absolute;width: 1px;}#sk-container-id-7 div.sk-estimator {font-family: monospace;background-color: #f0f8ff;border: 1px dotted black;border-radius: 0.25em;box-sizing: border-box;margin-bottom: 0.5em;}#sk-container-id-7 div.sk-estimator:hover {background-color: #d4ebff;}#sk-container-id-7 div.sk-parallel-item::after {content: \"\";width: 100%;border-bottom: 1px solid gray;flex-grow: 1;}#sk-container-id-7 div.sk-label:hover label.sk-toggleable__label {background-color: #d4ebff;}#sk-container-id-7 div.sk-serial::before {content: \"\";position: absolute;border-left: 1px solid gray;box-sizing: border-box;top: 0;bottom: 0;left: 50%;z-index: 0;}#sk-container-id-7 div.sk-serial {display: flex;flex-direction: column;align-items: center;background-color: white;padding-right: 0.2em;padding-left: 0.2em;position: relative;}#sk-container-id-7 div.sk-item {position: relative;z-index: 1;}#sk-container-id-7 div.sk-parallel {display: flex;align-items: stretch;justify-content: center;background-color: white;position: relative;}#sk-container-id-7 div.sk-item::before, #sk-container-id-7 div.sk-parallel-item::before {content: \"\";position: absolute;border-left: 1px solid gray;box-sizing: border-box;top: 0;bottom: 0;left: 50%;z-index: -1;}#sk-container-id-7 div.sk-parallel-item {display: flex;flex-direction: column;z-index: 1;position: relative;background-color: white;}#sk-container-id-7 div.sk-parallel-item:first-child::after {align-self: flex-end;width: 50%;}#sk-container-id-7 div.sk-parallel-item:last-child::after {align-self: flex-start;width: 50%;}#sk-container-id-7 div.sk-parallel-item:only-child::after {width: 0;}#sk-container-id-7 div.sk-dashed-wrapped {border: 1px dashed gray;margin: 0 0.4em 0.5em 0.4em;box-sizing: border-box;padding-bottom: 0.4em;background-color: white;}#sk-container-id-7 div.sk-label label {font-family: monospace;font-weight: bold;display: inline-block;line-height: 1.2em;}#sk-container-id-7 div.sk-label-container {text-align: center;}#sk-container-id-7 div.sk-container {/* jupyter's `normalize.less` sets `[hidden] { display: none; }` but bootstrap.min.css set `[hidden] { display: none !important; }` so we also need the `!important` here to be able to override the default hidden behavior on the sphinx rendered scikit-learn.org. See: https://github.com/scikit-learn/scikit-learn/issues/21755 */display: inline-block !important;position: relative;}#sk-container-id-7 div.sk-text-repr-fallback {display: none;}</style><div id=\"sk-container-id-7\" class=\"sk-top-container\"><div class=\"sk-text-repr-fallback\"><pre>MultiOutputRegressor(estimator=RandomForestRegressor(random_state=42))</pre><b>In a Jupyter environment, please rerun this cell to show the HTML representation or trust the notebook. <br />On GitHub, the HTML representation is unable to render, please try loading this page with nbviewer.org.</b></div><div class=\"sk-container\" hidden><div class=\"sk-item sk-dashed-wrapped\"><div class=\"sk-label-container\"><div class=\"sk-label sk-toggleable\"><input class=\"sk-toggleable__control sk-hidden--visually\" id=\"sk-estimator-id-15\" type=\"checkbox\" ><label for=\"sk-estimator-id-15\" class=\"sk-toggleable__label sk-toggleable__label-arrow\">MultiOutputRegressor</label><div class=\"sk-toggleable__content\"><pre>MultiOutputRegressor(estimator=RandomForestRegressor(random_state=42))</pre></div></div></div><div class=\"sk-parallel\"><div class=\"sk-parallel-item\"><div class=\"sk-item\"><div class=\"sk-label-container\"><div class=\"sk-label sk-toggleable\"><input class=\"sk-toggleable__control sk-hidden--visually\" id=\"sk-estimator-id-16\" type=\"checkbox\" ><label for=\"sk-estimator-id-16\" class=\"sk-toggleable__label sk-toggleable__label-arrow\">estimator: RandomForestRegressor</label><div class=\"sk-toggleable__content\"><pre>RandomForestRegressor(random_state=42)</pre></div></div></div><div class=\"sk-serial\"><div class=\"sk-item\"><div class=\"sk-estimator sk-toggleable\"><input class=\"sk-toggleable__control sk-hidden--visually\" id=\"sk-estimator-id-17\" type=\"checkbox\" ><label for=\"sk-estimator-id-17\" class=\"sk-toggleable__label sk-toggleable__label-arrow\">RandomForestRegressor</label><div class=\"sk-toggleable__content\"><pre>RandomForestRegressor(random_state=42)</pre></div></div></div></div></div></div></div></div></div></div>"
            ]
          },
          "metadata": {},
          "execution_count": 186
        }
      ],
      "source": [
        "multi_output_regressor.fit(X_train, y_train)"
      ]
    },
    {
      "cell_type": "code",
      "execution_count": 189,
      "metadata": {
        "id": "GYWdOvBWXZ-5"
      },
      "outputs": [],
      "source": [
        "y_val_pred = multi_output_regressor.predict(X_val)"
      ]
    },
    {
      "cell_type": "markdown",
      "metadata": {
        "id": "1Plz1UMuX5Do"
      },
      "source": [
        "Loss Function => MSE"
      ]
    },
    {
      "cell_type": "code",
      "execution_count": 130,
      "metadata": {
        "colab": {
          "base_uri": "https://localhost:8080/"
        },
        "id": "yRUc5l03XVzh",
        "outputId": "b0d16bdf-2118-41e4-b954-b29c89f11143"
      },
      "outputs": [
        {
          "output_type": "stream",
          "name": "stdout",
          "text": [
            "Mean Squared Error (Validation): 0.07094370237329277\n",
            "Mean Squared Error (Test): 0.09659778738914362\n"
          ]
        }
      ],
      "source": [
        "mse_val = mean_squared_error(y_val, y_val_pred)\n",
        "print(\"Mean Squared Error (Validation):\", mse_val)\n",
        "\n",
        "y_test_pred = multi_output_regressor.predict(X_test)\n",
        "\n",
        "mse_test = mean_squared_error(y_test, y_test_pred)\n",
        "print(\"Mean Squared Error (Test):\", mse_test)\n",
        "\n",
        "#cv_scores = cross_val_score(multi_output_regressor, X_train, y_train, scoring='neg_mean_squared_error', cv=5)\n",
        "#mse_cv = -cv_scores.mean()\n",
        "#print(\"Mean Squared Error (Cross-Validation):\", mse_cv)"
      ]
    },
    {
      "cell_type": "markdown",
      "metadata": {
        "id": "IqL5mnyPX68J"
      },
      "source": [
        "Loss Function => R^2"
      ]
    },
    {
      "cell_type": "code",
      "execution_count": 131,
      "metadata": {
        "colab": {
          "base_uri": "https://localhost:8080/"
        },
        "id": "H2FassFiYK8T",
        "outputId": "d83de73c-9669-46ca-ab10-b5684c6de5cf"
      },
      "outputs": [
        {
          "output_type": "stream",
          "name": "stdout",
          "text": [
            "R² Score (Validation): 0.9226522523584096\n",
            "R² Score (Test): 0.9092437252606713\n"
          ]
        }
      ],
      "source": [
        "from sklearn.metrics import r2_score\n",
        "\n",
        "r2_val = r2_score(y_val, y_val_pred)\n",
        "print(\"R² Score (Validation):\", r2_val)\n",
        "\n",
        "r2_test = r2_score(y_test, y_test_pred)\n",
        "print(\"R² Score (Test):\", r2_test)\n",
        "\n",
        "#cv_scores_r2 = cross_val_score(multi_output_regressor, X_train, y_train, scoring='r2', cv=5)\n",
        "#r2_cv = cv_scores_r2.mean()\n",
        "#print(\"R² Score (Cross-Validation):\", r2_cv)"
      ]
    },
    {
      "cell_type": "markdown",
      "metadata": {
        "id": "5lkJxhRNZRCv"
      },
      "source": [
        "Alternative 2: One model per each KPI"
      ]
    },
    {
      "cell_type": "markdown",
      "metadata": {
        "id": "ujgbs_EYZYIf"
      },
      "source": [
        "Option 1. Lead time with RandomForestRegressor"
      ]
    },
    {
      "cell_type": "code",
      "execution_count": 132,
      "metadata": {
        "id": "Dq3-3GLHZVM4"
      },
      "outputs": [],
      "source": [
        "X = df_encoded.drop(['num__cancelation_ratio', 'num__parking_special_ratio', 'num__booking_changes_waiting_time_ratio',\n",
        "               'num__adults_ratio', 'num__children_ratio', 'num__babies_ratio', 'num__special_requests_per_guest',\n",
        "               'num__lead_time_previous_cancel_ratio', 'num__booking_changes_per_week', 'num__lead_time'], axis=1)\n",
        "\n",
        "y = df_encoded['num__lead_time'];"
      ]
    },
    {
      "cell_type": "code",
      "execution_count": 133,
      "metadata": {
        "id": "HhlOP6IrZksy"
      },
      "outputs": [],
      "source": [
        "X_train, X_temp, y_train, y_temp = train_test_split(X, y, test_size=0.4, random_state=42)\n",
        "X_val, X_test, y_val, y_test = train_test_split(X_temp, y_temp, test_size=0.5, random_state=42)"
      ]
    },
    {
      "cell_type": "code",
      "execution_count": 134,
      "metadata": {
        "id": "oZXcZX94Zncg"
      },
      "outputs": [],
      "source": [
        "random_forest_regressor_lead_time = RandomForestRegressor(random_state=42)"
      ]
    },
    {
      "cell_type": "code",
      "execution_count": 135,
      "metadata": {
        "colab": {
          "base_uri": "https://localhost:8080/",
          "height": 75
        },
        "id": "HaqZB6poZx6-",
        "outputId": "ec9091cf-8350-4e8f-bc64-9ffbc61224f7"
      },
      "outputs": [
        {
          "output_type": "execute_result",
          "data": {
            "text/plain": [
              "RandomForestRegressor(random_state=42)"
            ],
            "text/html": [
              "<style>#sk-container-id-5 {color: black;background-color: white;}#sk-container-id-5 pre{padding: 0;}#sk-container-id-5 div.sk-toggleable {background-color: white;}#sk-container-id-5 label.sk-toggleable__label {cursor: pointer;display: block;width: 100%;margin-bottom: 0;padding: 0.3em;box-sizing: border-box;text-align: center;}#sk-container-id-5 label.sk-toggleable__label-arrow:before {content: \"▸\";float: left;margin-right: 0.25em;color: #696969;}#sk-container-id-5 label.sk-toggleable__label-arrow:hover:before {color: black;}#sk-container-id-5 div.sk-estimator:hover label.sk-toggleable__label-arrow:before {color: black;}#sk-container-id-5 div.sk-toggleable__content {max-height: 0;max-width: 0;overflow: hidden;text-align: left;background-color: #f0f8ff;}#sk-container-id-5 div.sk-toggleable__content pre {margin: 0.2em;color: black;border-radius: 0.25em;background-color: #f0f8ff;}#sk-container-id-5 input.sk-toggleable__control:checked~div.sk-toggleable__content {max-height: 200px;max-width: 100%;overflow: auto;}#sk-container-id-5 input.sk-toggleable__control:checked~label.sk-toggleable__label-arrow:before {content: \"▾\";}#sk-container-id-5 div.sk-estimator input.sk-toggleable__control:checked~label.sk-toggleable__label {background-color: #d4ebff;}#sk-container-id-5 div.sk-label input.sk-toggleable__control:checked~label.sk-toggleable__label {background-color: #d4ebff;}#sk-container-id-5 input.sk-hidden--visually {border: 0;clip: rect(1px 1px 1px 1px);clip: rect(1px, 1px, 1px, 1px);height: 1px;margin: -1px;overflow: hidden;padding: 0;position: absolute;width: 1px;}#sk-container-id-5 div.sk-estimator {font-family: monospace;background-color: #f0f8ff;border: 1px dotted black;border-radius: 0.25em;box-sizing: border-box;margin-bottom: 0.5em;}#sk-container-id-5 div.sk-estimator:hover {background-color: #d4ebff;}#sk-container-id-5 div.sk-parallel-item::after {content: \"\";width: 100%;border-bottom: 1px solid gray;flex-grow: 1;}#sk-container-id-5 div.sk-label:hover label.sk-toggleable__label {background-color: #d4ebff;}#sk-container-id-5 div.sk-serial::before {content: \"\";position: absolute;border-left: 1px solid gray;box-sizing: border-box;top: 0;bottom: 0;left: 50%;z-index: 0;}#sk-container-id-5 div.sk-serial {display: flex;flex-direction: column;align-items: center;background-color: white;padding-right: 0.2em;padding-left: 0.2em;position: relative;}#sk-container-id-5 div.sk-item {position: relative;z-index: 1;}#sk-container-id-5 div.sk-parallel {display: flex;align-items: stretch;justify-content: center;background-color: white;position: relative;}#sk-container-id-5 div.sk-item::before, #sk-container-id-5 div.sk-parallel-item::before {content: \"\";position: absolute;border-left: 1px solid gray;box-sizing: border-box;top: 0;bottom: 0;left: 50%;z-index: -1;}#sk-container-id-5 div.sk-parallel-item {display: flex;flex-direction: column;z-index: 1;position: relative;background-color: white;}#sk-container-id-5 div.sk-parallel-item:first-child::after {align-self: flex-end;width: 50%;}#sk-container-id-5 div.sk-parallel-item:last-child::after {align-self: flex-start;width: 50%;}#sk-container-id-5 div.sk-parallel-item:only-child::after {width: 0;}#sk-container-id-5 div.sk-dashed-wrapped {border: 1px dashed gray;margin: 0 0.4em 0.5em 0.4em;box-sizing: border-box;padding-bottom: 0.4em;background-color: white;}#sk-container-id-5 div.sk-label label {font-family: monospace;font-weight: bold;display: inline-block;line-height: 1.2em;}#sk-container-id-5 div.sk-label-container {text-align: center;}#sk-container-id-5 div.sk-container {/* jupyter's `normalize.less` sets `[hidden] { display: none; }` but bootstrap.min.css set `[hidden] { display: none !important; }` so we also need the `!important` here to be able to override the default hidden behavior on the sphinx rendered scikit-learn.org. See: https://github.com/scikit-learn/scikit-learn/issues/21755 */display: inline-block !important;position: relative;}#sk-container-id-5 div.sk-text-repr-fallback {display: none;}</style><div id=\"sk-container-id-5\" class=\"sk-top-container\"><div class=\"sk-text-repr-fallback\"><pre>RandomForestRegressor(random_state=42)</pre><b>In a Jupyter environment, please rerun this cell to show the HTML representation or trust the notebook. <br />On GitHub, the HTML representation is unable to render, please try loading this page with nbviewer.org.</b></div><div class=\"sk-container\" hidden><div class=\"sk-item\"><div class=\"sk-estimator sk-toggleable\"><input class=\"sk-toggleable__control sk-hidden--visually\" id=\"sk-estimator-id-11\" type=\"checkbox\" checked><label for=\"sk-estimator-id-11\" class=\"sk-toggleable__label sk-toggleable__label-arrow\">RandomForestRegressor</label><div class=\"sk-toggleable__content\"><pre>RandomForestRegressor(random_state=42)</pre></div></div></div></div></div>"
            ]
          },
          "metadata": {},
          "execution_count": 135
        }
      ],
      "source": [
        "random_forest_regressor_lead_time.fit(X_train, y_train)"
      ]
    },
    {
      "cell_type": "code",
      "execution_count": 136,
      "metadata": {
        "id": "VjwfY0IkZ18f"
      },
      "outputs": [],
      "source": [
        "y_val_pred = random_forest_regressor_lead_time.predict(X_val)"
      ]
    },
    {
      "cell_type": "markdown",
      "metadata": {
        "id": "o22KqyogZ91Y"
      },
      "source": [
        "Loss Function => MSE"
      ]
    },
    {
      "cell_type": "code",
      "execution_count": 137,
      "metadata": {
        "colab": {
          "base_uri": "https://localhost:8080/"
        },
        "id": "R_S7RbruZ8hX",
        "outputId": "7918341e-9fed-4692-9043-2c8e11104970"
      },
      "outputs": [
        {
          "output_type": "stream",
          "name": "stdout",
          "text": [
            "Mean Squared Error (Validation): 0.40473529130541513\n",
            "Mean Squared Error (Test): 0.40618570031557244\n"
          ]
        }
      ],
      "source": [
        "mse_val = mean_squared_error(y_val, y_val_pred)\n",
        "print(\"Mean Squared Error (Validation):\", mse_val)\n",
        "\n",
        "y_test_pred = random_forest_regressor_lead_time.predict(X_test)\n",
        "\n",
        "mse_test = mean_squared_error(y_test, y_test_pred)\n",
        "print(\"Mean Squared Error (Test):\", mse_test)\n",
        "\n",
        "#cv_scores = cross_val_score(random_forest_regressor_lead_time, X_train, y_train, scoring='neg_mean_squared_error', cv=5)\n",
        "#mse_cv = -cv_scores.mean()\n",
        "#print(\"Mean Squared Error (Cross-Validation):\", mse_cv)"
      ]
    },
    {
      "cell_type": "markdown",
      "metadata": {
        "id": "Cxk7AV4KbWBm"
      },
      "source": [
        "Loss Function => R^2"
      ]
    },
    {
      "cell_type": "code",
      "execution_count": 138,
      "metadata": {
        "colab": {
          "base_uri": "https://localhost:8080/"
        },
        "id": "5jvhaILtbXo2",
        "outputId": "9d61d145-b5d9-4d04-f0a4-fc6eb96b5e22"
      },
      "outputs": [
        {
          "output_type": "stream",
          "name": "stdout",
          "text": [
            "R² Score (Validation): 0.5963476683823106\n",
            "R² Score (Test): 0.5947711653472683\n"
          ]
        }
      ],
      "source": [
        "from sklearn.metrics import r2_score\n",
        "\n",
        "r2_val = r2_score(y_val, y_val_pred)\n",
        "print(\"R² Score (Validation):\", r2_val)\n",
        "\n",
        "r2_test = r2_score(y_test, y_test_pred)\n",
        "print(\"R² Score (Test):\", r2_test)\n",
        "\n",
        "#cv_scores_r2 = cross_val_score(random_forest_regressor_lead_time, X_train, y_train, scoring='r2', cv=5)\n",
        "#r2_cv = cv_scores_r2.mean()\n",
        "#print(\"R² Score (Cross-Validation):\", r2_cv)"
      ]
    },
    {
      "cell_type": "markdown",
      "metadata": {
        "id": "T56RcY_pb_az"
      },
      "source": [
        "Option 2: Lead time with GradientBoostingRegressor"
      ]
    },
    {
      "cell_type": "code",
      "execution_count": 139,
      "metadata": {
        "id": "HPjxolllcLb_"
      },
      "outputs": [],
      "source": [
        "X = df_encoded.drop(['num__cancelation_ratio', 'num__parking_special_ratio', 'num__booking_changes_waiting_time_ratio',\n",
        "               'num__adults_ratio', 'num__children_ratio', 'num__babies_ratio', 'num__special_requests_per_guest',\n",
        "               'num__lead_time_previous_cancel_ratio', 'num__booking_changes_per_week', 'num__lead_time'], axis=1)\n",
        "\n",
        "y = df_encoded['num__lead_time'];\n",
        "\n",
        "X_train, X_temp, y_train, y_temp = train_test_split(X, y, test_size=0.4, random_state=42)\n",
        "X_val, X_test, y_val, y_test = train_test_split(X_temp, y_temp, test_size=0.5, random_state=42)"
      ]
    },
    {
      "cell_type": "code",
      "execution_count": 140,
      "metadata": {
        "id": "sGnGx2x6cTvv"
      },
      "outputs": [],
      "source": [
        "from sklearn.ensemble import GradientBoostingRegressor\n",
        "\n",
        "gb_regressor_lead_time = GradientBoostingRegressor()\n",
        "\n",
        "gb_regressor_lead_time.fit(X_train, y_train)\n",
        "\n",
        "y_val_pred_gb = gb_regressor_lead_time.predict(X_val)\n",
        "y_test_pred_gb = gb_regressor_lead_time.predict(X_test)"
      ]
    },
    {
      "cell_type": "markdown",
      "metadata": {
        "id": "MsubJsH7f7aV"
      },
      "source": [
        "Loss Function => R^2"
      ]
    },
    {
      "cell_type": "code",
      "execution_count": 141,
      "metadata": {
        "id": "-CK1P9ojcgO0",
        "colab": {
          "base_uri": "https://localhost:8080/"
        },
        "outputId": "416d748d-8af7-4d0a-c475-158b23b19108"
      },
      "outputs": [
        {
          "output_type": "stream",
          "name": "stdout",
          "text": [
            "R² Score (Validation - Gradient Boosting): 0.42875086803089135\n",
            "R² Score (Test - Gradient Boosting): 0.4256228835399114\n"
          ]
        }
      ],
      "source": [
        "r2_val_gb = r2_score(y_val, y_val_pred_gb)\n",
        "print(\"R² Score (Validation - Gradient Boosting):\", r2_val_gb)\n",
        "\n",
        "r2_test_gb = r2_score(y_test, y_test_pred_gb)\n",
        "print(\"R² Score (Test - Gradient Boosting):\", r2_test_gb)\n",
        "\n",
        "#cv_scores_r2_gb = cross_val_score(gb_regressor_lead_time, X_train, y_train, scoring='r2', cv=5)\n",
        "#r2_cv_gb = cv_scores_r2_gb.mean()\n",
        "#print(\"R² Score (Cross-Validation - Gradient Boosting):\", r2_cv_gb)"
      ]
    },
    {
      "cell_type": "markdown",
      "metadata": {
        "id": "jo1Xs-Z7vDMK"
      },
      "source": [
        "Option 3: Lead Time with XGBoost"
      ]
    },
    {
      "cell_type": "code",
      "execution_count": 142,
      "metadata": {
        "id": "ndlhd3hQvC_M"
      },
      "outputs": [],
      "source": [
        "X = df_encoded.drop(['num__cancelation_ratio', 'num__parking_special_ratio', 'num__booking_changes_waiting_time_ratio',\n",
        "               'num__adults_ratio', 'num__children_ratio', 'num__babies_ratio', 'num__special_requests_per_guest',\n",
        "               'num__lead_time_previous_cancel_ratio', 'num__booking_changes_per_week', 'num__lead_time'], axis=1)\n",
        "\n",
        "y = df_encoded['num__lead_time'];\n",
        "\n",
        "X_train, X_temp, y_train, y_temp = train_test_split(X, y, test_size=0.4, random_state=42)\n",
        "X_val, X_test, y_val, y_test = train_test_split(X_temp, y_temp, test_size=0.5, random_state=42)"
      ]
    },
    {
      "cell_type": "code",
      "execution_count": 143,
      "metadata": {
        "id": "xlofVUJ6vI9I"
      },
      "outputs": [],
      "source": [
        "import xgboost as xgb\n",
        "from sklearn.metrics import r2_score\n",
        "from sklearn.model_selection import train_test_split"
      ]
    },
    {
      "cell_type": "code",
      "execution_count": 144,
      "metadata": {
        "id": "KuZniw9wvL3Z"
      },
      "outputs": [],
      "source": [
        "dtrain = xgb.DMatrix(X_train, label=y_train)\n",
        "dval = xgb.DMatrix(X_val, label=y_val)\n",
        "dtest = xgb.DMatrix(X_test, label=y_test)"
      ]
    },
    {
      "cell_type": "code",
      "execution_count": 145,
      "metadata": {
        "id": "C8HPwa6xvN8u"
      },
      "outputs": [],
      "source": [
        "params = {\n",
        "    'objective': 'reg:squarederror',\n",
        "    'eval_metric': 'rmse'\n",
        "}"
      ]
    },
    {
      "cell_type": "code",
      "execution_count": 146,
      "metadata": {
        "id": "buLlcGMhvZOj",
        "colab": {
          "base_uri": "https://localhost:8080/"
        },
        "outputId": "bd89689f-d2c3-48da-a2d7-8b701d049897"
      },
      "outputs": [
        {
          "output_type": "stream",
          "name": "stdout",
          "text": [
            "[0]\tvalidation-rmse:0.92023\n",
            "[1]\tvalidation-rmse:0.86374\n",
            "[2]\tvalidation-rmse:0.82886\n",
            "[3]\tvalidation-rmse:0.80303\n",
            "[4]\tvalidation-rmse:0.78389\n",
            "[5]\tvalidation-rmse:0.76914\n",
            "[6]\tvalidation-rmse:0.75693\n",
            "[7]\tvalidation-rmse:0.74815\n",
            "[8]\tvalidation-rmse:0.74278\n",
            "[9]\tvalidation-rmse:0.73809\n",
            "[10]\tvalidation-rmse:0.73162\n",
            "[11]\tvalidation-rmse:0.72581\n",
            "[12]\tvalidation-rmse:0.72313\n",
            "[13]\tvalidation-rmse:0.72011\n",
            "[14]\tvalidation-rmse:0.71643\n",
            "[15]\tvalidation-rmse:0.71396\n",
            "[16]\tvalidation-rmse:0.71249\n",
            "[17]\tvalidation-rmse:0.71083\n",
            "[18]\tvalidation-rmse:0.70731\n",
            "[19]\tvalidation-rmse:0.70653\n",
            "[20]\tvalidation-rmse:0.70398\n",
            "[21]\tvalidation-rmse:0.70326\n",
            "[22]\tvalidation-rmse:0.70277\n",
            "[23]\tvalidation-rmse:0.70132\n",
            "[24]\tvalidation-rmse:0.70013\n",
            "[25]\tvalidation-rmse:0.69819\n",
            "[26]\tvalidation-rmse:0.69745\n",
            "[27]\tvalidation-rmse:0.69607\n",
            "[28]\tvalidation-rmse:0.69587\n",
            "[29]\tvalidation-rmse:0.69495\n",
            "[30]\tvalidation-rmse:0.69430\n",
            "[31]\tvalidation-rmse:0.69362\n",
            "[32]\tvalidation-rmse:0.69208\n",
            "[33]\tvalidation-rmse:0.69137\n",
            "[34]\tvalidation-rmse:0.68937\n",
            "[35]\tvalidation-rmse:0.68906\n",
            "[36]\tvalidation-rmse:0.68846\n",
            "[37]\tvalidation-rmse:0.68790\n",
            "[38]\tvalidation-rmse:0.68778\n",
            "[39]\tvalidation-rmse:0.68732\n",
            "[40]\tvalidation-rmse:0.68690\n",
            "[41]\tvalidation-rmse:0.68648\n",
            "[42]\tvalidation-rmse:0.68563\n",
            "[43]\tvalidation-rmse:0.68460\n",
            "[44]\tvalidation-rmse:0.68217\n",
            "[45]\tvalidation-rmse:0.68034\n",
            "[46]\tvalidation-rmse:0.67985\n",
            "[47]\tvalidation-rmse:0.67897\n",
            "[48]\tvalidation-rmse:0.67886\n",
            "[49]\tvalidation-rmse:0.67847\n",
            "[50]\tvalidation-rmse:0.67793\n",
            "[51]\tvalidation-rmse:0.67726\n",
            "[52]\tvalidation-rmse:0.67675\n",
            "[53]\tvalidation-rmse:0.67631\n",
            "[54]\tvalidation-rmse:0.67588\n",
            "[55]\tvalidation-rmse:0.67572\n",
            "[56]\tvalidation-rmse:0.67566\n",
            "[57]\tvalidation-rmse:0.67540\n",
            "[58]\tvalidation-rmse:0.67512\n",
            "[59]\tvalidation-rmse:0.67477\n",
            "[60]\tvalidation-rmse:0.67449\n",
            "[61]\tvalidation-rmse:0.67393\n",
            "[62]\tvalidation-rmse:0.67279\n",
            "[63]\tvalidation-rmse:0.67275\n",
            "[64]\tvalidation-rmse:0.67188\n",
            "[65]\tvalidation-rmse:0.67175\n",
            "[66]\tvalidation-rmse:0.67173\n",
            "[67]\tvalidation-rmse:0.67143\n",
            "[68]\tvalidation-rmse:0.67127\n",
            "[69]\tvalidation-rmse:0.67059\n",
            "[70]\tvalidation-rmse:0.67041\n",
            "[71]\tvalidation-rmse:0.67030\n",
            "[72]\tvalidation-rmse:0.67005\n",
            "[73]\tvalidation-rmse:0.66961\n",
            "[74]\tvalidation-rmse:0.66915\n",
            "[75]\tvalidation-rmse:0.66898\n",
            "[76]\tvalidation-rmse:0.66859\n",
            "[77]\tvalidation-rmse:0.66767\n",
            "[78]\tvalidation-rmse:0.66733\n",
            "[79]\tvalidation-rmse:0.66630\n",
            "[80]\tvalidation-rmse:0.66573\n",
            "[81]\tvalidation-rmse:0.66573\n",
            "[82]\tvalidation-rmse:0.66570\n",
            "[83]\tvalidation-rmse:0.66561\n",
            "[84]\tvalidation-rmse:0.66519\n",
            "[85]\tvalidation-rmse:0.66428\n",
            "[86]\tvalidation-rmse:0.66395\n",
            "[87]\tvalidation-rmse:0.66357\n",
            "[88]\tvalidation-rmse:0.66300\n",
            "[89]\tvalidation-rmse:0.66286\n",
            "[90]\tvalidation-rmse:0.66255\n",
            "[91]\tvalidation-rmse:0.66260\n",
            "[92]\tvalidation-rmse:0.66278\n",
            "[93]\tvalidation-rmse:0.66278\n",
            "[94]\tvalidation-rmse:0.66235\n",
            "[95]\tvalidation-rmse:0.66230\n",
            "[96]\tvalidation-rmse:0.66225\n",
            "[97]\tvalidation-rmse:0.66135\n",
            "[98]\tvalidation-rmse:0.66130\n",
            "[99]\tvalidation-rmse:0.66060\n"
          ]
        }
      ],
      "source": [
        "num_rounds = 100\n",
        "xg_boost_model = xgb.train(params, dtrain, num_rounds, evals=[(dval, 'validation')], early_stopping_rounds=10)"
      ]
    },
    {
      "cell_type": "code",
      "execution_count": 147,
      "metadata": {
        "id": "-N_EiRPBveNB",
        "colab": {
          "base_uri": "https://localhost:8080/"
        },
        "outputId": "0ce58ca7-bdf9-4725-df0a-d267bf3011be"
      },
      "outputs": [
        {
          "output_type": "stream",
          "name": "stdout",
          "text": [
            "R² Score (Test) using XGBoost: 0.5647687956102647\n",
            "R² Score (Test) using XGBoost: 0.5637411653205762\n"
          ]
        }
      ],
      "source": [
        "val_pred = xg_boost_model.predict(dval)\n",
        "\n",
        "r2 = r2_score(y_val, val_pred)\n",
        "print(\"R² Score (Test) using XGBoost:\", r2)\n",
        "\n",
        "predictions = xg_boost_model.predict(dtest)\n",
        "\n",
        "r2 = r2_score(y_test, predictions)\n",
        "print(\"R² Score (Test) using XGBoost:\", r2)"
      ]
    },
    {
      "cell_type": "markdown",
      "source": [
        "# Critical Dimensions"
      ],
      "metadata": {
        "id": "NsMjDtY9EkLC"
      }
    },
    {
      "cell_type": "markdown",
      "source": [
        "Alternative 1: MultiOutputClassifier with RandomForestClassifier"
      ],
      "metadata": {
        "id": "iyeB_SaqEmV4"
      }
    },
    {
      "cell_type": "code",
      "source": [
        "from sklearn.model_selection import train_test_split, cross_val_score\n",
        "from sklearn.multioutput import MultiOutputClassifier\n",
        "from sklearn.ensemble import RandomForestClassifier\n",
        "from sklearn.metrics import mean_squared_error"
      ],
      "metadata": {
        "id": "GinQT7sREl7B"
      },
      "execution_count": 148,
      "outputs": []
    },
    {
      "cell_type": "code",
      "source": [
        "X = df_encoded.drop(['num__cancelation_ratio', 'num__parking_special_ratio', 'num__booking_changes_waiting_time_ratio',\n",
        "               'num__adults_ratio', 'num__children_ratio', 'num__babies_ratio', 'num__special_requests_per_guest',\n",
        "               'num__lead_time_previous_cancel_ratio', 'num__booking_changes_per_week', 'num__lead_time', 'cat__market_segment_Aviation',\n",
        "               'cat__market_segment_Complementary', 'cat__market_segment_Corporate', 'cat__market_segment_Direct', 'cat__market_segment_Groups',\n",
        "               'cat__market_segment_Offline TA/TO', 'cat__market_segment_Online TA', 'cat__market_segment_Undefined', 'cat__distribution_channel_Corporate',\n",
        "               'cat__distribution_channel_Direct', 'cat__distribution_channel_GDS', 'cat__distribution_channel_TA/TO', 'cat__distribution_channel_Undefined'], axis=1)\n",
        "y = df_encoded[['cat__market_segment_Aviation',\n",
        "               'cat__market_segment_Complementary', 'cat__market_segment_Corporate', 'cat__market_segment_Direct', 'cat__market_segment_Groups',\n",
        "               'cat__market_segment_Offline TA/TO', 'cat__market_segment_Online TA', 'cat__market_segment_Undefined', 'cat__distribution_channel_Corporate',\n",
        "               'cat__distribution_channel_Direct', 'cat__distribution_channel_GDS', 'cat__distribution_channel_TA/TO', 'cat__distribution_channel_Undefined']]"
      ],
      "metadata": {
        "id": "7ghu7CevFIzJ"
      },
      "execution_count": 149,
      "outputs": []
    },
    {
      "cell_type": "code",
      "source": [
        "X_train, X_temp, y_train, y_temp = train_test_split(X, y, test_size=0.4, random_state=42)\n",
        "X_val, X_test, y_val, y_test = train_test_split(X_temp, y_temp, test_size=0.5, random_state=42)"
      ],
      "metadata": {
        "id": "ngNia5j4sP1j"
      },
      "execution_count": 150,
      "outputs": []
    },
    {
      "cell_type": "code",
      "source": [
        "multi_output_classifier = MultiOutputClassifier(RandomForestClassifier(n_estimators=200, max_depth=20, min_samples_split=5, random_state=42))"
      ],
      "metadata": {
        "id": "RxF3_DL3sWeL"
      },
      "execution_count": 151,
      "outputs": []
    },
    {
      "cell_type": "code",
      "source": [
        "multi_output_classifier.fit(X_train, y_train)"
      ],
      "metadata": {
        "colab": {
          "base_uri": "https://localhost:8080/",
          "height": 119
        },
        "id": "LEkVKHmDsiB7",
        "outputId": "26a7e7cb-b450-4239-fa36-600dac3bbc6d"
      },
      "execution_count": 152,
      "outputs": [
        {
          "output_type": "execute_result",
          "data": {
            "text/plain": [
              "MultiOutputClassifier(estimator=RandomForestClassifier(max_depth=20,\n",
              "                                                       min_samples_split=5,\n",
              "                                                       n_estimators=200,\n",
              "                                                       random_state=42))"
            ],
            "text/html": [
              "<style>#sk-container-id-6 {color: black;background-color: white;}#sk-container-id-6 pre{padding: 0;}#sk-container-id-6 div.sk-toggleable {background-color: white;}#sk-container-id-6 label.sk-toggleable__label {cursor: pointer;display: block;width: 100%;margin-bottom: 0;padding: 0.3em;box-sizing: border-box;text-align: center;}#sk-container-id-6 label.sk-toggleable__label-arrow:before {content: \"▸\";float: left;margin-right: 0.25em;color: #696969;}#sk-container-id-6 label.sk-toggleable__label-arrow:hover:before {color: black;}#sk-container-id-6 div.sk-estimator:hover label.sk-toggleable__label-arrow:before {color: black;}#sk-container-id-6 div.sk-toggleable__content {max-height: 0;max-width: 0;overflow: hidden;text-align: left;background-color: #f0f8ff;}#sk-container-id-6 div.sk-toggleable__content pre {margin: 0.2em;color: black;border-radius: 0.25em;background-color: #f0f8ff;}#sk-container-id-6 input.sk-toggleable__control:checked~div.sk-toggleable__content {max-height: 200px;max-width: 100%;overflow: auto;}#sk-container-id-6 input.sk-toggleable__control:checked~label.sk-toggleable__label-arrow:before {content: \"▾\";}#sk-container-id-6 div.sk-estimator input.sk-toggleable__control:checked~label.sk-toggleable__label {background-color: #d4ebff;}#sk-container-id-6 div.sk-label input.sk-toggleable__control:checked~label.sk-toggleable__label {background-color: #d4ebff;}#sk-container-id-6 input.sk-hidden--visually {border: 0;clip: rect(1px 1px 1px 1px);clip: rect(1px, 1px, 1px, 1px);height: 1px;margin: -1px;overflow: hidden;padding: 0;position: absolute;width: 1px;}#sk-container-id-6 div.sk-estimator {font-family: monospace;background-color: #f0f8ff;border: 1px dotted black;border-radius: 0.25em;box-sizing: border-box;margin-bottom: 0.5em;}#sk-container-id-6 div.sk-estimator:hover {background-color: #d4ebff;}#sk-container-id-6 div.sk-parallel-item::after {content: \"\";width: 100%;border-bottom: 1px solid gray;flex-grow: 1;}#sk-container-id-6 div.sk-label:hover label.sk-toggleable__label {background-color: #d4ebff;}#sk-container-id-6 div.sk-serial::before {content: \"\";position: absolute;border-left: 1px solid gray;box-sizing: border-box;top: 0;bottom: 0;left: 50%;z-index: 0;}#sk-container-id-6 div.sk-serial {display: flex;flex-direction: column;align-items: center;background-color: white;padding-right: 0.2em;padding-left: 0.2em;position: relative;}#sk-container-id-6 div.sk-item {position: relative;z-index: 1;}#sk-container-id-6 div.sk-parallel {display: flex;align-items: stretch;justify-content: center;background-color: white;position: relative;}#sk-container-id-6 div.sk-item::before, #sk-container-id-6 div.sk-parallel-item::before {content: \"\";position: absolute;border-left: 1px solid gray;box-sizing: border-box;top: 0;bottom: 0;left: 50%;z-index: -1;}#sk-container-id-6 div.sk-parallel-item {display: flex;flex-direction: column;z-index: 1;position: relative;background-color: white;}#sk-container-id-6 div.sk-parallel-item:first-child::after {align-self: flex-end;width: 50%;}#sk-container-id-6 div.sk-parallel-item:last-child::after {align-self: flex-start;width: 50%;}#sk-container-id-6 div.sk-parallel-item:only-child::after {width: 0;}#sk-container-id-6 div.sk-dashed-wrapped {border: 1px dashed gray;margin: 0 0.4em 0.5em 0.4em;box-sizing: border-box;padding-bottom: 0.4em;background-color: white;}#sk-container-id-6 div.sk-label label {font-family: monospace;font-weight: bold;display: inline-block;line-height: 1.2em;}#sk-container-id-6 div.sk-label-container {text-align: center;}#sk-container-id-6 div.sk-container {/* jupyter's `normalize.less` sets `[hidden] { display: none; }` but bootstrap.min.css set `[hidden] { display: none !important; }` so we also need the `!important` here to be able to override the default hidden behavior on the sphinx rendered scikit-learn.org. See: https://github.com/scikit-learn/scikit-learn/issues/21755 */display: inline-block !important;position: relative;}#sk-container-id-6 div.sk-text-repr-fallback {display: none;}</style><div id=\"sk-container-id-6\" class=\"sk-top-container\"><div class=\"sk-text-repr-fallback\"><pre>MultiOutputClassifier(estimator=RandomForestClassifier(max_depth=20,\n",
              "                                                       min_samples_split=5,\n",
              "                                                       n_estimators=200,\n",
              "                                                       random_state=42))</pre><b>In a Jupyter environment, please rerun this cell to show the HTML representation or trust the notebook. <br />On GitHub, the HTML representation is unable to render, please try loading this page with nbviewer.org.</b></div><div class=\"sk-container\" hidden><div class=\"sk-item sk-dashed-wrapped\"><div class=\"sk-label-container\"><div class=\"sk-label sk-toggleable\"><input class=\"sk-toggleable__control sk-hidden--visually\" id=\"sk-estimator-id-12\" type=\"checkbox\" ><label for=\"sk-estimator-id-12\" class=\"sk-toggleable__label sk-toggleable__label-arrow\">MultiOutputClassifier</label><div class=\"sk-toggleable__content\"><pre>MultiOutputClassifier(estimator=RandomForestClassifier(max_depth=20,\n",
              "                                                       min_samples_split=5,\n",
              "                                                       n_estimators=200,\n",
              "                                                       random_state=42))</pre></div></div></div><div class=\"sk-parallel\"><div class=\"sk-parallel-item\"><div class=\"sk-item\"><div class=\"sk-label-container\"><div class=\"sk-label sk-toggleable\"><input class=\"sk-toggleable__control sk-hidden--visually\" id=\"sk-estimator-id-13\" type=\"checkbox\" ><label for=\"sk-estimator-id-13\" class=\"sk-toggleable__label sk-toggleable__label-arrow\">estimator: RandomForestClassifier</label><div class=\"sk-toggleable__content\"><pre>RandomForestClassifier(max_depth=20, min_samples_split=5, n_estimators=200,\n",
              "                       random_state=42)</pre></div></div></div><div class=\"sk-serial\"><div class=\"sk-item\"><div class=\"sk-estimator sk-toggleable\"><input class=\"sk-toggleable__control sk-hidden--visually\" id=\"sk-estimator-id-14\" type=\"checkbox\" ><label for=\"sk-estimator-id-14\" class=\"sk-toggleable__label sk-toggleable__label-arrow\">RandomForestClassifier</label><div class=\"sk-toggleable__content\"><pre>RandomForestClassifier(max_depth=20, min_samples_split=5, n_estimators=200,\n",
              "                       random_state=42)</pre></div></div></div></div></div></div></div></div></div></div>"
            ]
          },
          "metadata": {},
          "execution_count": 152
        }
      ]
    },
    {
      "cell_type": "code",
      "source": [
        "y_val_pred = multi_output_classifier.predict(X_val)"
      ],
      "metadata": {
        "id": "IUfk8iw6smvP"
      },
      "execution_count": 153,
      "outputs": []
    },
    {
      "cell_type": "markdown",
      "source": [
        "Loss Function => MSE"
      ],
      "metadata": {
        "id": "i1g_NGZ1ySwx"
      }
    },
    {
      "cell_type": "code",
      "source": [
        "mse_val = mean_squared_error(y_val, y_val_pred)\n",
        "print(\"Mean Squared Error (Validation):\", mse_val)\n",
        "\n",
        "y_test_pred = multi_output_classifier.predict(X_test)\n",
        "\n",
        "mse_test = mean_squared_error(y_test, y_test_pred)\n",
        "print(\"Mean Squared Error (Test):\", mse_test)\n",
        "\n",
        "#cv_scores = cross_val_score(multi_output_classifier, X_train, y_train, scoring='neg_mean_squared_error', cv=5)\n",
        "#mse_cv = -cv_scores.mean()\n",
        "#print(\"Mean Squared Error (Cross-Validation):\", mse_cv)"
      ],
      "metadata": {
        "colab": {
          "base_uri": "https://localhost:8080/"
        },
        "id": "PJwnA0RSyFTo",
        "outputId": "ac07843e-5eb5-451c-b7db-4e87c9bd5348"
      },
      "execution_count": 154,
      "outputs": [
        {
          "output_type": "stream",
          "name": "stdout",
          "text": [
            "Mean Squared Error (Validation): 0.06451257993108213\n",
            "Mean Squared Error (Test): 0.0630038725576483\n"
          ]
        }
      ]
    },
    {
      "cell_type": "markdown",
      "source": [
        "# Predictions"
      ],
      "metadata": {
        "id": "1DuSgXvp6hFc"
      }
    },
    {
      "cell_type": "markdown",
      "source": [
        "Data Preparation"
      ],
      "metadata": {
        "id": "UCYjIq_KJz5Y"
      }
    },
    {
      "cell_type": "code",
      "source": [
        "standard_scaler = pipeline.named_steps['preprocessor'].named_transformers_['num'].named_steps['scaler']"
      ],
      "metadata": {
        "id": "ymdlJSrQhjxC"
      },
      "execution_count": 155,
      "outputs": []
    },
    {
      "cell_type": "code",
      "source": [
        "columns_to_drop = [\n",
        "    'cat__market_segment_Aviation',\n",
        "    'cat__market_segment_Complementary',\n",
        "    'cat__market_segment_Corporate',\n",
        "    'cat__market_segment_Direct',\n",
        "    'cat__market_segment_Groups',\n",
        "    'cat__market_segment_Offline TA/TO',\n",
        "    'cat__market_segment_Online TA',\n",
        "    'cat__market_segment_Undefined',\n",
        "    'cat__distribution_channel_Corporate',\n",
        "    'cat__distribution_channel_Direct',\n",
        "    'cat__distribution_channel_GDS',\n",
        "    'cat__distribution_channel_TA/TO',\n",
        "    'cat__distribution_channel_Undefined'\n",
        "]\n",
        "\n",
        "new_df_encoded = df_encoded.drop(columns=columns_to_drop)\n",
        "new_df_encoded.shape"
      ],
      "metadata": {
        "colab": {
          "base_uri": "https://localhost:8080/"
        },
        "id": "SPvN0nWE1FnH",
        "outputId": "474878e8-5e59-4681-a666-5e70db85933e"
      },
      "execution_count": 156,
      "outputs": [
        {
          "output_type": "execute_result",
          "data": {
            "text/plain": [
              "(87396, 27)"
            ]
          },
          "metadata": {},
          "execution_count": 156
        }
      ]
    },
    {
      "cell_type": "markdown",
      "source": [
        "Random Sample"
      ],
      "metadata": {
        "id": "uZVEzndezYBG"
      }
    },
    {
      "cell_type": "code",
      "source": [
        "inversed = standard_scaler.inverse_transform(new_df_encoded)\n",
        "inversed_df = pd.DataFrame(data=inversed, columns=new_df_encoded.columns)\n",
        "\n",
        "new_columns = {\n",
        "    'cat__market_segment_Aviation': df_encoded['cat__market_segment_Aviation'],\n",
        "    'cat__market_segment_Complementary': df_encoded['cat__market_segment_Complementary'],\n",
        "    'cat__market_segment_Corporate': df_encoded['cat__market_segment_Corporate'],\n",
        "    'cat__market_segment_Direct': df_encoded['cat__market_segment_Direct'],\n",
        "    'cat__market_segment_Groups': df_encoded['cat__market_segment_Groups'],\n",
        "    'cat__market_segment_Offline TA/TO': df_encoded['cat__market_segment_Offline TA/TO'],\n",
        "    'cat__market_segment_Online TA': df_encoded['cat__market_segment_Online TA'],\n",
        "    'cat__market_segment_Undefined': df_encoded['cat__market_segment_Undefined'],\n",
        "    'cat__distribution_channel_Corporate': df_encoded['cat__distribution_channel_Corporate'],\n",
        "    'cat__distribution_channel_Direct': df_encoded['cat__distribution_channel_Direct'],\n",
        "    'cat__distribution_channel_GDS': df_encoded['cat__distribution_channel_GDS'],\n",
        "    'cat__distribution_channel_TA/TO': df_encoded['cat__distribution_channel_TA/TO'],\n",
        "    'cat__distribution_channel_Undefined': df_encoded['cat__distribution_channel_Undefined']\n",
        "}\n",
        "\n",
        "inversed_df = inversed_df.assign(**new_columns)\n",
        "\n",
        "inversed_df.iloc[152]"
      ],
      "metadata": {
        "id": "TnNAdQSGj8hH",
        "colab": {
          "base_uri": "https://localhost:8080/"
        },
        "outputId": "f18b46de-b700-421c-cf43-b0127139162f"
      },
      "execution_count": 157,
      "outputs": [
        {
          "output_type": "execute_result",
          "data": {
            "text/plain": [
              "num__is_canceled                              0.000000\n",
              "num__lead_time                               94.000000\n",
              "num__arrival_date_year                     2015.000000\n",
              "num__arrival_date_week_number                28.000000\n",
              "num__arrival_date_day_of_month                5.000000\n",
              "num__stays_in_weekend_nights                  4.000000\n",
              "num__stays_in_week_nights                     6.000000\n",
              "num__adults                                   3.000000\n",
              "num__children                                 0.000000\n",
              "num__babies                                   0.000000\n",
              "num__is_repeated_guest                        0.000000\n",
              "num__previous_cancellations                   0.000000\n",
              "num__previous_bookings_not_canceled           0.000000\n",
              "num__booking_changes                          3.000000\n",
              "num__days_in_waiting_list                     0.000000\n",
              "num__adr                                    124.450000\n",
              "num__required_car_parking_spaces              1.000000\n",
              "num__total_of_special_requests                1.000000\n",
              "num__cancelation_ratio                        0.260775\n",
              "num__parking_special_ratio                    1.000000\n",
              "num__booking_changes_waiting_time_ratio       0.030887\n",
              "num__adults_ratio                             1.000000\n",
              "num__children_ratio                           0.000000\n",
              "num__babies_ratio                             0.000000\n",
              "num__special_requests_per_guest               0.333333\n",
              "num__lead_time_previous_cancel_ratio         92.557487\n",
              "num__booking_changes_per_week                 0.107143\n",
              "cat__market_segment_Aviation                  0.000000\n",
              "cat__market_segment_Complementary             0.000000\n",
              "cat__market_segment_Corporate                 0.000000\n",
              "cat__market_segment_Direct                    1.000000\n",
              "cat__market_segment_Groups                    0.000000\n",
              "cat__market_segment_Offline TA/TO             0.000000\n",
              "cat__market_segment_Online TA                 0.000000\n",
              "cat__market_segment_Undefined                 0.000000\n",
              "cat__distribution_channel_Corporate           0.000000\n",
              "cat__distribution_channel_Direct              1.000000\n",
              "cat__distribution_channel_GDS                 0.000000\n",
              "cat__distribution_channel_TA/TO               0.000000\n",
              "cat__distribution_channel_Undefined           0.000000\n",
              "Name: 152, dtype: float64"
            ]
          },
          "metadata": {},
          "execution_count": 157
        }
      ]
    },
    {
      "cell_type": "markdown",
      "source": [
        "KPIs' Prediction:"
      ],
      "metadata": {
        "id": "4SKWL7Re06q1"
      }
    },
    {
      "cell_type": "code",
      "source": [
        "data = {\n",
        "    'num__is_canceled': [0.000000],\n",
        "    'num__lead_time': [0.000000],\n",
        "    'num__arrival_date_year': [2015.000000],\n",
        "    'num__arrival_date_week_number': [28.000000],\n",
        "    'num__arrival_date_day_of_month': [5.000000],\n",
        "    'num__stays_in_weekend_nights': [4.000000],\n",
        "    'num__stays_in_week_nights': [6.000000],\n",
        "    'num__adults': [3.000000],\n",
        "    'num__children': [0.000000],\n",
        "    'num__babies': [0.000000],\n",
        "    'num__is_repeated_guest': [0.000000],\n",
        "    'num__previous_cancellations': [0.000000],\n",
        "    'num__previous_bookings_not_canceled': [0.000000],\n",
        "    'num__booking_changes': [3.000000],\n",
        "    'num__days_in_waiting_list': [0.000000],\n",
        "    'num__adr': [124.450000],\n",
        "    'num__required_car_parking_spaces': [1.000000],\n",
        "    'num__total_of_special_requests': [1.000000],\n",
        "    'num__cancelation_ratio': [0.0],\n",
        "    'num__parking_special_ratio': [0.0],\n",
        "    'num__booking_changes_waiting_time_ratio': [0.0],\n",
        "    'num__adults_ratio': [0.0],\n",
        "    'num__children_ratio': [0.0],\n",
        "    'num__babies_ratio': [0.0],\n",
        "    'num__special_requests_per_guest': [0.0],\n",
        "    'num__lead_time_previous_cancel_ratio': [0.0],\n",
        "    'num__booking_changes_per_week': [0.0],\n",
        "}\n",
        "\n",
        "df_for_sample = pd.DataFrame(data)"
      ],
      "metadata": {
        "id": "5zN6AVgu1A2E"
      },
      "execution_count": 199,
      "outputs": []
    },
    {
      "cell_type": "code",
      "source": [
        "scaled_data = standard_scaler.transform(df_for_sample)\n",
        "scaled_df = pd.DataFrame(scaled_data, columns=df_for_sample.columns)\n",
        "\n",
        "scaled_df.iloc[0]"
      ],
      "metadata": {
        "colab": {
          "base_uri": "https://localhost:8080/"
        },
        "id": "2GLY3EX9IbdC",
        "outputId": "c281236a-032f-414d-94e6-c437536ec5f1"
      },
      "execution_count": 200,
      "outputs": [
        {
          "output_type": "stream",
          "name": "stderr",
          "text": [
            "/usr/local/lib/python3.10/dist-packages/sklearn/base.py:432: UserWarning: X has feature names, but StandardScaler was fitted without feature names\n",
            "  warnings.warn(\n"
          ]
        },
        {
          "output_type": "execute_result",
          "data": {
            "text/plain": [
              "num__is_canceled                          -0.615724\n",
              "num__lead_time                            -0.928410\n",
              "num__arrival_date_year                    -1.764027\n",
              "num__arrival_date_week_number              0.084951\n",
              "num__arrival_date_day_of_month            -1.224157\n",
              "num__stays_in_weekend_nights               2.902114\n",
              "num__stays_in_week_nights                  1.643285\n",
              "num__adults                                1.794431\n",
              "num__children                             -0.304123\n",
              "num__babies                               -0.095288\n",
              "num__is_repeated_guest                    -0.201653\n",
              "num__previous_cancellations               -0.082389\n",
              "num__previous_bookings_not_canceled       -0.106237\n",
              "num__booking_changes                       3.751709\n",
              "num__days_in_waiting_list                 -0.074839\n",
              "num__adr                                   0.329241\n",
              "num__required_car_parking_spaces           3.252828\n",
              "num__total_of_special_requests             0.362324\n",
              "num__cancelation_ratio                    -2.732079\n",
              "num__parking_special_ratio                -0.435743\n",
              "num__booking_changes_waiting_time_ratio   -1.907788\n",
              "num__adults_ratio                         -7.080634\n",
              "num__children_ratio                       -0.308846\n",
              "num__babies_ratio                         -0.101604\n",
              "num__special_requests_per_guest           -0.778824\n",
              "num__lead_time_previous_cancel_ratio      -6.009426\n",
              "num__booking_changes_per_week             -0.190646\n",
              "Name: 0, dtype: float64"
            ]
          },
          "metadata": {},
          "execution_count": 200
        }
      ]
    },
    {
      "cell_type": "code",
      "source": [
        "df_for_sample = df_for_sample.drop(['num__cancelation_ratio', 'num__parking_special_ratio', 'num__booking_changes_waiting_time_ratio',\n",
        "               'num__adults_ratio', 'num__children_ratio', 'num__babies_ratio', 'num__special_requests_per_guest',\n",
        "               'num__lead_time_previous_cancel_ratio', 'num__booking_changes_per_week', 'num__lead_time'], axis=1)\n",
        "df_for_sample.info()"
      ],
      "metadata": {
        "colab": {
          "base_uri": "https://localhost:8080/"
        },
        "id": "C5tiRX7NDtcW",
        "outputId": "5d59b46e-1925-4982-ff9e-e2ee2927d2e6"
      },
      "execution_count": 201,
      "outputs": [
        {
          "output_type": "stream",
          "name": "stdout",
          "text": [
            "<class 'pandas.core.frame.DataFrame'>\n",
            "RangeIndex: 1 entries, 0 to 0\n",
            "Data columns (total 17 columns):\n",
            " #   Column                               Non-Null Count  Dtype  \n",
            "---  ------                               --------------  -----  \n",
            " 0   num__is_canceled                     1 non-null      float64\n",
            " 1   num__arrival_date_year               1 non-null      float64\n",
            " 2   num__arrival_date_week_number        1 non-null      float64\n",
            " 3   num__arrival_date_day_of_month       1 non-null      float64\n",
            " 4   num__stays_in_weekend_nights         1 non-null      float64\n",
            " 5   num__stays_in_week_nights            1 non-null      float64\n",
            " 6   num__adults                          1 non-null      float64\n",
            " 7   num__children                        1 non-null      float64\n",
            " 8   num__babies                          1 non-null      float64\n",
            " 9   num__is_repeated_guest               1 non-null      float64\n",
            " 10  num__previous_cancellations          1 non-null      float64\n",
            " 11  num__previous_bookings_not_canceled  1 non-null      float64\n",
            " 12  num__booking_changes                 1 non-null      float64\n",
            " 13  num__days_in_waiting_list            1 non-null      float64\n",
            " 14  num__adr                             1 non-null      float64\n",
            " 15  num__required_car_parking_spaces     1 non-null      float64\n",
            " 16  num__total_of_special_requests       1 non-null      float64\n",
            "dtypes: float64(17)\n",
            "memory usage: 264.0 bytes\n"
          ]
        },
        {
          "output_type": "execute_result",
          "data": {
            "text/plain": [
              "num__is_canceled                          -0.615724\n",
              "num__lead_time                            -0.928410\n",
              "num__arrival_date_year                    -1.764027\n",
              "num__arrival_date_week_number              0.084951\n",
              "num__arrival_date_day_of_month            -1.224157\n",
              "num__stays_in_weekend_nights               2.902114\n",
              "num__stays_in_week_nights                  1.643285\n",
              "num__adults                                1.794431\n",
              "num__children                             -0.304123\n",
              "num__babies                               -0.095288\n",
              "num__is_repeated_guest                    -0.201653\n",
              "num__previous_cancellations               -0.082389\n",
              "num__previous_bookings_not_canceled       -0.106237\n",
              "num__booking_changes                       3.751709\n",
              "num__days_in_waiting_list                 -0.074839\n",
              "num__adr                                   0.329241\n",
              "num__required_car_parking_spaces           3.252828\n",
              "num__total_of_special_requests             0.362324\n",
              "num__cancelation_ratio                    -2.732079\n",
              "num__parking_special_ratio                -0.435743\n",
              "num__booking_changes_waiting_time_ratio   -1.907788\n",
              "num__adults_ratio                         -7.080634\n",
              "num__children_ratio                       -0.308846\n",
              "num__babies_ratio                         -0.101604\n",
              "num__special_requests_per_guest           -0.778824\n",
              "num__lead_time_previous_cancel_ratio      -6.009426\n",
              "num__booking_changes_per_week             -0.190646\n",
              "Name: 0, dtype: float64"
            ]
          },
          "metadata": {},
          "execution_count": 201
        }
      ]
    },
    {
      "cell_type": "code",
      "source": [
        "other_features = {\n",
        "    'cat__market_segment_Aviation': [0.000000],\n",
        "    'cat__market_segment_Complementary': [0.000000],\n",
        "    'cat__market_segment_Corporate': [0.000000],\n",
        "    'cat__market_segment_Direct': [1.000000],\n",
        "    'cat__market_segment_Groups': [0.000000],\n",
        "    'cat__market_segment_Offline TA/TO': [0.000000],\n",
        "    'cat__market_segment_Online TA': [0.000000],\n",
        "    'cat__market_segment_Undefined': [0.000000],\n",
        "    'cat__distribution_channel_Corporate': [0.000000],\n",
        "    'cat__distribution_channel_Direct': [1.000000],\n",
        "    'cat__distribution_channel_GDS': [0.000000],\n",
        "    'cat__distribution_channel_TA/TO': [0.000000],\n",
        "    'cat__distribution_channel_Undefined': [0.000000]\n",
        "}\n",
        "\n",
        "other_features_df = pd.DataFrame(other_features)\n",
        "scaled_df = pd.concat([scaled_df, other_features_df], axis=1)\n",
        "scaled_df = scaled_df.drop(['num__cancelation_ratio', 'num__parking_special_ratio', 'num__booking_changes_waiting_time_ratio',\n",
        "               'num__adults_ratio', 'num__children_ratio', 'num__babies_ratio', 'num__special_requests_per_guest',\n",
        "               'num__lead_time_previous_cancel_ratio', 'num__booking_changes_per_week', 'num__lead_time'], axis=1)\n",
        "scaled_df.iloc[0]"
      ],
      "metadata": {
        "colab": {
          "base_uri": "https://localhost:8080/"
        },
        "id": "NuDCv0OvDytE",
        "outputId": "6ce3ea11-9098-4be1-9ef7-02e73bf2924f"
      },
      "execution_count": 202,
      "outputs": [
        {
          "output_type": "execute_result",
          "data": {
            "text/plain": [
              "num__is_canceled                      -0.615724\n",
              "num__arrival_date_year                -1.764027\n",
              "num__arrival_date_week_number          0.084951\n",
              "num__arrival_date_day_of_month        -1.224157\n",
              "num__stays_in_weekend_nights           2.902114\n",
              "num__stays_in_week_nights              1.643285\n",
              "num__adults                            1.794431\n",
              "num__children                         -0.304123\n",
              "num__babies                           -0.095288\n",
              "num__is_repeated_guest                -0.201653\n",
              "num__previous_cancellations           -0.082389\n",
              "num__previous_bookings_not_canceled   -0.106237\n",
              "num__booking_changes                   3.751709\n",
              "num__days_in_waiting_list             -0.074839\n",
              "num__adr                               0.329241\n",
              "num__required_car_parking_spaces       3.252828\n",
              "num__total_of_special_requests         0.362324\n",
              "cat__market_segment_Aviation           0.000000\n",
              "cat__market_segment_Complementary      0.000000\n",
              "cat__market_segment_Corporate          0.000000\n",
              "cat__market_segment_Direct             1.000000\n",
              "cat__market_segment_Groups             0.000000\n",
              "cat__market_segment_Offline TA/TO      0.000000\n",
              "cat__market_segment_Online TA          0.000000\n",
              "cat__market_segment_Undefined          0.000000\n",
              "cat__distribution_channel_Corporate    0.000000\n",
              "cat__distribution_channel_Direct       1.000000\n",
              "cat__distribution_channel_GDS          0.000000\n",
              "cat__distribution_channel_TA/TO        0.000000\n",
              "cat__distribution_channel_Undefined    0.000000\n",
              "Name: 0, dtype: float64"
            ]
          },
          "metadata": {},
          "execution_count": 202
        }
      ]
    },
    {
      "cell_type": "code",
      "source": [
        "y_val_pred = multi_output_regressor.predict(scaled_df)\n",
        "order = [\n",
        "    'num__cancelation_ratio',\n",
        "    'num__parking_special_ratio',\n",
        "    'num__booking_changes_waiting_time_ratio',\n",
        "    'num__adults_ratio',\n",
        "    'num__children_ratio',\n",
        "    'num__babies_ratio',\n",
        "    'num__special_requests_per_guest',\n",
        "    'num__lead_time_previous_cancel_ratio',\n",
        "    'num__booking_changes_per_week',\n",
        "    'num__lead_time'\n",
        "]\n",
        "\n",
        "df_kpis_regression = pd.DataFrame(data=y_val_pred, columns=order)\n",
        "df_kpis_regression.iloc[0]"
      ],
      "metadata": {
        "colab": {
          "base_uri": "https://localhost:8080/"
        },
        "id": "uvAxFJd-Mnul",
        "outputId": "3f77c9b5-50f2-42a7-bb73-f1d41cb5186c"
      },
      "execution_count": 211,
      "outputs": [
        {
          "output_type": "execute_result",
          "data": {
            "text/plain": [
              "num__cancelation_ratio                    -5.815765e-16\n",
              "num__parking_special_ratio                 5.070603e+00\n",
              "num__booking_changes_waiting_time_ratio    4.285963e-16\n",
              "num__adults_ratio                          3.242698e-01\n",
              "num__children_ratio                       -3.088456e-01\n",
              "num__babies_ratio                         -1.016045e-01\n",
              "num__special_requests_per_guest           -5.892768e-02\n",
              "num__lead_time_previous_cancel_ratio      -1.845320e-15\n",
              "num__booking_changes_per_week              9.025782e-01\n",
              "num__lead_time                             1.124744e-01\n",
              "Name: 0, dtype: float64"
            ]
          },
          "metadata": {},
          "execution_count": 211
        }
      ]
    },
    {
      "cell_type": "code",
      "source": [
        "df_encoded.iloc[152][order]"
      ],
      "metadata": {
        "colab": {
          "base_uri": "https://localhost:8080/"
        },
        "id": "wfrzd4I2SUtd",
        "outputId": "c76dd37c-ac21-4449-a32f-45144df4769e"
      },
      "execution_count": 218,
      "outputs": [
        {
          "output_type": "execute_result",
          "data": {
            "text/plain": [
              "num__cancelation_ratio                    -5.815765e-16\n",
              "num__parking_special_ratio                 5.070603e+00\n",
              "num__booking_changes_waiting_time_ratio    4.285963e-16\n",
              "num__adults_ratio                          3.242698e-01\n",
              "num__children_ratio                       -3.088456e-01\n",
              "num__babies_ratio                         -1.016045e-01\n",
              "num__special_requests_per_guest           -5.892768e-02\n",
              "num__lead_time_previous_cancel_ratio      -1.845320e-15\n",
              "num__booking_changes_per_week              9.025782e-01\n",
              "num__lead_time                             1.639550e-01\n",
              "Name: 152, dtype: float64"
            ]
          },
          "metadata": {},
          "execution_count": 218
        }
      ]
    },
    {
      "cell_type": "markdown",
      "source": [
        "Critical Dimensions' Prediction:"
      ],
      "metadata": {
        "id": "8wxvkbUg1AKE"
      }
    },
    {
      "cell_type": "code",
      "source": [
        "scaled_df.info()"
      ],
      "metadata": {
        "id": "sGO--i-t09hV",
        "colab": {
          "base_uri": "https://localhost:8080/"
        },
        "outputId": "5b8196ba-3c3b-425f-8842-ccd9a38f3d81"
      },
      "execution_count": 219,
      "outputs": [
        {
          "output_type": "stream",
          "name": "stdout",
          "text": [
            "<class 'pandas.core.frame.DataFrame'>\n",
            "RangeIndex: 1 entries, 0 to 0\n",
            "Data columns (total 30 columns):\n",
            " #   Column                               Non-Null Count  Dtype  \n",
            "---  ------                               --------------  -----  \n",
            " 0   num__is_canceled                     1 non-null      float64\n",
            " 1   num__arrival_date_year               1 non-null      float64\n",
            " 2   num__arrival_date_week_number        1 non-null      float64\n",
            " 3   num__arrival_date_day_of_month       1 non-null      float64\n",
            " 4   num__stays_in_weekend_nights         1 non-null      float64\n",
            " 5   num__stays_in_week_nights            1 non-null      float64\n",
            " 6   num__adults                          1 non-null      float64\n",
            " 7   num__children                        1 non-null      float64\n",
            " 8   num__babies                          1 non-null      float64\n",
            " 9   num__is_repeated_guest               1 non-null      float64\n",
            " 10  num__previous_cancellations          1 non-null      float64\n",
            " 11  num__previous_bookings_not_canceled  1 non-null      float64\n",
            " 12  num__booking_changes                 1 non-null      float64\n",
            " 13  num__days_in_waiting_list            1 non-null      float64\n",
            " 14  num__adr                             1 non-null      float64\n",
            " 15  num__required_car_parking_spaces     1 non-null      float64\n",
            " 16  num__total_of_special_requests       1 non-null      float64\n",
            " 17  cat__market_segment_Aviation         1 non-null      float64\n",
            " 18  cat__market_segment_Complementary    1 non-null      float64\n",
            " 19  cat__market_segment_Corporate        1 non-null      float64\n",
            " 20  cat__market_segment_Direct           1 non-null      float64\n",
            " 21  cat__market_segment_Groups           1 non-null      float64\n",
            " 22  cat__market_segment_Offline TA/TO    1 non-null      float64\n",
            " 23  cat__market_segment_Online TA        1 non-null      float64\n",
            " 24  cat__market_segment_Undefined        1 non-null      float64\n",
            " 25  cat__distribution_channel_Corporate  1 non-null      float64\n",
            " 26  cat__distribution_channel_Direct     1 non-null      float64\n",
            " 27  cat__distribution_channel_GDS        1 non-null      float64\n",
            " 28  cat__distribution_channel_TA/TO      1 non-null      float64\n",
            " 29  cat__distribution_channel_Undefined  1 non-null      float64\n",
            "dtypes: float64(30)\n",
            "memory usage: 368.0 bytes\n"
          ]
        }
      ]
    },
    {
      "cell_type": "code",
      "source": [
        "new_scaled_df = scaled_df.drop(columns=columns_to_drop)\n",
        "new_scaled_df.info()"
      ],
      "metadata": {
        "colab": {
          "base_uri": "https://localhost:8080/"
        },
        "id": "5UiseQOcS33f",
        "outputId": "237bf681-3b74-484a-e763-ebfa8de80233"
      },
      "execution_count": 220,
      "outputs": [
        {
          "output_type": "stream",
          "name": "stdout",
          "text": [
            "<class 'pandas.core.frame.DataFrame'>\n",
            "RangeIndex: 1 entries, 0 to 0\n",
            "Data columns (total 17 columns):\n",
            " #   Column                               Non-Null Count  Dtype  \n",
            "---  ------                               --------------  -----  \n",
            " 0   num__is_canceled                     1 non-null      float64\n",
            " 1   num__arrival_date_year               1 non-null      float64\n",
            " 2   num__arrival_date_week_number        1 non-null      float64\n",
            " 3   num__arrival_date_day_of_month       1 non-null      float64\n",
            " 4   num__stays_in_weekend_nights         1 non-null      float64\n",
            " 5   num__stays_in_week_nights            1 non-null      float64\n",
            " 6   num__adults                          1 non-null      float64\n",
            " 7   num__children                        1 non-null      float64\n",
            " 8   num__babies                          1 non-null      float64\n",
            " 9   num__is_repeated_guest               1 non-null      float64\n",
            " 10  num__previous_cancellations          1 non-null      float64\n",
            " 11  num__previous_bookings_not_canceled  1 non-null      float64\n",
            " 12  num__booking_changes                 1 non-null      float64\n",
            " 13  num__days_in_waiting_list            1 non-null      float64\n",
            " 14  num__adr                             1 non-null      float64\n",
            " 15  num__required_car_parking_spaces     1 non-null      float64\n",
            " 16  num__total_of_special_requests       1 non-null      float64\n",
            "dtypes: float64(17)\n",
            "memory usage: 264.0 bytes\n"
          ]
        }
      ]
    },
    {
      "cell_type": "code",
      "source": [
        "y_val_pred = multi_output_classifier.predict(new_scaled_df)\n",
        "cat_df = pd.DataFrame(data=y_val_pred, columns=columns_to_drop)\n",
        "cat_df.iloc[0]"
      ],
      "metadata": {
        "colab": {
          "base_uri": "https://localhost:8080/"
        },
        "id": "w1_dqTYWTDgg",
        "outputId": "2c1bced1-9b14-421c-ad6b-16091c33ef78"
      },
      "execution_count": 225,
      "outputs": [
        {
          "output_type": "execute_result",
          "data": {
            "text/plain": [
              "cat__market_segment_Aviation           0.0\n",
              "cat__market_segment_Complementary      0.0\n",
              "cat__market_segment_Corporate          0.0\n",
              "cat__market_segment_Direct             1.0\n",
              "cat__market_segment_Groups             0.0\n",
              "cat__market_segment_Offline TA/TO      0.0\n",
              "cat__market_segment_Online TA          0.0\n",
              "cat__market_segment_Undefined          0.0\n",
              "cat__distribution_channel_Corporate    0.0\n",
              "cat__distribution_channel_Direct       1.0\n",
              "cat__distribution_channel_GDS          0.0\n",
              "cat__distribution_channel_TA/TO        0.0\n",
              "cat__distribution_channel_Undefined    0.0\n",
              "Name: 0, dtype: float64"
            ]
          },
          "metadata": {},
          "execution_count": 225
        }
      ]
    },
    {
      "cell_type": "code",
      "source": [
        "df_encoded.iloc[152][columns_to_drop]"
      ],
      "metadata": {
        "colab": {
          "base_uri": "https://localhost:8080/"
        },
        "id": "L0y7einrURFW",
        "outputId": "027baf60-c22c-4fc9-90ad-e404a217976d"
      },
      "execution_count": 226,
      "outputs": [
        {
          "output_type": "execute_result",
          "data": {
            "text/plain": [
              "cat__market_segment_Aviation           0.0\n",
              "cat__market_segment_Complementary      0.0\n",
              "cat__market_segment_Corporate          0.0\n",
              "cat__market_segment_Direct             1.0\n",
              "cat__market_segment_Groups             0.0\n",
              "cat__market_segment_Offline TA/TO      0.0\n",
              "cat__market_segment_Online TA          0.0\n",
              "cat__market_segment_Undefined          0.0\n",
              "cat__distribution_channel_Corporate    0.0\n",
              "cat__distribution_channel_Direct       1.0\n",
              "cat__distribution_channel_GDS          0.0\n",
              "cat__distribution_channel_TA/TO        0.0\n",
              "cat__distribution_channel_Undefined    0.0\n",
              "Name: 152, dtype: float64"
            ]
          },
          "metadata": {},
          "execution_count": 226
        }
      ]
    }
  ],
  "metadata": {
    "colab": {
      "provenance": []
    },
    "kernelspec": {
      "display_name": "Python 3",
      "name": "python3"
    },
    "language_info": {
      "name": "python"
    }
  },
  "nbformat": 4,
  "nbformat_minor": 0
}