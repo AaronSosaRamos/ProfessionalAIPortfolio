{
  "nbformat": 4,
  "nbformat_minor": 0,
  "metadata": {
    "colab": {
      "provenance": []
    },
    "kernelspec": {
      "name": "python3",
      "display_name": "Python 3"
    },
    "language_info": {
      "name": "python"
    }
  },
  "cells": [
    {
      "cell_type": "markdown",
      "source": [
        "#Computer Vision"
      ],
      "metadata": {
        "id": "SE2Hc1WHpXbb"
      }
    },
    {
      "cell_type": "markdown",
      "source": [
        "#CNN for CIFAR10"
      ],
      "metadata": {
        "id": "A8XGHJ2-pbjq"
      }
    },
    {
      "cell_type": "code",
      "execution_count": null,
      "metadata": {
        "colab": {
          "base_uri": "https://localhost:8080/",
          "height": 1000
        },
        "id": "rzRxqQ6ipMcE",
        "outputId": "ff40c4d5-2075-4541-d546-bc921672d206"
      },
      "outputs": [
        {
          "output_type": "stream",
          "name": "stdout",
          "text": [
            "Model: \"sequential_1\"\n",
            "_________________________________________________________________\n",
            " Layer (type)                Output Shape              Param #   \n",
            "=================================================================\n",
            " conv2d_3 (Conv2D)           (None, 30, 30, 32)        896       \n",
            "                                                                 \n",
            " max_pooling2d_2 (MaxPoolin  (None, 15, 15, 32)        0         \n",
            " g2D)                                                            \n",
            "                                                                 \n",
            " conv2d_4 (Conv2D)           (None, 13, 13, 64)        18496     \n",
            "                                                                 \n",
            " max_pooling2d_3 (MaxPoolin  (None, 6, 6, 64)          0         \n",
            " g2D)                                                            \n",
            "                                                                 \n",
            " conv2d_5 (Conv2D)           (None, 4, 4, 64)          36928     \n",
            "                                                                 \n",
            " flatten_1 (Flatten)         (None, 1024)              0         \n",
            "                                                                 \n",
            " dense_2 (Dense)             (None, 64)                65600     \n",
            "                                                                 \n",
            " dense_3 (Dense)             (None, 10)                650       \n",
            "                                                                 \n",
            "=================================================================\n",
            "Total params: 122570 (478.79 KB)\n",
            "Trainable params: 122570 (478.79 KB)\n",
            "Non-trainable params: 0 (0.00 Byte)\n",
            "_________________________________________________________________\n",
            "Epoch 1/20\n",
            "1563/1563 [==============================] - 71s 45ms/step - loss: 1.4712 - accuracy: 0.4695 - val_loss: 1.2321 - val_accuracy: 0.5680\n",
            "Epoch 2/20\n",
            "1563/1563 [==============================] - 69s 44ms/step - loss: 1.0934 - accuracy: 0.6148 - val_loss: 0.9989 - val_accuracy: 0.6500\n",
            "Epoch 3/20\n",
            "1563/1563 [==============================] - 76s 49ms/step - loss: 0.9497 - accuracy: 0.6675 - val_loss: 0.9852 - val_accuracy: 0.6494\n",
            "Epoch 4/20\n",
            "1563/1563 [==============================] - 70s 44ms/step - loss: 0.8571 - accuracy: 0.7021 - val_loss: 0.8629 - val_accuracy: 0.7026\n",
            "Epoch 5/20\n",
            "1563/1563 [==============================] - 68s 43ms/step - loss: 0.7866 - accuracy: 0.7246 - val_loss: 0.9405 - val_accuracy: 0.6787\n",
            "Epoch 6/20\n",
            "1563/1563 [==============================] - 68s 43ms/step - loss: 0.7249 - accuracy: 0.7468 - val_loss: 0.8265 - val_accuracy: 0.7171\n",
            "Epoch 7/20\n",
            "1563/1563 [==============================] - 68s 43ms/step - loss: 0.6744 - accuracy: 0.7632 - val_loss: 0.8391 - val_accuracy: 0.7070\n",
            "Epoch 8/20\n",
            "1563/1563 [==============================] - 67s 43ms/step - loss: 0.6274 - accuracy: 0.7801 - val_loss: 0.8537 - val_accuracy: 0.7154\n",
            "Epoch 9/20\n",
            "1563/1563 [==============================] - 68s 44ms/step - loss: 0.5862 - accuracy: 0.7954 - val_loss: 0.8471 - val_accuracy: 0.7181\n",
            "Epoch 10/20\n",
            "1563/1563 [==============================] - 69s 44ms/step - loss: 0.5485 - accuracy: 0.8070 - val_loss: 0.8372 - val_accuracy: 0.7303\n",
            "Epoch 11/20\n",
            "1563/1563 [==============================] - 68s 44ms/step - loss: 0.5102 - accuracy: 0.8207 - val_loss: 0.8913 - val_accuracy: 0.7161\n",
            "Epoch 12/20\n",
            "1563/1563 [==============================] - 70s 45ms/step - loss: 0.4755 - accuracy: 0.8321 - val_loss: 0.9432 - val_accuracy: 0.7064\n",
            "Epoch 13/20\n",
            "1563/1563 [==============================] - 70s 45ms/step - loss: 0.4430 - accuracy: 0.8429 - val_loss: 0.9943 - val_accuracy: 0.7053\n",
            "Epoch 14/20\n",
            "1563/1563 [==============================] - 69s 44ms/step - loss: 0.4151 - accuracy: 0.8526 - val_loss: 0.9782 - val_accuracy: 0.7219\n",
            "Epoch 15/20\n",
            "1563/1563 [==============================] - 70s 45ms/step - loss: 0.3865 - accuracy: 0.8624 - val_loss: 0.9900 - val_accuracy: 0.7137\n",
            "Epoch 16/20\n",
            "1563/1563 [==============================] - 70s 45ms/step - loss: 0.3544 - accuracy: 0.8740 - val_loss: 1.0639 - val_accuracy: 0.7056\n",
            "Epoch 17/20\n",
            "1563/1563 [==============================] - 69s 44ms/step - loss: 0.3334 - accuracy: 0.8788 - val_loss: 1.1539 - val_accuracy: 0.7014\n",
            "Epoch 18/20\n",
            "1563/1563 [==============================] - 71s 45ms/step - loss: 0.3151 - accuracy: 0.8866 - val_loss: 1.1518 - val_accuracy: 0.7087\n",
            "Epoch 19/20\n",
            "1563/1563 [==============================] - 72s 46ms/step - loss: 0.2865 - accuracy: 0.8968 - val_loss: 1.2288 - val_accuracy: 0.7074\n",
            "Epoch 20/20\n",
            "1563/1563 [==============================] - 69s 44ms/step - loss: 0.2728 - accuracy: 0.9013 - val_loss: 1.1807 - val_accuracy: 0.7126\n",
            "313/313 [==============================] - 4s 13ms/step - loss: 1.1807 - accuracy: 0.7126\n",
            "Test accuracy: 0.7125999927520752\n"
          ]
        },
        {
          "output_type": "display_data",
          "data": {
            "text/plain": [
              "<Figure size 640x480 with 1 Axes>"
            ],
            "image/png": "[encoded data removed]"
          },
          "metadata": {}
        }
      ],
      "source": [
        "import tensorflow as tf\n",
        "from tensorflow.keras import layers, models, datasets\n",
        "import matplotlib.pyplot as plt\n",
        "\n",
        "# Load CIFAR-10 dataset\n",
        "(train_images, train_labels), (test_images, test_labels) = datasets.cifar10.load_data()\n",
        "\n",
        "# Normalize pixel values to be between 0 and 1\n",
        "train_images, test_images = train_images / 255.0, test_images / 255.0\n",
        "\n",
        "# Define the CNN model\n",
        "model = models.Sequential([\n",
        "    layers.Conv2D(32, (3, 3), activation='relu', input_shape=(32, 32, 3)),\n",
        "    layers.MaxPooling2D((2, 2)),\n",
        "    layers.Conv2D(64, (3, 3), activation='relu'),\n",
        "    layers.MaxPooling2D((2, 2)),\n",
        "    layers.Conv2D(64, (3, 3), activation='relu'),\n",
        "    layers.Flatten(),\n",
        "    layers.Dense(64, activation='relu'),\n",
        "    layers.Dense(10)\n",
        "])\n",
        "\n",
        "# Compile the model\n",
        "model.compile(optimizer='adam',\n",
        "              loss=tf.keras.losses.SparseCategoricalCrossentropy(from_logits=True),\n",
        "              metrics=['accuracy'])\n",
        "\n",
        "# Display model summary\n",
        "model.summary()\n",
        "\n",
        "# Train the model\n",
        "history = model.fit(train_images, train_labels, epochs=20,\n",
        "                    validation_data=(test_images, test_labels))\n",
        "\n",
        "# Evaluate the model\n",
        "test_loss, test_acc = model.evaluate(test_images, test_labels)\n",
        "print(f\"Test accuracy: {test_acc}\")\n",
        "\n",
        "# Plot training history\n",
        "plt.plot(history.history['accuracy'], label='accuracy')\n",
        "plt.plot(history.history['val_accuracy'], label='val_accuracy')\n",
        "plt.xlabel('Epoch')\n",
        "plt.ylabel('Accuracy')\n",
        "plt.ylim([0, 1])\n",
        "plt.legend(loc='lower right')\n",
        "plt.show()"
      ]
    },
    {
      "cell_type": "code",
      "source": [
        "# Class names corresponding to the CIFAR-10 dataset\n",
        "class_names = ['airplane', 'automobile', 'bird', 'cat', 'deer',\n",
        "               'dog', 'frog', 'horse', 'ship', 'truck']\n",
        "\n",
        "# Display the class names\n",
        "print(\"Class Names:\")\n",
        "for i in range(10):\n",
        "    print(f\"{i}: {class_names[i]}\")"
      ],
      "metadata": {
        "colab": {
          "base_uri": "https://localhost:8080/"
        },
        "id": "KBUM_e0Zp78A",
        "outputId": "673ef86c-f597-4e6b-c97c-6c81baa2bf4f"
      },
      "execution_count": null,
      "outputs": [
        {
          "output_type": "stream",
          "name": "stdout",
          "text": [
            "Class Names:\n",
            "0: airplane\n",
            "1: automobile\n",
            "2: bird\n",
            "3: cat\n",
            "4: deer\n",
            "5: dog\n",
            "6: frog\n",
            "7: horse\n",
            "8: ship\n",
            "9: truck\n"
          ]
        }
      ]
    },
    {
      "cell_type": "code",
      "source": [
        "import requests\n",
        "import os\n",
        "\n",
        "# URL of the image you want to download\n",
        "image_url = \"https://www.birds.cornell.edu/home/wp-content/uploads/2023/09/334289821-Baltimore_Oriole-Matthew_Plante.jpg\"\n",
        "\n",
        "# Directory path where you want to save the image\n",
        "save_dir = '/content/img'\n",
        "os.makedirs(save_dir, exist_ok=True)  # Create the directory if it doesn't exist\n",
        "\n",
        "# Filename for the saved image (extracted from the URL)\n",
        "image_filename = os.path.join(save_dir, os.path.basename(image_url))\n",
        "\n",
        "# Send a GET request to the image URL\n",
        "response = requests.get(image_url)\n",
        "\n",
        "# Check if the request was successful (status code 200)\n",
        "if response.status_code == 200:\n",
        "    # Open the file in binary write mode and save the image content\n",
        "    with open(image_filename, 'wb') as f:\n",
        "        f.write(response.content)\n",
        "    print(f\"Image downloaded successfully and saved as: {image_filename}\")\n",
        "else:\n",
        "    print(\"Failed to download image\")\n"
      ],
      "metadata": {
        "colab": {
          "base_uri": "https://localhost:8080/"
        },
        "id": "QX1hhp8Cz2TQ",
        "outputId": "ce2b8e5d-eb8b-4c47-ee79-3a0f19c4c2e7"
      },
      "execution_count": null,
      "outputs": [
        {
          "output_type": "stream",
          "name": "stdout",
          "text": [
            "Image downloaded successfully and saved as: /content/img/334289821-Baltimore_Oriole-Matthew_Plante.jpg\n"
          ]
        }
      ]
    },
    {
      "cell_type": "code",
      "source": [],
      "metadata": {
        "id": "bJlHpg-t0AOk"
      },
      "execution_count": null,
      "outputs": []
    },
    {
      "cell_type": "code",
      "source": [
        "import tensorflow as tf\n",
        "from tensorflow.keras.preprocessing import image\n",
        "import numpy as np\n",
        "import os\n",
        "\n",
        "# Define the class names corresponding to CIFAR-10 dataset\n",
        "class_names = ['airplane', 'automobile', 'bird', 'cat', 'deer',\n",
        "               'dog', 'frog', 'horse', 'ship', 'truck']\n",
        "\n",
        "# Path to the downloaded image file\n",
        "image_path = '/content/img/334289821-Baltimore_Oriole-Matthew_Plante.jpg'  # Provide the path to your downloaded image\n",
        "\n",
        "# Load the image using Keras' image.load_img function\n",
        "img = image.load_img(image_path, target_size=(32, 32))  # Resize image to match input size of your model\n",
        "img_array = image.img_to_array(img)  # Convert PIL image to numpy array\n",
        "img_array = img_array / 255.0  # Normalize pixel values\n",
        "\n",
        "# Add a batch dimension and preprocess the image for prediction\n",
        "img_input = np.expand_dims(img_array, axis=0)\n",
        "\n",
        "# Make predictions\n",
        "predictions = model.predict(img_input)\n",
        "\n",
        "# Get predicted class index (highest probability)\n",
        "predicted_class_index = np.argmax(predictions[0])\n",
        "\n",
        "# Get predicted class label\n",
        "predicted_class = class_names[predicted_class_index]\n",
        "\n",
        "# Display the predicted class\n",
        "print(f\"Predicted Class: {predicted_class}\")"
      ],
      "metadata": {
        "colab": {
          "base_uri": "https://localhost:8080/"
        },
        "id": "QzMwOQ9s0YUo",
        "outputId": "57ad459a-0d42-41ae-9a25-203d8f146ae9"
      },
      "execution_count": null,
      "outputs": [
        {
          "output_type": "stream",
          "name": "stdout",
          "text": [
            "1/1 [==============================] - 0s 193ms/step\n",
            "Predicted Class: bird\n"
          ]
        }
      ]
    }
  ]
}