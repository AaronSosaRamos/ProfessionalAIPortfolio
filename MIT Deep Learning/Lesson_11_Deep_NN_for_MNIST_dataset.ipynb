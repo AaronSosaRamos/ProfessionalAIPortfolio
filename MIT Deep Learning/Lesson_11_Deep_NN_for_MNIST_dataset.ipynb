{
  "nbformat": 4,
  "nbformat_minor": 0,
  "metadata": {
    "colab": {
      "provenance": []
    },
    "kernelspec": {
      "name": "python3",
      "display_name": "Python 3"
    },
    "language_info": {
      "name": "python"
    }
  },
  "cells": [
    {
      "cell_type": "markdown",
      "source": [
        "#Deep NN for MNIST dataset"
      ],
      "metadata": {
        "id": "nOanmpiTKBTv"
      }
    },
    {
      "cell_type": "code",
      "execution_count": null,
      "metadata": {
        "colab": {
          "base_uri": "https://localhost:8080/"
        },
        "id": "6tD4htLeJqTI",
        "outputId": "eb9780b0-14e8-4423-efd7-8e1da71e9589"
      },
      "outputs": [
        {
          "output_type": "stream",
          "name": "stdout",
          "text": [
            "Downloading data from https://storage.googleapis.com/tensorflow/tf-keras-datasets/mnist.npz\n",
            "11490434/11490434 [==============================] - 0s 0us/step\n",
            "Epoch 1/20\n",
            "422/422 [==============================] - 50s 114ms/step - loss: 0.3069 - accuracy: 0.9057 - val_loss: 0.0571 - val_accuracy: 0.9847 - lr: 0.0010\n",
            "Epoch 2/20\n",
            "422/422 [==============================] - 42s 99ms/step - loss: 0.0970 - accuracy: 0.9707 - val_loss: 0.0459 - val_accuracy: 0.9870 - lr: 0.0010\n",
            "Epoch 3/20\n",
            "422/422 [==============================] - 43s 101ms/step - loss: 0.0710 - accuracy: 0.9794 - val_loss: 0.0429 - val_accuracy: 0.9878 - lr: 0.0010\n",
            "Epoch 4/20\n",
            "422/422 [==============================] - 41s 98ms/step - loss: 0.0598 - accuracy: 0.9823 - val_loss: 0.0356 - val_accuracy: 0.9885 - lr: 0.0010\n",
            "Epoch 5/20\n",
            "422/422 [==============================] - 41s 98ms/step - loss: 0.0494 - accuracy: 0.9854 - val_loss: 0.0361 - val_accuracy: 0.9918 - lr: 0.0010\n",
            "Epoch 6/20\n",
            "422/422 [==============================] - 42s 101ms/step - loss: 0.0438 - accuracy: 0.9862 - val_loss: 0.0327 - val_accuracy: 0.9917 - lr: 0.0010\n",
            "Epoch 7/20\n",
            "422/422 [==============================] - 42s 99ms/step - loss: 0.0364 - accuracy: 0.9886 - val_loss: 0.0299 - val_accuracy: 0.9920 - lr: 9.0484e-04\n",
            "Epoch 8/20\n",
            "422/422 [==============================] - 41s 98ms/step - loss: 0.0316 - accuracy: 0.9900 - val_loss: 0.0336 - val_accuracy: 0.9917 - lr: 8.1873e-04\n",
            "Epoch 9/20\n",
            "422/422 [==============================] - 43s 102ms/step - loss: 0.0279 - accuracy: 0.9915 - val_loss: 0.0335 - val_accuracy: 0.9910 - lr: 7.4082e-04\n",
            "Epoch 10/20\n",
            "422/422 [==============================] - 43s 102ms/step - loss: 0.0235 - accuracy: 0.9926 - val_loss: 0.0330 - val_accuracy: 0.9923 - lr: 6.7032e-04\n",
            "Test accuracy: 99.26%\n"
          ]
        }
      ],
      "source": [
        "# Import libraries\n",
        "import tensorflow as tf\n",
        "from tensorflow.keras.datasets import mnist\n",
        "from tensorflow.keras.models import Sequential\n",
        "from tensorflow.keras.layers import Conv2D, MaxPooling2D, Flatten, Dense, Dropout\n",
        "from tensorflow.keras.callbacks import EarlyStopping, LearningRateScheduler\n",
        "from tensorflow.keras.optimizers import Adam\n",
        "from tensorflow.keras.utils import to_categorical\n",
        "import numpy as np\n",
        "\n",
        "# Step 1: Load and Preprocess Data\n",
        "(X_train, y_train), (X_test, y_test) = mnist.load_data()\n",
        "\n",
        "# Normalize pixel values to be between 0 and 1\n",
        "X_train = X_train.reshape(-1, 28, 28, 1) / 255.0\n",
        "X_test = X_test.reshape(-1, 28, 28, 1) / 255.0\n",
        "\n",
        "# One-hot encode labels\n",
        "y_train = to_categorical(y_train, num_classes=10)\n",
        "y_test = to_categorical(y_test, num_classes=10)\n",
        "\n",
        "# Step 2: Build the Convolutional Neural Network (CNN)\n",
        "model = Sequential([\n",
        "    Conv2D(32, (3, 3), activation='relu', input_shape=(28, 28, 1)),\n",
        "    MaxPooling2D((2, 2)),\n",
        "    Conv2D(64, (3, 3), activation='relu'),\n",
        "    MaxPooling2D((2, 2)),\n",
        "    Flatten(),\n",
        "    Dense(128, activation='relu'),\n",
        "    Dropout(0.5),\n",
        "    Dense(10, activation='softmax')\n",
        "])\n",
        "\n",
        "# Step 3: Compile the Model\n",
        "model.compile(optimizer=Adam(),\n",
        "              loss='categorical_crossentropy',\n",
        "              metrics=['accuracy'])\n",
        "\n",
        "# Step 4: Define Callbacks (EarlyStopping and LearningRateScheduler)\n",
        "early_stopping = EarlyStopping(monitor='val_loss', patience=3, restore_best_weights=True)\n",
        "\n",
        "def lr_scheduler(epoch):\n",
        "    if epoch < 5:\n",
        "        return 0.001\n",
        "    else:\n",
        "        return 0.001 * np.exp(0.1 * (5 - epoch))\n",
        "\n",
        "learning_rate_scheduler = LearningRateScheduler(lr_scheduler)\n",
        "\n",
        "# Step 5: Train the Model with Callbacks\n",
        "history = model.fit(X_train, y_train,\n",
        "                    batch_size=128,\n",
        "                    epochs=20,\n",
        "                    verbose=1,\n",
        "                    validation_split=0.1,\n",
        "                    callbacks=[early_stopping, learning_rate_scheduler])\n",
        "\n",
        "# Step 6: Evaluate the Model\n",
        "test_loss, test_acc = model.evaluate(X_test, y_test, verbose=0)\n",
        "print(f'Test accuracy: {test_acc * 100:.2f}%')"
      ]
    },
    {
      "cell_type": "code",
      "source": [
        "# Import necessary libraries\n",
        "import numpy as np\n",
        "import matplotlib.pyplot as plt\n",
        "from tensorflow.keras.datasets import mnist\n",
        "from tensorflow.keras.models import load_model\n",
        "\n",
        "# Load the MNIST dataset\n",
        "(_, _), (X_test, y_test) = mnist.load_data()\n",
        "\n",
        "# Choose an image from the test set (for example, the first image)\n",
        "image_index = 0  # Change this index to select a different image\n",
        "test_image = X_test[image_index]\n",
        "\n",
        "# Preprocess the image\n",
        "test_image = test_image.reshape(1, 28, 28, 1)  # Reshape to match model input shape\n",
        "test_image = test_image / 255.0  # Normalize pixel values (similar to training data)\n",
        "\n",
        "# Perform prediction\n",
        "predictions = model.predict(test_image)\n",
        "\n",
        "# Get the predicted digit (index of the highest probability class)\n",
        "predicted_digit = np.argmax(predictions)\n",
        "\n",
        "# Display the image and prediction result\n",
        "plt.imshow(test_image.reshape(28, 28), cmap='gray')\n",
        "plt.title(f'Predicted Digit: {predicted_digit}')\n",
        "plt.axis('off')\n",
        "plt.show()"
      ],
      "metadata": {
        "colab": {
          "base_uri": "https://localhost:8080/",
          "height": 445
        },
        "id": "6a4yPuecOQAe",
        "outputId": "39d43c77-d8d3-43e3-8a08-388379dfa236"
      },
      "execution_count": null,
      "outputs": [
        {
          "output_type": "stream",
          "name": "stdout",
          "text": [
            "1/1 [==============================] - 0s 56ms/step\n"
          ]
        },
        {
          "output_type": "display_data",
          "data": {
            "text/plain": [
              "<Figure size 640x480 with 1 Axes>"
            ],
            "image/png": "[encoded data removed]"
          },
          "metadata": {}
        }
      ]
    },
    {
      "cell_type": "code",
      "source": [
        "# Import necessary libraries\n",
        "import numpy as np\n",
        "import matplotlib.pyplot as plt\n",
        "from PIL import Image\n",
        "import requests\n",
        "from io import BytesIO\n",
        "\n",
        "# Function to preprocess the image\n",
        "def preprocess_image(image_path):\n",
        "    # Load the image\n",
        "    response = requests.get(image_path)\n",
        "    image = Image.open(BytesIO(response.content))\n",
        "\n",
        "    # Resize the image to 28x28 and convert to grayscale\n",
        "    image = image.resize((28, 28)).convert('L')\n",
        "\n",
        "    # Convert image to numpy array\n",
        "    image_array = np.array(image)\n",
        "\n",
        "    # Normalize the pixel values (similar to training data)\n",
        "    image_array = image_array / 255.0\n",
        "\n",
        "    # Reshape the image to match the model input format (1 sample, 28x28 pixels, 1 channel)\n",
        "    image_array = image_array.reshape(1, 28, 28, 1)\n",
        "\n",
        "    return image_array\n",
        "\n",
        "# URL of the image you want to test\n",
        "image_url = 'https://i.pinimg.com/originals/59/02/6a/59026a58d480b3297899be25481d80fa.jpg'\n",
        "\n",
        "# Preprocess the image\n",
        "test_image = preprocess_image(image_url)\n",
        "\n",
        "# Perform prediction\n",
        "predictions = model.predict(test_image)\n",
        "\n",
        "# Get the predicted digit (index of the highest probability class)\n",
        "predicted_digit = np.argmax(predictions)\n",
        "\n",
        "# Display the image and prediction result\n",
        "plt.imshow(test_image.reshape(28, 28), cmap='gray')\n",
        "plt.title(f'Predicted Digit: {predicted_digit}')\n",
        "plt.axis('off')\n",
        "plt.show()\n"
      ],
      "metadata": {
        "colab": {
          "base_uri": "https://localhost:8080/",
          "height": 445
        },
        "id": "UhIEoLL9Own_",
        "outputId": "74ba5272-fb84-484d-8751-ec8268d6d607"
      },
      "execution_count": null,
      "outputs": [
        {
          "output_type": "stream",
          "name": "stdout",
          "text": [
            "1/1 [==============================] - 0s 22ms/step\n"
          ]
        },
        {
          "output_type": "display_data",
          "data": {
            "text/plain": [
              "<Figure size 640x480 with 1 Axes>"
            ],
            "image/png": "[encoded data removed]"
          },
          "metadata": {}
        }
      ]
    },
    {
      "cell_type": "code",
      "source": [
        "# URL of the image you want to test\n",
        "image_url = 'https://i.pinimg.com/originals/57/3a/ea/573aea4cdb1ce4f872108d51d473a5b0.jpg'\n",
        "\n",
        "# Preprocess the image\n",
        "test_image = preprocess_image(image_url)\n",
        "\n",
        "# Perform prediction\n",
        "predictions = model.predict(test_image)\n",
        "\n",
        "# Get the predicted digit (index of the highest probability class)\n",
        "predicted_digit = np.argmax(predictions)\n",
        "\n",
        "# Display the image and prediction result\n",
        "plt.imshow(test_image.reshape(28, 28), cmap='gray')\n",
        "plt.title(f'Predicted Digit: {predicted_digit}')\n",
        "plt.axis('off')\n",
        "plt.show()"
      ],
      "metadata": {
        "colab": {
          "base_uri": "https://localhost:8080/",
          "height": 445
        },
        "id": "mkKW9x7FQWvP",
        "outputId": "e13c5dbd-467b-410a-e6f1-a7419e19b00a"
      },
      "execution_count": null,
      "outputs": [
        {
          "output_type": "stream",
          "name": "stdout",
          "text": [
            "1/1 [==============================] - 0s 38ms/step\n"
          ]
        },
        {
          "output_type": "display_data",
          "data": {
            "text/plain": [
              "<Figure size 640x480 with 1 Axes>"
            ],
            "image/png": "[encoded data removed]"
          },
          "metadata": {}
        }
      ]
    },
    {
      "cell_type": "code",
      "source": [
        "# URL of the image you want to test\n",
        "image_url = 'https://st3.depositphotos.com/7920174/19403/v/600/depositphotos_194035398-stock-video-handwritten-white-chalk-arabic-numbers.jpg'\n",
        "\n",
        "# Preprocess the image\n",
        "test_image = preprocess_image(image_url)\n",
        "\n",
        "# Perform prediction\n",
        "predictions = model.predict(test_image)\n",
        "\n",
        "# Get the predicted digit (index of the highest probability class)\n",
        "predicted_digit = np.argmax(predictions)\n",
        "\n",
        "# Display the image and prediction result\n",
        "plt.imshow(test_image.reshape(28, 28), cmap='gray')\n",
        "plt.title(f'Predicted Digit: {predicted_digit}')\n",
        "plt.axis('off')\n",
        "plt.show()"
      ],
      "metadata": {
        "id": "mchWui16QnVR",
        "outputId": "677f6e73-cab7-4c55-e36b-59967c3ace98",
        "colab": {
          "base_uri": "https://localhost:8080/",
          "height": 445
        }
      },
      "execution_count": null,
      "outputs": [
        {
          "output_type": "stream",
          "name": "stdout",
          "text": [
            "1/1 [==============================] - 0s 26ms/step\n"
          ]
        },
        {
          "output_type": "display_data",
          "data": {
            "text/plain": [
              "<Figure size 640x480 with 1 Axes>"
            ],
            "image/png": "[encoded data removed]"
          },
          "metadata": {}
        }
      ]
    }
  ]
}